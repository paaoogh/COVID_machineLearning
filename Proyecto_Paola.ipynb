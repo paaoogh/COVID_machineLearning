{
 "cells": [
  {
   "cell_type": "code",
   "execution_count": 1,
   "metadata": {},
   "outputs": [],
   "source": [
    "# -*- coding: <UTF-8> -*- \n",
    "import pandas as pd"
   ]
  },
  {
   "cell_type": "code",
   "execution_count": 2,
   "metadata": {},
   "outputs": [],
   "source": [
    "data = pd.read_csv(\"COVIDMEXICO.csv\")"
   ]
  },
  {
   "cell_type": "code",
   "execution_count": 3,
   "metadata": {},
   "outputs": [],
   "source": [
    "data.set_index(\"ID_REGISTRO\", inplace = True) "
   ]
  },
  {
   "cell_type": "code",
   "execution_count": 4,
   "metadata": {},
   "outputs": [
    {
     "data": {
      "text/html": [
       "<div>\n",
       "<style scoped>\n",
       "    .dataframe tbody tr th:only-of-type {\n",
       "        vertical-align: middle;\n",
       "    }\n",
       "\n",
       "    .dataframe tbody tr th {\n",
       "        vertical-align: top;\n",
       "    }\n",
       "\n",
       "    .dataframe thead th {\n",
       "        text-align: right;\n",
       "    }\n",
       "</style>\n",
       "<table border=\"1\" class=\"dataframe\">\n",
       "  <thead>\n",
       "    <tr style=\"text-align: right;\">\n",
       "      <th></th>\n",
       "      <th>FECHA_ACTUALIZACION</th>\n",
       "      <th>ORIGEN</th>\n",
       "      <th>SECTOR</th>\n",
       "      <th>ENTIDAD_UM</th>\n",
       "      <th>SEXO</th>\n",
       "      <th>ENTIDAD_NAC</th>\n",
       "      <th>ENTIDAD_RES</th>\n",
       "      <th>MUNICIPIO_RES</th>\n",
       "      <th>TIPO_PACIENTE</th>\n",
       "      <th>FECHA_INGRESO</th>\n",
       "      <th>...</th>\n",
       "      <th>CARDIOVASCULAR</th>\n",
       "      <th>OBESIDAD</th>\n",
       "      <th>RENAL_CRONICA</th>\n",
       "      <th>TABAQUISMO</th>\n",
       "      <th>OTRO_CASO</th>\n",
       "      <th>RESULTADO</th>\n",
       "      <th>MIGRANTE</th>\n",
       "      <th>PAIS_NACIONALIDAD</th>\n",
       "      <th>PAIS_ORIGEN</th>\n",
       "      <th>UCI</th>\n",
       "    </tr>\n",
       "    <tr>\n",
       "      <th>ID_REGISTRO</th>\n",
       "      <th></th>\n",
       "      <th></th>\n",
       "      <th></th>\n",
       "      <th></th>\n",
       "      <th></th>\n",
       "      <th></th>\n",
       "      <th></th>\n",
       "      <th></th>\n",
       "      <th></th>\n",
       "      <th></th>\n",
       "      <th></th>\n",
       "      <th></th>\n",
       "      <th></th>\n",
       "      <th></th>\n",
       "      <th></th>\n",
       "      <th></th>\n",
       "      <th></th>\n",
       "      <th></th>\n",
       "      <th></th>\n",
       "      <th></th>\n",
       "      <th></th>\n",
       "    </tr>\n",
       "  </thead>\n",
       "  <tbody>\n",
       "    <tr>\n",
       "      <td>0192e7</td>\n",
       "      <td>2020-05-28</td>\n",
       "      <td>2</td>\n",
       "      <td>3</td>\n",
       "      <td>2</td>\n",
       "      <td>2</td>\n",
       "      <td>2</td>\n",
       "      <td>2</td>\n",
       "      <td>2</td>\n",
       "      <td>2</td>\n",
       "      <td>2020-04-06</td>\n",
       "      <td>...</td>\n",
       "      <td>2</td>\n",
       "      <td>2</td>\n",
       "      <td>1</td>\n",
       "      <td>2</td>\n",
       "      <td>99</td>\n",
       "      <td>1</td>\n",
       "      <td>99</td>\n",
       "      <td>México</td>\n",
       "      <td>99</td>\n",
       "      <td>1</td>\n",
       "    </tr>\n",
       "    <tr>\n",
       "      <td>02e0df</td>\n",
       "      <td>2020-05-28</td>\n",
       "      <td>2</td>\n",
       "      <td>4</td>\n",
       "      <td>12</td>\n",
       "      <td>2</td>\n",
       "      <td>12</td>\n",
       "      <td>12</td>\n",
       "      <td>1</td>\n",
       "      <td>2</td>\n",
       "      <td>2020-03-26</td>\n",
       "      <td>...</td>\n",
       "      <td>2</td>\n",
       "      <td>1</td>\n",
       "      <td>2</td>\n",
       "      <td>2</td>\n",
       "      <td>99</td>\n",
       "      <td>1</td>\n",
       "      <td>99</td>\n",
       "      <td>México</td>\n",
       "      <td>99</td>\n",
       "      <td>1</td>\n",
       "    </tr>\n",
       "    <tr>\n",
       "      <td>02b7ac</td>\n",
       "      <td>2020-05-28</td>\n",
       "      <td>2</td>\n",
       "      <td>4</td>\n",
       "      <td>14</td>\n",
       "      <td>1</td>\n",
       "      <td>14</td>\n",
       "      <td>14</td>\n",
       "      <td>120</td>\n",
       "      <td>1</td>\n",
       "      <td>2020-04-07</td>\n",
       "      <td>...</td>\n",
       "      <td>2</td>\n",
       "      <td>2</td>\n",
       "      <td>2</td>\n",
       "      <td>2</td>\n",
       "      <td>99</td>\n",
       "      <td>1</td>\n",
       "      <td>99</td>\n",
       "      <td>México</td>\n",
       "      <td>99</td>\n",
       "      <td>97</td>\n",
       "    </tr>\n",
       "    <tr>\n",
       "      <td>17979d</td>\n",
       "      <td>2020-05-28</td>\n",
       "      <td>2</td>\n",
       "      <td>4</td>\n",
       "      <td>27</td>\n",
       "      <td>1</td>\n",
       "      <td>27</td>\n",
       "      <td>27</td>\n",
       "      <td>4</td>\n",
       "      <td>1</td>\n",
       "      <td>2020-04-20</td>\n",
       "      <td>...</td>\n",
       "      <td>2</td>\n",
       "      <td>1</td>\n",
       "      <td>2</td>\n",
       "      <td>2</td>\n",
       "      <td>99</td>\n",
       "      <td>1</td>\n",
       "      <td>99</td>\n",
       "      <td>México</td>\n",
       "      <td>99</td>\n",
       "      <td>97</td>\n",
       "    </tr>\n",
       "    <tr>\n",
       "      <td>15778b</td>\n",
       "      <td>2020-05-28</td>\n",
       "      <td>2</td>\n",
       "      <td>4</td>\n",
       "      <td>27</td>\n",
       "      <td>1</td>\n",
       "      <td>27</td>\n",
       "      <td>27</td>\n",
       "      <td>4</td>\n",
       "      <td>1</td>\n",
       "      <td>2020-04-09</td>\n",
       "      <td>...</td>\n",
       "      <td>2</td>\n",
       "      <td>2</td>\n",
       "      <td>2</td>\n",
       "      <td>2</td>\n",
       "      <td>99</td>\n",
       "      <td>1</td>\n",
       "      <td>99</td>\n",
       "      <td>México</td>\n",
       "      <td>99</td>\n",
       "      <td>97</td>\n",
       "    </tr>\n",
       "    <tr>\n",
       "      <td>...</td>\n",
       "      <td>...</td>\n",
       "      <td>...</td>\n",
       "      <td>...</td>\n",
       "      <td>...</td>\n",
       "      <td>...</td>\n",
       "      <td>...</td>\n",
       "      <td>...</td>\n",
       "      <td>...</td>\n",
       "      <td>...</td>\n",
       "      <td>...</td>\n",
       "      <td>...</td>\n",
       "      <td>...</td>\n",
       "      <td>...</td>\n",
       "      <td>...</td>\n",
       "      <td>...</td>\n",
       "      <td>...</td>\n",
       "      <td>...</td>\n",
       "      <td>...</td>\n",
       "      <td>...</td>\n",
       "      <td>...</td>\n",
       "      <td>...</td>\n",
       "    </tr>\n",
       "    <tr>\n",
       "      <td>16275d</td>\n",
       "      <td>2020-05-28</td>\n",
       "      <td>1</td>\n",
       "      <td>12</td>\n",
       "      <td>7</td>\n",
       "      <td>2</td>\n",
       "      <td>7</td>\n",
       "      <td>7</td>\n",
       "      <td>101</td>\n",
       "      <td>1</td>\n",
       "      <td>2020-05-26</td>\n",
       "      <td>...</td>\n",
       "      <td>2</td>\n",
       "      <td>2</td>\n",
       "      <td>2</td>\n",
       "      <td>2</td>\n",
       "      <td>2</td>\n",
       "      <td>3</td>\n",
       "      <td>99</td>\n",
       "      <td>México</td>\n",
       "      <td>99</td>\n",
       "      <td>97</td>\n",
       "    </tr>\n",
       "    <tr>\n",
       "      <td>107e21</td>\n",
       "      <td>2020-05-28</td>\n",
       "      <td>2</td>\n",
       "      <td>12</td>\n",
       "      <td>21</td>\n",
       "      <td>1</td>\n",
       "      <td>21</td>\n",
       "      <td>21</td>\n",
       "      <td>74</td>\n",
       "      <td>1</td>\n",
       "      <td>2020-05-27</td>\n",
       "      <td>...</td>\n",
       "      <td>2</td>\n",
       "      <td>2</td>\n",
       "      <td>2</td>\n",
       "      <td>2</td>\n",
       "      <td>1</td>\n",
       "      <td>3</td>\n",
       "      <td>99</td>\n",
       "      <td>México</td>\n",
       "      <td>99</td>\n",
       "      <td>97</td>\n",
       "    </tr>\n",
       "    <tr>\n",
       "      <td>0bdab3</td>\n",
       "      <td>2020-05-28</td>\n",
       "      <td>1</td>\n",
       "      <td>12</td>\n",
       "      <td>9</td>\n",
       "      <td>1</td>\n",
       "      <td>9</td>\n",
       "      <td>9</td>\n",
       "      <td>11</td>\n",
       "      <td>1</td>\n",
       "      <td>2020-05-27</td>\n",
       "      <td>...</td>\n",
       "      <td>2</td>\n",
       "      <td>2</td>\n",
       "      <td>2</td>\n",
       "      <td>2</td>\n",
       "      <td>2</td>\n",
       "      <td>3</td>\n",
       "      <td>99</td>\n",
       "      <td>México</td>\n",
       "      <td>99</td>\n",
       "      <td>97</td>\n",
       "    </tr>\n",
       "    <tr>\n",
       "      <td>0d6a96</td>\n",
       "      <td>2020-05-28</td>\n",
       "      <td>2</td>\n",
       "      <td>8</td>\n",
       "      <td>30</td>\n",
       "      <td>1</td>\n",
       "      <td>21</td>\n",
       "      <td>21</td>\n",
       "      <td>71</td>\n",
       "      <td>2</td>\n",
       "      <td>2020-05-25</td>\n",
       "      <td>...</td>\n",
       "      <td>2</td>\n",
       "      <td>1</td>\n",
       "      <td>1</td>\n",
       "      <td>2</td>\n",
       "      <td>2</td>\n",
       "      <td>3</td>\n",
       "      <td>99</td>\n",
       "      <td>México</td>\n",
       "      <td>99</td>\n",
       "      <td>2</td>\n",
       "    </tr>\n",
       "    <tr>\n",
       "      <td>069076</td>\n",
       "      <td>2020-05-28</td>\n",
       "      <td>2</td>\n",
       "      <td>12</td>\n",
       "      <td>2</td>\n",
       "      <td>1</td>\n",
       "      <td>2</td>\n",
       "      <td>2</td>\n",
       "      <td>2</td>\n",
       "      <td>1</td>\n",
       "      <td>2020-04-28</td>\n",
       "      <td>...</td>\n",
       "      <td>2</td>\n",
       "      <td>2</td>\n",
       "      <td>2</td>\n",
       "      <td>2</td>\n",
       "      <td>1</td>\n",
       "      <td>3</td>\n",
       "      <td>99</td>\n",
       "      <td>México</td>\n",
       "      <td>99</td>\n",
       "      <td>97</td>\n",
       "    </tr>\n",
       "  </tbody>\n",
       "</table>\n",
       "<p>254794 rows × 34 columns</p>\n",
       "</div>"
      ],
      "text/plain": [
       "            FECHA_ACTUALIZACION  ORIGEN  SECTOR  ENTIDAD_UM  SEXO  \\\n",
       "ID_REGISTRO                                                         \n",
       "0192e7               2020-05-28       2       3           2     2   \n",
       "02e0df               2020-05-28       2       4          12     2   \n",
       "02b7ac               2020-05-28       2       4          14     1   \n",
       "17979d               2020-05-28       2       4          27     1   \n",
       "15778b               2020-05-28       2       4          27     1   \n",
       "...                         ...     ...     ...         ...   ...   \n",
       "16275d               2020-05-28       1      12           7     2   \n",
       "107e21               2020-05-28       2      12          21     1   \n",
       "0bdab3               2020-05-28       1      12           9     1   \n",
       "0d6a96               2020-05-28       2       8          30     1   \n",
       "069076               2020-05-28       2      12           2     1   \n",
       "\n",
       "             ENTIDAD_NAC  ENTIDAD_RES  MUNICIPIO_RES  TIPO_PACIENTE  \\\n",
       "ID_REGISTRO                                                           \n",
       "0192e7                 2            2              2              2   \n",
       "02e0df                12           12              1              2   \n",
       "02b7ac                14           14            120              1   \n",
       "17979d                27           27              4              1   \n",
       "15778b                27           27              4              1   \n",
       "...                  ...          ...            ...            ...   \n",
       "16275d                 7            7            101              1   \n",
       "107e21                21           21             74              1   \n",
       "0bdab3                 9            9             11              1   \n",
       "0d6a96                21           21             71              2   \n",
       "069076                 2            2              2              1   \n",
       "\n",
       "            FECHA_INGRESO  ... CARDIOVASCULAR OBESIDAD  RENAL_CRONICA  \\\n",
       "ID_REGISTRO                ...                                          \n",
       "0192e7         2020-04-06  ...              2        2              1   \n",
       "02e0df         2020-03-26  ...              2        1              2   \n",
       "02b7ac         2020-04-07  ...              2        2              2   \n",
       "17979d         2020-04-20  ...              2        1              2   \n",
       "15778b         2020-04-09  ...              2        2              2   \n",
       "...                   ...  ...            ...      ...            ...   \n",
       "16275d         2020-05-26  ...              2        2              2   \n",
       "107e21         2020-05-27  ...              2        2              2   \n",
       "0bdab3         2020-05-27  ...              2        2              2   \n",
       "0d6a96         2020-05-25  ...              2        1              1   \n",
       "069076         2020-04-28  ...              2        2              2   \n",
       "\n",
       "             TABAQUISMO  OTRO_CASO  RESULTADO  MIGRANTE  PAIS_NACIONALIDAD  \\\n",
       "ID_REGISTRO                                                                  \n",
       "0192e7                2         99          1        99             México   \n",
       "02e0df                2         99          1        99             México   \n",
       "02b7ac                2         99          1        99             México   \n",
       "17979d                2         99          1        99             México   \n",
       "15778b                2         99          1        99             México   \n",
       "...                 ...        ...        ...       ...                ...   \n",
       "16275d                2          2          3        99             México   \n",
       "107e21                2          1          3        99             México   \n",
       "0bdab3                2          2          3        99             México   \n",
       "0d6a96                2          2          3        99             México   \n",
       "069076                2          1          3        99             México   \n",
       "\n",
       "             PAIS_ORIGEN  UCI  \n",
       "ID_REGISTRO                    \n",
       "0192e7                99    1  \n",
       "02e0df                99    1  \n",
       "02b7ac                99   97  \n",
       "17979d                99   97  \n",
       "15778b                99   97  \n",
       "...                  ...  ...  \n",
       "16275d                99   97  \n",
       "107e21                99   97  \n",
       "0bdab3                99   97  \n",
       "0d6a96                99    2  \n",
       "069076                99   97  \n",
       "\n",
       "[254794 rows x 34 columns]"
      ]
     },
     "execution_count": 4,
     "metadata": {},
     "output_type": "execute_result"
    }
   ],
   "source": [
    "data"
   ]
  },
  {
   "cell_type": "code",
   "execution_count": 5,
   "metadata": {},
   "outputs": [
    {
     "data": {
      "text/plain": [
       "0"
      ]
     },
     "execution_count": 5,
     "metadata": {},
     "output_type": "execute_result"
    }
   ],
   "source": [
    "data.isnull().sum().sum()"
   ]
  },
  {
   "cell_type": "code",
   "execution_count": 6,
   "metadata": {},
   "outputs": [],
   "source": [
    "data['PAIS_NACIONALIDAD'] = data['PAIS_NACIONALIDAD'].str.replace(u\"á\", \"a\")\n",
    "data['PAIS_NACIONALIDAD'] = data['PAIS_NACIONALIDAD'].str.replace(u\"é\", \"e\")\n",
    "data['PAIS_NACIONALIDAD'] = data['PAIS_NACIONALIDAD'].str.replace(u\"í\", \"i\")\n",
    "data['PAIS_NACIONALIDAD'] = data['PAIS_NACIONALIDAD'].str.replace(u\"ó\", \"o\")\n",
    "data['PAIS_NACIONALIDAD'] = data['PAIS_NACIONALIDAD'].str.replace(u\"ú\", \"u\")"
   ]
  },
  {
   "cell_type": "code",
   "execution_count": 7,
   "metadata": {},
   "outputs": [
    {
     "data": {
      "text/plain": [
       "(254794, 34)"
      ]
     },
     "execution_count": 7,
     "metadata": {},
     "output_type": "execute_result"
    }
   ],
   "source": [
    "data.shape"
   ]
  },
  {
   "cell_type": "code",
   "execution_count": 8,
   "metadata": {},
   "outputs": [
    {
     "data": {
      "text/plain": [
       "0"
      ]
     },
     "execution_count": 8,
     "metadata": {},
     "output_type": "execute_result"
    }
   ],
   "source": [
    "data.isnull().sum().sum()"
   ]
  },
  {
   "cell_type": "code",
   "execution_count": 9,
   "metadata": {},
   "outputs": [
    {
     "data": {
      "text/plain": [
       "['FECHA_ACTUALIZACION',\n",
       " 'ORIGEN',\n",
       " 'SECTOR',\n",
       " 'ENTIDAD_UM',\n",
       " 'SEXO',\n",
       " 'ENTIDAD_NAC',\n",
       " 'ENTIDAD_RES',\n",
       " 'MUNICIPIO_RES',\n",
       " 'TIPO_PACIENTE',\n",
       " 'FECHA_INGRESO',\n",
       " 'FECHA_SINTOMAS',\n",
       " 'FECHA_DEF',\n",
       " 'INTUBADO',\n",
       " 'NEUMONIA',\n",
       " 'EDAD',\n",
       " 'NACIONALIDAD',\n",
       " 'EMBARAZO',\n",
       " 'HABLA_LENGUA_INDIG',\n",
       " 'DIABETES',\n",
       " 'EPOC',\n",
       " 'ASMA',\n",
       " 'INMUSUPR',\n",
       " 'HIPERTENSION',\n",
       " 'OTRA_COM',\n",
       " 'CARDIOVASCULAR',\n",
       " 'OBESIDAD',\n",
       " 'RENAL_CRONICA',\n",
       " 'TABAQUISMO',\n",
       " 'OTRO_CASO',\n",
       " 'RESULTADO',\n",
       " 'MIGRANTE',\n",
       " 'PAIS_NACIONALIDAD',\n",
       " 'PAIS_ORIGEN',\n",
       " 'UCI']"
      ]
     },
     "execution_count": 9,
     "metadata": {},
     "output_type": "execute_result"
    }
   ],
   "source": [
    "columnas = data.columns.tolist()\n",
    "columnas"
   ]
  },
  {
   "cell_type": "markdown",
   "metadata": {},
   "source": [
    "# PREDICIENDO RESULTADO DE PRUEBA A SARS-CoV- 2"
   ]
  },
  {
   "cell_type": "code",
   "execution_count": 10,
   "metadata": {},
   "outputs": [
    {
     "data": {
      "text/html": [
       "<div>\n",
       "<style scoped>\n",
       "    .dataframe tbody tr th:only-of-type {\n",
       "        vertical-align: middle;\n",
       "    }\n",
       "\n",
       "    .dataframe tbody tr th {\n",
       "        vertical-align: top;\n",
       "    }\n",
       "\n",
       "    .dataframe thead th {\n",
       "        text-align: right;\n",
       "    }\n",
       "</style>\n",
       "<table border=\"1\" class=\"dataframe\">\n",
       "  <thead>\n",
       "    <tr style=\"text-align: right;\">\n",
       "      <th></th>\n",
       "      <th>FECHA_ACTUALIZACION</th>\n",
       "      <th>ORIGEN</th>\n",
       "      <th>SECTOR</th>\n",
       "      <th>ENTIDAD_UM</th>\n",
       "      <th>SEXO</th>\n",
       "      <th>ENTIDAD_NAC</th>\n",
       "      <th>ENTIDAD_RES</th>\n",
       "      <th>MUNICIPIO_RES</th>\n",
       "      <th>TIPO_PACIENTE</th>\n",
       "      <th>FECHA_INGRESO</th>\n",
       "      <th>...</th>\n",
       "      <th>CARDIOVASCULAR</th>\n",
       "      <th>OBESIDAD</th>\n",
       "      <th>RENAL_CRONICA</th>\n",
       "      <th>TABAQUISMO</th>\n",
       "      <th>OTRO_CASO</th>\n",
       "      <th>RESULTADO</th>\n",
       "      <th>MIGRANTE</th>\n",
       "      <th>PAIS_NACIONALIDAD</th>\n",
       "      <th>PAIS_ORIGEN</th>\n",
       "      <th>UCI</th>\n",
       "    </tr>\n",
       "    <tr>\n",
       "      <th>ID_REGISTRO</th>\n",
       "      <th></th>\n",
       "      <th></th>\n",
       "      <th></th>\n",
       "      <th></th>\n",
       "      <th></th>\n",
       "      <th></th>\n",
       "      <th></th>\n",
       "      <th></th>\n",
       "      <th></th>\n",
       "      <th></th>\n",
       "      <th></th>\n",
       "      <th></th>\n",
       "      <th></th>\n",
       "      <th></th>\n",
       "      <th></th>\n",
       "      <th></th>\n",
       "      <th></th>\n",
       "      <th></th>\n",
       "      <th></th>\n",
       "      <th></th>\n",
       "      <th></th>\n",
       "    </tr>\n",
       "  </thead>\n",
       "  <tbody>\n",
       "    <tr>\n",
       "      <td>0192e7</td>\n",
       "      <td>2020-05-28</td>\n",
       "      <td>2</td>\n",
       "      <td>3</td>\n",
       "      <td>2</td>\n",
       "      <td>2</td>\n",
       "      <td>2</td>\n",
       "      <td>2</td>\n",
       "      <td>2</td>\n",
       "      <td>2</td>\n",
       "      <td>2020-04-06</td>\n",
       "      <td>...</td>\n",
       "      <td>2</td>\n",
       "      <td>2</td>\n",
       "      <td>1</td>\n",
       "      <td>2</td>\n",
       "      <td>99</td>\n",
       "      <td>1</td>\n",
       "      <td>99</td>\n",
       "      <td>Mexico</td>\n",
       "      <td>99</td>\n",
       "      <td>1</td>\n",
       "    </tr>\n",
       "    <tr>\n",
       "      <td>02e0df</td>\n",
       "      <td>2020-05-28</td>\n",
       "      <td>2</td>\n",
       "      <td>4</td>\n",
       "      <td>12</td>\n",
       "      <td>2</td>\n",
       "      <td>12</td>\n",
       "      <td>12</td>\n",
       "      <td>1</td>\n",
       "      <td>2</td>\n",
       "      <td>2020-03-26</td>\n",
       "      <td>...</td>\n",
       "      <td>2</td>\n",
       "      <td>1</td>\n",
       "      <td>2</td>\n",
       "      <td>2</td>\n",
       "      <td>99</td>\n",
       "      <td>1</td>\n",
       "      <td>99</td>\n",
       "      <td>Mexico</td>\n",
       "      <td>99</td>\n",
       "      <td>1</td>\n",
       "    </tr>\n",
       "    <tr>\n",
       "      <td>02b7ac</td>\n",
       "      <td>2020-05-28</td>\n",
       "      <td>2</td>\n",
       "      <td>4</td>\n",
       "      <td>14</td>\n",
       "      <td>1</td>\n",
       "      <td>14</td>\n",
       "      <td>14</td>\n",
       "      <td>120</td>\n",
       "      <td>1</td>\n",
       "      <td>2020-04-07</td>\n",
       "      <td>...</td>\n",
       "      <td>2</td>\n",
       "      <td>2</td>\n",
       "      <td>2</td>\n",
       "      <td>2</td>\n",
       "      <td>99</td>\n",
       "      <td>1</td>\n",
       "      <td>99</td>\n",
       "      <td>Mexico</td>\n",
       "      <td>99</td>\n",
       "      <td>97</td>\n",
       "    </tr>\n",
       "    <tr>\n",
       "      <td>17979d</td>\n",
       "      <td>2020-05-28</td>\n",
       "      <td>2</td>\n",
       "      <td>4</td>\n",
       "      <td>27</td>\n",
       "      <td>1</td>\n",
       "      <td>27</td>\n",
       "      <td>27</td>\n",
       "      <td>4</td>\n",
       "      <td>1</td>\n",
       "      <td>2020-04-20</td>\n",
       "      <td>...</td>\n",
       "      <td>2</td>\n",
       "      <td>1</td>\n",
       "      <td>2</td>\n",
       "      <td>2</td>\n",
       "      <td>99</td>\n",
       "      <td>1</td>\n",
       "      <td>99</td>\n",
       "      <td>Mexico</td>\n",
       "      <td>99</td>\n",
       "      <td>97</td>\n",
       "    </tr>\n",
       "    <tr>\n",
       "      <td>15778b</td>\n",
       "      <td>2020-05-28</td>\n",
       "      <td>2</td>\n",
       "      <td>4</td>\n",
       "      <td>27</td>\n",
       "      <td>1</td>\n",
       "      <td>27</td>\n",
       "      <td>27</td>\n",
       "      <td>4</td>\n",
       "      <td>1</td>\n",
       "      <td>2020-04-09</td>\n",
       "      <td>...</td>\n",
       "      <td>2</td>\n",
       "      <td>2</td>\n",
       "      <td>2</td>\n",
       "      <td>2</td>\n",
       "      <td>99</td>\n",
       "      <td>1</td>\n",
       "      <td>99</td>\n",
       "      <td>Mexico</td>\n",
       "      <td>99</td>\n",
       "      <td>97</td>\n",
       "    </tr>\n",
       "  </tbody>\n",
       "</table>\n",
       "<p>5 rows × 34 columns</p>\n",
       "</div>"
      ],
      "text/plain": [
       "            FECHA_ACTUALIZACION  ORIGEN  SECTOR  ENTIDAD_UM  SEXO  \\\n",
       "ID_REGISTRO                                                         \n",
       "0192e7               2020-05-28       2       3           2     2   \n",
       "02e0df               2020-05-28       2       4          12     2   \n",
       "02b7ac               2020-05-28       2       4          14     1   \n",
       "17979d               2020-05-28       2       4          27     1   \n",
       "15778b               2020-05-28       2       4          27     1   \n",
       "\n",
       "             ENTIDAD_NAC  ENTIDAD_RES  MUNICIPIO_RES  TIPO_PACIENTE  \\\n",
       "ID_REGISTRO                                                           \n",
       "0192e7                 2            2              2              2   \n",
       "02e0df                12           12              1              2   \n",
       "02b7ac                14           14            120              1   \n",
       "17979d                27           27              4              1   \n",
       "15778b                27           27              4              1   \n",
       "\n",
       "            FECHA_INGRESO  ... CARDIOVASCULAR OBESIDAD  RENAL_CRONICA  \\\n",
       "ID_REGISTRO                ...                                          \n",
       "0192e7         2020-04-06  ...              2        2              1   \n",
       "02e0df         2020-03-26  ...              2        1              2   \n",
       "02b7ac         2020-04-07  ...              2        2              2   \n",
       "17979d         2020-04-20  ...              2        1              2   \n",
       "15778b         2020-04-09  ...              2        2              2   \n",
       "\n",
       "             TABAQUISMO  OTRO_CASO  RESULTADO  MIGRANTE  PAIS_NACIONALIDAD  \\\n",
       "ID_REGISTRO                                                                  \n",
       "0192e7                2         99          1        99             Mexico   \n",
       "02e0df                2         99          1        99             Mexico   \n",
       "02b7ac                2         99          1        99             Mexico   \n",
       "17979d                2         99          1        99             Mexico   \n",
       "15778b                2         99          1        99             Mexico   \n",
       "\n",
       "             PAIS_ORIGEN  UCI  \n",
       "ID_REGISTRO                    \n",
       "0192e7                99    1  \n",
       "02e0df                99    1  \n",
       "02b7ac                99   97  \n",
       "17979d                99   97  \n",
       "15778b                99   97  \n",
       "\n",
       "[5 rows x 34 columns]"
      ]
     },
     "execution_count": 10,
     "metadata": {},
     "output_type": "execute_result"
    }
   ],
   "source": [
    "data.head()"
   ]
  },
  {
   "cell_type": "code",
   "execution_count": 11,
   "metadata": {},
   "outputs": [
    {
     "data": {
      "text/html": [
       "<div>\n",
       "<style scoped>\n",
       "    .dataframe tbody tr th:only-of-type {\n",
       "        vertical-align: middle;\n",
       "    }\n",
       "\n",
       "    .dataframe tbody tr th {\n",
       "        vertical-align: top;\n",
       "    }\n",
       "\n",
       "    .dataframe thead th {\n",
       "        text-align: right;\n",
       "    }\n",
       "</style>\n",
       "<table border=\"1\" class=\"dataframe\">\n",
       "  <thead>\n",
       "    <tr style=\"text-align: right;\">\n",
       "      <th></th>\n",
       "      <th>ORIGEN</th>\n",
       "      <th>SECTOR</th>\n",
       "      <th>ENTIDAD_UM</th>\n",
       "      <th>SEXO</th>\n",
       "      <th>ENTIDAD_NAC</th>\n",
       "      <th>ENTIDAD_RES</th>\n",
       "      <th>MUNICIPIO_RES</th>\n",
       "      <th>TIPO_PACIENTE</th>\n",
       "      <th>INTUBADO</th>\n",
       "      <th>NEUMONIA</th>\n",
       "      <th>...</th>\n",
       "      <th>HIPERTENSION</th>\n",
       "      <th>OTRA_COM</th>\n",
       "      <th>CARDIOVASCULAR</th>\n",
       "      <th>OBESIDAD</th>\n",
       "      <th>RENAL_CRONICA</th>\n",
       "      <th>TABAQUISMO</th>\n",
       "      <th>OTRO_CASO</th>\n",
       "      <th>RESULTADO</th>\n",
       "      <th>MIGRANTE</th>\n",
       "      <th>UCI</th>\n",
       "    </tr>\n",
       "  </thead>\n",
       "  <tbody>\n",
       "    <tr>\n",
       "      <td>count</td>\n",
       "      <td>254794.000000</td>\n",
       "      <td>254794.000000</td>\n",
       "      <td>254794.000000</td>\n",
       "      <td>254794.000000</td>\n",
       "      <td>254794.000000</td>\n",
       "      <td>254794.000000</td>\n",
       "      <td>254794.000000</td>\n",
       "      <td>254794.000000</td>\n",
       "      <td>254794.000000</td>\n",
       "      <td>254794.000000</td>\n",
       "      <td>...</td>\n",
       "      <td>254794.000000</td>\n",
       "      <td>254794.000000</td>\n",
       "      <td>254794.000000</td>\n",
       "      <td>254794.000000</td>\n",
       "      <td>254794.000000</td>\n",
       "      <td>254794.000000</td>\n",
       "      <td>254794.000000</td>\n",
       "      <td>254794.000000</td>\n",
       "      <td>254794.000000</td>\n",
       "      <td>254794.000000</td>\n",
       "    </tr>\n",
       "    <tr>\n",
       "      <td>mean</td>\n",
       "      <td>1.636569</td>\n",
       "      <td>9.673960</td>\n",
       "      <td>14.825129</td>\n",
       "      <td>1.510758</td>\n",
       "      <td>16.063286</td>\n",
       "      <td>15.115831</td>\n",
       "      <td>36.511323</td>\n",
       "      <td>1.238824</td>\n",
       "      <td>74.316487</td>\n",
       "      <td>1.832045</td>\n",
       "      <td>...</td>\n",
       "      <td>2.189318</td>\n",
       "      <td>2.477484</td>\n",
       "      <td>2.338513</td>\n",
       "      <td>2.197752</td>\n",
       "      <td>2.332716</td>\n",
       "      <td>2.277267</td>\n",
       "      <td>32.518721</td>\n",
       "      <td>1.822331</td>\n",
       "      <td>98.570296</td>\n",
       "      <td>74.315282</td>\n",
       "    </tr>\n",
       "    <tr>\n",
       "      <td>std</td>\n",
       "      <td>0.480988</td>\n",
       "      <td>7.872305</td>\n",
       "      <td>7.992788</td>\n",
       "      <td>0.499885</td>\n",
       "      <td>10.697833</td>\n",
       "      <td>7.894707</td>\n",
       "      <td>47.443228</td>\n",
       "      <td>0.426366</td>\n",
       "      <td>40.525618</td>\n",
       "      <td>0.633173</td>\n",
       "      <td>...</td>\n",
       "      <td>5.873226</td>\n",
       "      <td>7.010354</td>\n",
       "      <td>5.906619</td>\n",
       "      <td>5.915636</td>\n",
       "      <td>5.826457</td>\n",
       "      <td>5.936576</td>\n",
       "      <td>45.437110</td>\n",
       "      <td>0.655526</td>\n",
       "      <td>6.452570</td>\n",
       "      <td>40.528244</td>\n",
       "    </tr>\n",
       "    <tr>\n",
       "      <td>min</td>\n",
       "      <td>1.000000</td>\n",
       "      <td>1.000000</td>\n",
       "      <td>1.000000</td>\n",
       "      <td>1.000000</td>\n",
       "      <td>1.000000</td>\n",
       "      <td>1.000000</td>\n",
       "      <td>1.000000</td>\n",
       "      <td>1.000000</td>\n",
       "      <td>1.000000</td>\n",
       "      <td>1.000000</td>\n",
       "      <td>...</td>\n",
       "      <td>1.000000</td>\n",
       "      <td>1.000000</td>\n",
       "      <td>1.000000</td>\n",
       "      <td>1.000000</td>\n",
       "      <td>1.000000</td>\n",
       "      <td>1.000000</td>\n",
       "      <td>1.000000</td>\n",
       "      <td>1.000000</td>\n",
       "      <td>1.000000</td>\n",
       "      <td>1.000000</td>\n",
       "    </tr>\n",
       "    <tr>\n",
       "      <td>25%</td>\n",
       "      <td>1.000000</td>\n",
       "      <td>4.000000</td>\n",
       "      <td>9.000000</td>\n",
       "      <td>1.000000</td>\n",
       "      <td>9.000000</td>\n",
       "      <td>9.000000</td>\n",
       "      <td>7.000000</td>\n",
       "      <td>1.000000</td>\n",
       "      <td>97.000000</td>\n",
       "      <td>2.000000</td>\n",
       "      <td>...</td>\n",
       "      <td>2.000000</td>\n",
       "      <td>2.000000</td>\n",
       "      <td>2.000000</td>\n",
       "      <td>2.000000</td>\n",
       "      <td>2.000000</td>\n",
       "      <td>2.000000</td>\n",
       "      <td>1.000000</td>\n",
       "      <td>1.000000</td>\n",
       "      <td>99.000000</td>\n",
       "      <td>97.000000</td>\n",
       "    </tr>\n",
       "    <tr>\n",
       "      <td>50%</td>\n",
       "      <td>2.000000</td>\n",
       "      <td>12.000000</td>\n",
       "      <td>14.000000</td>\n",
       "      <td>2.000000</td>\n",
       "      <td>15.000000</td>\n",
       "      <td>15.000000</td>\n",
       "      <td>20.000000</td>\n",
       "      <td>1.000000</td>\n",
       "      <td>97.000000</td>\n",
       "      <td>2.000000</td>\n",
       "      <td>...</td>\n",
       "      <td>2.000000</td>\n",
       "      <td>2.000000</td>\n",
       "      <td>2.000000</td>\n",
       "      <td>2.000000</td>\n",
       "      <td>2.000000</td>\n",
       "      <td>2.000000</td>\n",
       "      <td>2.000000</td>\n",
       "      <td>2.000000</td>\n",
       "      <td>99.000000</td>\n",
       "      <td>97.000000</td>\n",
       "    </tr>\n",
       "    <tr>\n",
       "      <td>75%</td>\n",
       "      <td>2.000000</td>\n",
       "      <td>12.000000</td>\n",
       "      <td>21.000000</td>\n",
       "      <td>2.000000</td>\n",
       "      <td>21.000000</td>\n",
       "      <td>21.000000</td>\n",
       "      <td>48.000000</td>\n",
       "      <td>1.000000</td>\n",
       "      <td>97.000000</td>\n",
       "      <td>2.000000</td>\n",
       "      <td>...</td>\n",
       "      <td>2.000000</td>\n",
       "      <td>2.000000</td>\n",
       "      <td>2.000000</td>\n",
       "      <td>2.000000</td>\n",
       "      <td>2.000000</td>\n",
       "      <td>2.000000</td>\n",
       "      <td>99.000000</td>\n",
       "      <td>2.000000</td>\n",
       "      <td>99.000000</td>\n",
       "      <td>97.000000</td>\n",
       "    </tr>\n",
       "    <tr>\n",
       "      <td>max</td>\n",
       "      <td>2.000000</td>\n",
       "      <td>99.000000</td>\n",
       "      <td>32.000000</td>\n",
       "      <td>2.000000</td>\n",
       "      <td>99.000000</td>\n",
       "      <td>32.000000</td>\n",
       "      <td>999.000000</td>\n",
       "      <td>2.000000</td>\n",
       "      <td>99.000000</td>\n",
       "      <td>99.000000</td>\n",
       "      <td>...</td>\n",
       "      <td>98.000000</td>\n",
       "      <td>98.000000</td>\n",
       "      <td>98.000000</td>\n",
       "      <td>98.000000</td>\n",
       "      <td>98.000000</td>\n",
       "      <td>98.000000</td>\n",
       "      <td>99.000000</td>\n",
       "      <td>3.000000</td>\n",
       "      <td>99.000000</td>\n",
       "      <td>99.000000</td>\n",
       "    </tr>\n",
       "  </tbody>\n",
       "</table>\n",
       "<p>8 rows × 28 columns</p>\n",
       "</div>"
      ],
      "text/plain": [
       "              ORIGEN         SECTOR     ENTIDAD_UM           SEXO  \\\n",
       "count  254794.000000  254794.000000  254794.000000  254794.000000   \n",
       "mean        1.636569       9.673960      14.825129       1.510758   \n",
       "std         0.480988       7.872305       7.992788       0.499885   \n",
       "min         1.000000       1.000000       1.000000       1.000000   \n",
       "25%         1.000000       4.000000       9.000000       1.000000   \n",
       "50%         2.000000      12.000000      14.000000       2.000000   \n",
       "75%         2.000000      12.000000      21.000000       2.000000   \n",
       "max         2.000000      99.000000      32.000000       2.000000   \n",
       "\n",
       "         ENTIDAD_NAC    ENTIDAD_RES  MUNICIPIO_RES  TIPO_PACIENTE  \\\n",
       "count  254794.000000  254794.000000  254794.000000  254794.000000   \n",
       "mean       16.063286      15.115831      36.511323       1.238824   \n",
       "std        10.697833       7.894707      47.443228       0.426366   \n",
       "min         1.000000       1.000000       1.000000       1.000000   \n",
       "25%         9.000000       9.000000       7.000000       1.000000   \n",
       "50%        15.000000      15.000000      20.000000       1.000000   \n",
       "75%        21.000000      21.000000      48.000000       1.000000   \n",
       "max        99.000000      32.000000     999.000000       2.000000   \n",
       "\n",
       "            INTUBADO       NEUMONIA  ...   HIPERTENSION       OTRA_COM  \\\n",
       "count  254794.000000  254794.000000  ...  254794.000000  254794.000000   \n",
       "mean       74.316487       1.832045  ...       2.189318       2.477484   \n",
       "std        40.525618       0.633173  ...       5.873226       7.010354   \n",
       "min         1.000000       1.000000  ...       1.000000       1.000000   \n",
       "25%        97.000000       2.000000  ...       2.000000       2.000000   \n",
       "50%        97.000000       2.000000  ...       2.000000       2.000000   \n",
       "75%        97.000000       2.000000  ...       2.000000       2.000000   \n",
       "max        99.000000      99.000000  ...      98.000000      98.000000   \n",
       "\n",
       "       CARDIOVASCULAR       OBESIDAD  RENAL_CRONICA     TABAQUISMO  \\\n",
       "count   254794.000000  254794.000000  254794.000000  254794.000000   \n",
       "mean         2.338513       2.197752       2.332716       2.277267   \n",
       "std          5.906619       5.915636       5.826457       5.936576   \n",
       "min          1.000000       1.000000       1.000000       1.000000   \n",
       "25%          2.000000       2.000000       2.000000       2.000000   \n",
       "50%          2.000000       2.000000       2.000000       2.000000   \n",
       "75%          2.000000       2.000000       2.000000       2.000000   \n",
       "max         98.000000      98.000000      98.000000      98.000000   \n",
       "\n",
       "           OTRO_CASO      RESULTADO       MIGRANTE            UCI  \n",
       "count  254794.000000  254794.000000  254794.000000  254794.000000  \n",
       "mean       32.518721       1.822331      98.570296      74.315282  \n",
       "std        45.437110       0.655526       6.452570      40.528244  \n",
       "min         1.000000       1.000000       1.000000       1.000000  \n",
       "25%         1.000000       1.000000      99.000000      97.000000  \n",
       "50%         2.000000       2.000000      99.000000      97.000000  \n",
       "75%        99.000000       2.000000      99.000000      97.000000  \n",
       "max        99.000000       3.000000      99.000000      99.000000  \n",
       "\n",
       "[8 rows x 28 columns]"
      ]
     },
     "execution_count": 11,
     "metadata": {},
     "output_type": "execute_result"
    }
   ],
   "source": [
    "data.describe()"
   ]
  },
  {
   "cell_type": "code",
   "execution_count": 12,
   "metadata": {},
   "outputs": [],
   "source": [
    "DF1 = data.drop([\"UCI\", \"PAIS_ORIGEN\", \"FECHA_ACTUALIZACION\", \"FECHA_INGRESO\", \"FECHA_DEF\", \"INTUBADO\", \"NACIONALIDAD\", \"MIGRANTE\",\"PAIS_ORIGEN\", 'FECHA_SINTOMAS'], axis=1)"
   ]
  },
  {
   "cell_type": "code",
   "execution_count": 13,
   "metadata": {},
   "outputs": [
    {
     "data": {
      "text/html": [
       "<div>\n",
       "<style scoped>\n",
       "    .dataframe tbody tr th:only-of-type {\n",
       "        vertical-align: middle;\n",
       "    }\n",
       "\n",
       "    .dataframe tbody tr th {\n",
       "        vertical-align: top;\n",
       "    }\n",
       "\n",
       "    .dataframe thead th {\n",
       "        text-align: right;\n",
       "    }\n",
       "</style>\n",
       "<table border=\"1\" class=\"dataframe\">\n",
       "  <thead>\n",
       "    <tr style=\"text-align: right;\">\n",
       "      <th></th>\n",
       "      <th>ORIGEN</th>\n",
       "      <th>SECTOR</th>\n",
       "      <th>ENTIDAD_UM</th>\n",
       "      <th>SEXO</th>\n",
       "      <th>ENTIDAD_NAC</th>\n",
       "      <th>ENTIDAD_RES</th>\n",
       "      <th>MUNICIPIO_RES</th>\n",
       "      <th>TIPO_PACIENTE</th>\n",
       "      <th>NEUMONIA</th>\n",
       "      <th>EDAD</th>\n",
       "      <th>...</th>\n",
       "      <th>INMUSUPR</th>\n",
       "      <th>HIPERTENSION</th>\n",
       "      <th>OTRA_COM</th>\n",
       "      <th>CARDIOVASCULAR</th>\n",
       "      <th>OBESIDAD</th>\n",
       "      <th>RENAL_CRONICA</th>\n",
       "      <th>TABAQUISMO</th>\n",
       "      <th>OTRO_CASO</th>\n",
       "      <th>RESULTADO</th>\n",
       "      <th>PAIS_NACIONALIDAD</th>\n",
       "    </tr>\n",
       "    <tr>\n",
       "      <th>ID_REGISTRO</th>\n",
       "      <th></th>\n",
       "      <th></th>\n",
       "      <th></th>\n",
       "      <th></th>\n",
       "      <th></th>\n",
       "      <th></th>\n",
       "      <th></th>\n",
       "      <th></th>\n",
       "      <th></th>\n",
       "      <th></th>\n",
       "      <th></th>\n",
       "      <th></th>\n",
       "      <th></th>\n",
       "      <th></th>\n",
       "      <th></th>\n",
       "      <th></th>\n",
       "      <th></th>\n",
       "      <th></th>\n",
       "      <th></th>\n",
       "      <th></th>\n",
       "      <th></th>\n",
       "    </tr>\n",
       "  </thead>\n",
       "  <tbody>\n",
       "    <tr>\n",
       "      <td>0192e7</td>\n",
       "      <td>2</td>\n",
       "      <td>3</td>\n",
       "      <td>2</td>\n",
       "      <td>2</td>\n",
       "      <td>2</td>\n",
       "      <td>2</td>\n",
       "      <td>2</td>\n",
       "      <td>2</td>\n",
       "      <td>1</td>\n",
       "      <td>60</td>\n",
       "      <td>...</td>\n",
       "      <td>2</td>\n",
       "      <td>1</td>\n",
       "      <td>2</td>\n",
       "      <td>2</td>\n",
       "      <td>2</td>\n",
       "      <td>1</td>\n",
       "      <td>2</td>\n",
       "      <td>99</td>\n",
       "      <td>1</td>\n",
       "      <td>Mexico</td>\n",
       "    </tr>\n",
       "    <tr>\n",
       "      <td>02e0df</td>\n",
       "      <td>2</td>\n",
       "      <td>4</td>\n",
       "      <td>12</td>\n",
       "      <td>2</td>\n",
       "      <td>12</td>\n",
       "      <td>12</td>\n",
       "      <td>1</td>\n",
       "      <td>2</td>\n",
       "      <td>2</td>\n",
       "      <td>43</td>\n",
       "      <td>...</td>\n",
       "      <td>2</td>\n",
       "      <td>2</td>\n",
       "      <td>2</td>\n",
       "      <td>2</td>\n",
       "      <td>1</td>\n",
       "      <td>2</td>\n",
       "      <td>2</td>\n",
       "      <td>99</td>\n",
       "      <td>1</td>\n",
       "      <td>Mexico</td>\n",
       "    </tr>\n",
       "    <tr>\n",
       "      <td>02b7ac</td>\n",
       "      <td>2</td>\n",
       "      <td>4</td>\n",
       "      <td>14</td>\n",
       "      <td>1</td>\n",
       "      <td>14</td>\n",
       "      <td>14</td>\n",
       "      <td>120</td>\n",
       "      <td>1</td>\n",
       "      <td>2</td>\n",
       "      <td>26</td>\n",
       "      <td>...</td>\n",
       "      <td>2</td>\n",
       "      <td>2</td>\n",
       "      <td>2</td>\n",
       "      <td>2</td>\n",
       "      <td>2</td>\n",
       "      <td>2</td>\n",
       "      <td>2</td>\n",
       "      <td>99</td>\n",
       "      <td>1</td>\n",
       "      <td>Mexico</td>\n",
       "    </tr>\n",
       "    <tr>\n",
       "      <td>17979d</td>\n",
       "      <td>2</td>\n",
       "      <td>4</td>\n",
       "      <td>27</td>\n",
       "      <td>1</td>\n",
       "      <td>27</td>\n",
       "      <td>27</td>\n",
       "      <td>4</td>\n",
       "      <td>1</td>\n",
       "      <td>2</td>\n",
       "      <td>53</td>\n",
       "      <td>...</td>\n",
       "      <td>2</td>\n",
       "      <td>1</td>\n",
       "      <td>2</td>\n",
       "      <td>2</td>\n",
       "      <td>1</td>\n",
       "      <td>2</td>\n",
       "      <td>2</td>\n",
       "      <td>99</td>\n",
       "      <td>1</td>\n",
       "      <td>Mexico</td>\n",
       "    </tr>\n",
       "    <tr>\n",
       "      <td>15778b</td>\n",
       "      <td>2</td>\n",
       "      <td>4</td>\n",
       "      <td>27</td>\n",
       "      <td>1</td>\n",
       "      <td>27</td>\n",
       "      <td>27</td>\n",
       "      <td>4</td>\n",
       "      <td>1</td>\n",
       "      <td>2</td>\n",
       "      <td>28</td>\n",
       "      <td>...</td>\n",
       "      <td>2</td>\n",
       "      <td>2</td>\n",
       "      <td>2</td>\n",
       "      <td>2</td>\n",
       "      <td>2</td>\n",
       "      <td>2</td>\n",
       "      <td>2</td>\n",
       "      <td>99</td>\n",
       "      <td>1</td>\n",
       "      <td>Mexico</td>\n",
       "    </tr>\n",
       "    <tr>\n",
       "      <td>...</td>\n",
       "      <td>...</td>\n",
       "      <td>...</td>\n",
       "      <td>...</td>\n",
       "      <td>...</td>\n",
       "      <td>...</td>\n",
       "      <td>...</td>\n",
       "      <td>...</td>\n",
       "      <td>...</td>\n",
       "      <td>...</td>\n",
       "      <td>...</td>\n",
       "      <td>...</td>\n",
       "      <td>...</td>\n",
       "      <td>...</td>\n",
       "      <td>...</td>\n",
       "      <td>...</td>\n",
       "      <td>...</td>\n",
       "      <td>...</td>\n",
       "      <td>...</td>\n",
       "      <td>...</td>\n",
       "      <td>...</td>\n",
       "      <td>...</td>\n",
       "    </tr>\n",
       "    <tr>\n",
       "      <td>16275d</td>\n",
       "      <td>1</td>\n",
       "      <td>12</td>\n",
       "      <td>7</td>\n",
       "      <td>2</td>\n",
       "      <td>7</td>\n",
       "      <td>7</td>\n",
       "      <td>101</td>\n",
       "      <td>1</td>\n",
       "      <td>2</td>\n",
       "      <td>28</td>\n",
       "      <td>...</td>\n",
       "      <td>2</td>\n",
       "      <td>2</td>\n",
       "      <td>2</td>\n",
       "      <td>2</td>\n",
       "      <td>2</td>\n",
       "      <td>2</td>\n",
       "      <td>2</td>\n",
       "      <td>2</td>\n",
       "      <td>3</td>\n",
       "      <td>Mexico</td>\n",
       "    </tr>\n",
       "    <tr>\n",
       "      <td>107e21</td>\n",
       "      <td>2</td>\n",
       "      <td>12</td>\n",
       "      <td>21</td>\n",
       "      <td>1</td>\n",
       "      <td>21</td>\n",
       "      <td>21</td>\n",
       "      <td>74</td>\n",
       "      <td>1</td>\n",
       "      <td>2</td>\n",
       "      <td>26</td>\n",
       "      <td>...</td>\n",
       "      <td>2</td>\n",
       "      <td>2</td>\n",
       "      <td>2</td>\n",
       "      <td>2</td>\n",
       "      <td>2</td>\n",
       "      <td>2</td>\n",
       "      <td>2</td>\n",
       "      <td>1</td>\n",
       "      <td>3</td>\n",
       "      <td>Mexico</td>\n",
       "    </tr>\n",
       "    <tr>\n",
       "      <td>0bdab3</td>\n",
       "      <td>1</td>\n",
       "      <td>12</td>\n",
       "      <td>9</td>\n",
       "      <td>1</td>\n",
       "      <td>9</td>\n",
       "      <td>9</td>\n",
       "      <td>11</td>\n",
       "      <td>1</td>\n",
       "      <td>2</td>\n",
       "      <td>22</td>\n",
       "      <td>...</td>\n",
       "      <td>2</td>\n",
       "      <td>2</td>\n",
       "      <td>2</td>\n",
       "      <td>2</td>\n",
       "      <td>2</td>\n",
       "      <td>2</td>\n",
       "      <td>2</td>\n",
       "      <td>2</td>\n",
       "      <td>3</td>\n",
       "      <td>Mexico</td>\n",
       "    </tr>\n",
       "    <tr>\n",
       "      <td>0d6a96</td>\n",
       "      <td>2</td>\n",
       "      <td>8</td>\n",
       "      <td>30</td>\n",
       "      <td>1</td>\n",
       "      <td>21</td>\n",
       "      <td>21</td>\n",
       "      <td>71</td>\n",
       "      <td>2</td>\n",
       "      <td>1</td>\n",
       "      <td>70</td>\n",
       "      <td>...</td>\n",
       "      <td>2</td>\n",
       "      <td>1</td>\n",
       "      <td>2</td>\n",
       "      <td>2</td>\n",
       "      <td>1</td>\n",
       "      <td>1</td>\n",
       "      <td>2</td>\n",
       "      <td>2</td>\n",
       "      <td>3</td>\n",
       "      <td>Mexico</td>\n",
       "    </tr>\n",
       "    <tr>\n",
       "      <td>069076</td>\n",
       "      <td>2</td>\n",
       "      <td>12</td>\n",
       "      <td>2</td>\n",
       "      <td>1</td>\n",
       "      <td>2</td>\n",
       "      <td>2</td>\n",
       "      <td>2</td>\n",
       "      <td>1</td>\n",
       "      <td>1</td>\n",
       "      <td>24</td>\n",
       "      <td>...</td>\n",
       "      <td>2</td>\n",
       "      <td>2</td>\n",
       "      <td>2</td>\n",
       "      <td>2</td>\n",
       "      <td>2</td>\n",
       "      <td>2</td>\n",
       "      <td>2</td>\n",
       "      <td>1</td>\n",
       "      <td>3</td>\n",
       "      <td>Mexico</td>\n",
       "    </tr>\n",
       "  </tbody>\n",
       "</table>\n",
       "<p>254794 rows × 25 columns</p>\n",
       "</div>"
      ],
      "text/plain": [
       "             ORIGEN  SECTOR  ENTIDAD_UM  SEXO  ENTIDAD_NAC  ENTIDAD_RES  \\\n",
       "ID_REGISTRO                                                               \n",
       "0192e7            2       3           2     2            2            2   \n",
       "02e0df            2       4          12     2           12           12   \n",
       "02b7ac            2       4          14     1           14           14   \n",
       "17979d            2       4          27     1           27           27   \n",
       "15778b            2       4          27     1           27           27   \n",
       "...             ...     ...         ...   ...          ...          ...   \n",
       "16275d            1      12           7     2            7            7   \n",
       "107e21            2      12          21     1           21           21   \n",
       "0bdab3            1      12           9     1            9            9   \n",
       "0d6a96            2       8          30     1           21           21   \n",
       "069076            2      12           2     1            2            2   \n",
       "\n",
       "             MUNICIPIO_RES  TIPO_PACIENTE  NEUMONIA  EDAD  ...  INMUSUPR  \\\n",
       "ID_REGISTRO                                                ...             \n",
       "0192e7                   2              2         1    60  ...         2   \n",
       "02e0df                   1              2         2    43  ...         2   \n",
       "02b7ac                 120              1         2    26  ...         2   \n",
       "17979d                   4              1         2    53  ...         2   \n",
       "15778b                   4              1         2    28  ...         2   \n",
       "...                    ...            ...       ...   ...  ...       ...   \n",
       "16275d                 101              1         2    28  ...         2   \n",
       "107e21                  74              1         2    26  ...         2   \n",
       "0bdab3                  11              1         2    22  ...         2   \n",
       "0d6a96                  71              2         1    70  ...         2   \n",
       "069076                   2              1         1    24  ...         2   \n",
       "\n",
       "             HIPERTENSION  OTRA_COM  CARDIOVASCULAR  OBESIDAD  RENAL_CRONICA  \\\n",
       "ID_REGISTRO                                                                    \n",
       "0192e7                  1         2               2         2              1   \n",
       "02e0df                  2         2               2         1              2   \n",
       "02b7ac                  2         2               2         2              2   \n",
       "17979d                  1         2               2         1              2   \n",
       "15778b                  2         2               2         2              2   \n",
       "...                   ...       ...             ...       ...            ...   \n",
       "16275d                  2         2               2         2              2   \n",
       "107e21                  2         2               2         2              2   \n",
       "0bdab3                  2         2               2         2              2   \n",
       "0d6a96                  1         2               2         1              1   \n",
       "069076                  2         2               2         2              2   \n",
       "\n",
       "             TABAQUISMO  OTRO_CASO  RESULTADO  PAIS_NACIONALIDAD  \n",
       "ID_REGISTRO                                                       \n",
       "0192e7                2         99          1             Mexico  \n",
       "02e0df                2         99          1             Mexico  \n",
       "02b7ac                2         99          1             Mexico  \n",
       "17979d                2         99          1             Mexico  \n",
       "15778b                2         99          1             Mexico  \n",
       "...                 ...        ...        ...                ...  \n",
       "16275d                2          2          3             Mexico  \n",
       "107e21                2          1          3             Mexico  \n",
       "0bdab3                2          2          3             Mexico  \n",
       "0d6a96                2          2          3             Mexico  \n",
       "069076                2          1          3             Mexico  \n",
       "\n",
       "[254794 rows x 25 columns]"
      ]
     },
     "execution_count": 13,
     "metadata": {},
     "output_type": "execute_result"
    }
   ],
   "source": [
    "DF1"
   ]
  },
  {
   "cell_type": "code",
   "execution_count": 14,
   "metadata": {},
   "outputs": [],
   "source": [
    "future = DF1.loc[DF1['RESULTADO'] == 3]"
   ]
  },
  {
   "cell_type": "code",
   "execution_count": 15,
   "metadata": {},
   "outputs": [],
   "source": [
    "present = DF1.loc[DF1['RESULTADO'] < 3]"
   ]
  },
  {
   "cell_type": "code",
   "execution_count": 16,
   "metadata": {},
   "outputs": [
    {
     "data": {
      "text/plain": [
       "(218663, 25)"
      ]
     },
     "execution_count": 16,
     "metadata": {},
     "output_type": "execute_result"
    }
   ],
   "source": [
    "present.shape"
   ]
  },
  {
   "cell_type": "code",
   "execution_count": 17,
   "metadata": {},
   "outputs": [
    {
     "data": {
      "text/plain": [
       "(254794, 34)"
      ]
     },
     "execution_count": 17,
     "metadata": {},
     "output_type": "execute_result"
    }
   ],
   "source": [
    "data.shape"
   ]
  },
  {
   "cell_type": "code",
   "execution_count": 18,
   "metadata": {},
   "outputs": [
    {
     "data": {
      "text/plain": [
       "(36131, 25)"
      ]
     },
     "execution_count": 18,
     "metadata": {},
     "output_type": "execute_result"
    }
   ],
   "source": [
    "future.shape"
   ]
  },
  {
   "cell_type": "code",
   "execution_count": 19,
   "metadata": {},
   "outputs": [
    {
     "data": {
      "text/plain": [
       "True"
      ]
     },
     "execution_count": 19,
     "metadata": {},
     "output_type": "execute_result"
    }
   ],
   "source": [
    "future.shape[0] + present.shape[0] == data.shape[0]"
   ]
  },
  {
   "cell_type": "code",
   "execution_count": 20,
   "metadata": {},
   "outputs": [
    {
     "data": {
      "text/plain": [
       "0.8581952479257753"
      ]
     },
     "execution_count": 20,
     "metadata": {},
     "output_type": "execute_result"
    }
   ],
   "source": [
    "present.shape[0]/float(data.shape[0])"
   ]
  },
  {
   "cell_type": "code",
   "execution_count": 21,
   "metadata": {},
   "outputs": [
    {
     "data": {
      "text/plain": [
       "0.14180475207422466"
      ]
     },
     "execution_count": 21,
     "metadata": {},
     "output_type": "execute_result"
    }
   ],
   "source": [
    "future.shape[0]/float(data.shape[0])"
   ]
  },
  {
   "cell_type": "markdown",
   "metadata": {},
   "source": [
    "## Trabajando con present: hay que revisar cuántos datos faltan (no son nulos, son 99 en muchos casos)."
   ]
  },
  {
   "cell_type": "code",
   "execution_count": 22,
   "metadata": {},
   "outputs": [
    {
     "data": {
      "text/plain": [
       "Index(['ORIGEN', 'SECTOR', 'ENTIDAD_UM', 'SEXO', 'ENTIDAD_NAC', 'ENTIDAD_RES',\n",
       "       'MUNICIPIO_RES', 'TIPO_PACIENTE', 'NEUMONIA', 'EDAD', 'EMBARAZO',\n",
       "       'HABLA_LENGUA_INDIG', 'DIABETES', 'EPOC', 'ASMA', 'INMUSUPR',\n",
       "       'HIPERTENSION', 'OTRA_COM', 'CARDIOVASCULAR', 'OBESIDAD',\n",
       "       'RENAL_CRONICA', 'TABAQUISMO', 'OTRO_CASO', 'RESULTADO',\n",
       "       'PAIS_NACIONALIDAD'],\n",
       "      dtype='object')"
      ]
     },
     "execution_count": 22,
     "metadata": {},
     "output_type": "execute_result"
    }
   ],
   "source": [
    "present.columns"
   ]
  },
  {
   "cell_type": "code",
   "execution_count": 23,
   "metadata": {},
   "outputs": [
    {
     "data": {
      "text/plain": [
       "0"
      ]
     },
     "execution_count": 23,
     "metadata": {},
     "output_type": "execute_result"
    }
   ],
   "source": [
    "#Origen: 1, 2, 99 USMER, externo o no especificado\n",
    "len(present.loc[present['ORIGEN'] == 99, ['ORIGEN']]) #todos estan especificados"
   ]
  },
  {
   "cell_type": "code",
   "execution_count": 24,
   "metadata": {},
   "outputs": [
    {
     "data": {
      "text/plain": [
       "1315"
      ]
     },
     "execution_count": 24,
     "metadata": {},
     "output_type": "execute_result"
    }
   ],
   "source": [
    "#sector:  99 es no especificado\n",
    "len(present.loc[present['SECTOR'] == 99, ['SECTOR']])\n"
   ]
  },
  {
   "cell_type": "code",
   "execution_count": 25,
   "metadata": {},
   "outputs": [
    {
     "data": {
      "text/plain": [
       "0    12\n",
       "dtype: int64"
      ]
     },
     "execution_count": 25,
     "metadata": {},
     "output_type": "execute_result"
    }
   ],
   "source": [
    "present['SECTOR'].mode()"
   ]
  },
  {
   "cell_type": "code",
   "execution_count": 26,
   "metadata": {
    "collapsed": true
   },
   "outputs": [
    {
     "name": "stderr",
     "output_type": "stream",
     "text": [
      "/opt/anaconda3/lib/python3.7/site-packages/pandas/core/indexing.py:494: SettingWithCopyWarning: \n",
      "A value is trying to be set on a copy of a slice from a DataFrame.\n",
      "Try using .loc[row_indexer,col_indexer] = value instead\n",
      "\n",
      "See the caveats in the documentation: http://pandas.pydata.org/pandas-docs/stable/user_guide/indexing.html#returning-a-view-versus-a-copy\n",
      "  self.obj[item] = s\n"
     ]
    }
   ],
   "source": [
    "present.loc[present['SECTOR'] == 99, 'SECTOR'] = 12"
   ]
  },
  {
   "cell_type": "code",
   "execution_count": 27,
   "metadata": {},
   "outputs": [
    {
     "data": {
      "text/plain": [
       "0"
      ]
     },
     "execution_count": 27,
     "metadata": {},
     "output_type": "execute_result"
    }
   ],
   "source": [
    "len(present.loc[present['SECTOR'] == 99, ['SECTOR']])"
   ]
  },
  {
   "cell_type": "code",
   "execution_count": 28,
   "metadata": {},
   "outputs": [
    {
     "data": {
      "text/plain": [
       "0"
      ]
     },
     "execution_count": 28,
     "metadata": {},
     "output_type": "execute_result"
    }
   ],
   "source": [
    "#ENTIDADES: 99 NO ESPECIFICADO\n",
    "len(present.loc[present['ENTIDAD_UM'] == 99, ['ENTIDAD_UM']]) #todos estan especificados"
   ]
  },
  {
   "cell_type": "code",
   "execution_count": 29,
   "metadata": {},
   "outputs": [
    {
     "data": {
      "text/plain": [
       "0"
      ]
     },
     "execution_count": 29,
     "metadata": {},
     "output_type": "execute_result"
    }
   ],
   "source": [
    "#SEXO\n",
    "len(present.loc[present['SEXO'] == 99, ['SEXO']])"
   ]
  },
  {
   "cell_type": "code",
   "execution_count": 30,
   "metadata": {},
   "outputs": [
    {
     "data": {
      "text/plain": [
       "1710"
      ]
     },
     "execution_count": 30,
     "metadata": {},
     "output_type": "execute_result"
    }
   ],
   "source": [
    "#Entidad nacional: \n",
    "len(present.loc[present['ENTIDAD_NAC'] ==99, ['ENTIDAD_NAC']])"
   ]
  },
  {
   "cell_type": "code",
   "execution_count": 31,
   "metadata": {},
   "outputs": [
    {
     "data": {
      "text/plain": [
       "0"
      ]
     },
     "execution_count": 31,
     "metadata": {},
     "output_type": "execute_result"
    }
   ],
   "source": [
    "import random\n",
    "entidades = list(range(1, 98))\n",
    "present.loc[present['ENTIDAD_NAC'] == 99, 'ENTIDAD_NAC'] = random.choice(entidades)\n",
    "len(present.loc[present['ENTIDAD_NAC'] ==99, ['ENTIDAD_NAC']])"
   ]
  },
  {
   "cell_type": "code",
   "execution_count": 32,
   "metadata": {},
   "outputs": [
    {
     "data": {
      "text/plain": [
       "0"
      ]
     },
     "execution_count": 32,
     "metadata": {},
     "output_type": "execute_result"
    }
   ],
   "source": [
    "#Entidad de residencia\n",
    "len(present.loc[present['ENTIDAD_RES'] ==99, ['ENTIDAD_RES']])"
   ]
  },
  {
   "cell_type": "code",
   "execution_count": 33,
   "metadata": {},
   "outputs": [
    {
     "data": {
      "text/plain": [
       "24953"
      ]
     },
     "execution_count": 33,
     "metadata": {},
     "output_type": "execute_result"
    }
   ],
   "source": [
    "#Municipio de residencia\n",
    "len(present.loc[present['MUNICIPIO_RES'] >=98, ['MUNICIPIO_RES']])"
   ]
  },
  {
   "cell_type": "code",
   "execution_count": 34,
   "metadata": {},
   "outputs": [
    {
     "data": {
      "text/plain": [
       "0"
      ]
     },
     "execution_count": 34,
     "metadata": {},
     "output_type": "execute_result"
    }
   ],
   "source": [
    "municipios = list(range(1, 571))\n",
    "present.loc[present['MUNICIPIO_RES'] == 99, 'MUNICIPIO_RES'] = random.choice(municipios)\n",
    "len(present.loc[present['MUNICIPIO_RES'] ==99, ['MUNICIPIO_RES']])"
   ]
  },
  {
   "cell_type": "code",
   "execution_count": 35,
   "metadata": {
    "scrolled": true
   },
   "outputs": [
    {
     "data": {
      "text/plain": [
       "0"
      ]
     },
     "execution_count": 35,
     "metadata": {},
     "output_type": "execute_result"
    }
   ],
   "source": [
    "#Tipo de paciente\n",
    "len(present.loc[present['TIPO_PACIENTE'] ==99, ['TIPO_PACIENTE']])"
   ]
  },
  {
   "cell_type": "code",
   "execution_count": 36,
   "metadata": {},
   "outputs": [
    {
     "data": {
      "text/plain": [
       "7"
      ]
     },
     "execution_count": 36,
     "metadata": {},
     "output_type": "execute_result"
    }
   ],
   "source": [
    "#Neumonia\n",
    "len(present.loc[present['NEUMONIA'] ==99, ['NEUMONIA']])"
   ]
  },
  {
   "cell_type": "code",
   "execution_count": 37,
   "metadata": {},
   "outputs": [
    {
     "data": {
      "text/plain": [
       "0"
      ]
     },
     "execution_count": 37,
     "metadata": {},
     "output_type": "execute_result"
    }
   ],
   "source": [
    "SINO = [1,2]\n",
    "present.loc[present['NEUMONIA'] == 99, 'NEUMONIA'] = random.choice(SINO)\n",
    "len(present.loc[present['NEUMONIA'] ==99, ['NEUMONIA']])"
   ]
  },
  {
   "cell_type": "code",
   "execution_count": 38,
   "metadata": {},
   "outputs": [
    {
     "data": {
      "text/plain": [
       "29"
      ]
     },
     "execution_count": 38,
     "metadata": {},
     "output_type": "execute_result"
    }
   ],
   "source": [
    "#EDAD\n",
    "len(present.loc[present['EDAD'] ==99, ['EDAD']])"
   ]
  },
  {
   "cell_type": "code",
   "execution_count": 39,
   "metadata": {},
   "outputs": [
    {
     "data": {
      "text/plain": [
       "42.539409959618226"
      ]
     },
     "execution_count": 39,
     "metadata": {},
     "output_type": "execute_result"
    }
   ],
   "source": [
    "present['EDAD'].mean()"
   ]
  },
  {
   "cell_type": "code",
   "execution_count": 40,
   "metadata": {},
   "outputs": [
    {
     "data": {
      "text/plain": [
       "0    30\n",
       "dtype: int64"
      ]
     },
     "execution_count": 40,
     "metadata": {},
     "output_type": "execute_result"
    }
   ],
   "source": [
    "present['EDAD'].mode()"
   ]
  },
  {
   "cell_type": "code",
   "execution_count": 41,
   "metadata": {},
   "outputs": [
    {
     "data": {
      "text/plain": [
       "0"
      ]
     },
     "execution_count": 41,
     "metadata": {},
     "output_type": "execute_result"
    }
   ],
   "source": [
    "present.loc[present['EDAD'] == 99, 'EDAD'] = 30\n",
    "len(present.loc[present['EDAD'] ==99, ['EDAD']])"
   ]
  },
  {
   "cell_type": "code",
   "execution_count": 42,
   "metadata": {},
   "outputs": [
    {
     "data": {
      "text/plain": [
       "0"
      ]
     },
     "execution_count": 42,
     "metadata": {},
     "output_type": "execute_result"
    }
   ],
   "source": [
    "#'EMBARAZO'\n",
    "len(present.loc[present['EMBARAZO'] ==99, ['EMBARAZO']])"
   ]
  },
  {
   "cell_type": "code",
   "execution_count": 43,
   "metadata": {},
   "outputs": [
    {
     "data": {
      "text/plain": [
       "5769"
      ]
     },
     "execution_count": 43,
     "metadata": {},
     "output_type": "execute_result"
    }
   ],
   "source": [
    "#'HABLA_LENGUA_INDIG'\n",
    "len(present.loc[present['HABLA_LENGUA_INDIG'] ==99, ['HABLA_LENGUA_INDIG']])"
   ]
  },
  {
   "cell_type": "code",
   "execution_count": 46,
   "metadata": {
    "collapsed": true
   },
   "outputs": [
    {
     "name": "stderr",
     "output_type": "stream",
     "text": [
      "/opt/anaconda3/lib/python3.7/site-packages/pandas/core/generic.py:6786: SettingWithCopyWarning: \n",
      "A value is trying to be set on a copy of a slice from a DataFrame\n",
      "\n",
      "See the caveats in the documentation: http://pandas.pydata.org/pandas-docs/stable/user_guide/indexing.html#returning-a-view-versus-a-copy\n",
      "  self._update_inplace(new_data)\n"
     ]
    }
   ],
   "source": [
    "present[\"HABLA_LENGUA_INDIG\"].replace(99 , random.choice([1,2]), inplace=True)"
   ]
  },
  {
   "cell_type": "code",
   "execution_count": 47,
   "metadata": {},
   "outputs": [
    {
     "data": {
      "text/plain": [
       "0"
      ]
     },
     "execution_count": 47,
     "metadata": {},
     "output_type": "execute_result"
    }
   ],
   "source": [
    "len(present.loc[present['HABLA_LENGUA_INDIG'] ==99, ['HABLA_LENGUA_INDIG']])"
   ]
  },
  {
   "cell_type": "code",
   "execution_count": 48,
   "metadata": {},
   "outputs": [
    {
     "data": {
      "text/plain": [
       "0"
      ]
     },
     "execution_count": 48,
     "metadata": {},
     "output_type": "execute_result"
    }
   ],
   "source": [
    "#DIABETES\n",
    "len(present.loc[present['DIABETES'] >=99, ['DIABETES']])"
   ]
  },
  {
   "cell_type": "code",
   "execution_count": 49,
   "metadata": {},
   "outputs": [
    {
     "data": {
      "text/plain": [
       "0"
      ]
     },
     "execution_count": 49,
     "metadata": {},
     "output_type": "execute_result"
    }
   ],
   "source": [
    "#EPOC\n",
    "len(present.loc[present['EPOC'] ==99, ['EPOC']])"
   ]
  },
  {
   "cell_type": "code",
   "execution_count": 50,
   "metadata": {},
   "outputs": [
    {
     "data": {
      "text/plain": [
       "0"
      ]
     },
     "execution_count": 50,
     "metadata": {},
     "output_type": "execute_result"
    }
   ],
   "source": [
    "#ASMA\n",
    "len(present.loc[present['ASMA'] ==99, ['ASMA']])"
   ]
  },
  {
   "cell_type": "code",
   "execution_count": 51,
   "metadata": {},
   "outputs": [
    {
     "data": {
      "text/plain": [
       "0"
      ]
     },
     "execution_count": 51,
     "metadata": {},
     "output_type": "execute_result"
    }
   ],
   "source": [
    "#INMUNOSUPRESION\n",
    "len(present.loc[present['INMUSUPR'] ==99, ['INMUSUPR']])"
   ]
  },
  {
   "cell_type": "code",
   "execution_count": 52,
   "metadata": {},
   "outputs": [
    {
     "data": {
      "text/plain": [
       "0"
      ]
     },
     "execution_count": 52,
     "metadata": {},
     "output_type": "execute_result"
    }
   ],
   "source": [
    "#HIPERTENSION\n",
    "len(present.loc[present['HIPERTENSION'] ==99, ['HIPERTENSION']])"
   ]
  },
  {
   "cell_type": "code",
   "execution_count": 53,
   "metadata": {},
   "outputs": [
    {
     "data": {
      "text/plain": [
       "0"
      ]
     },
     "execution_count": 53,
     "metadata": {},
     "output_type": "execute_result"
    }
   ],
   "source": [
    "#OTRAS COMPLICACIONES MEDICAS\n",
    "len(present.loc[present['OTRA_COM'] ==99, ['OTRA_COM']])"
   ]
  },
  {
   "cell_type": "code",
   "execution_count": 54,
   "metadata": {},
   "outputs": [
    {
     "data": {
      "text/plain": [
       "0"
      ]
     },
     "execution_count": 54,
     "metadata": {},
     "output_type": "execute_result"
    }
   ],
   "source": [
    "#PROBLEMAS CARDIOVASCULARES\n",
    "len(present.loc[present['CARDIOVASCULAR'] ==99, ['CARDIOVASCULAR']])"
   ]
  },
  {
   "cell_type": "code",
   "execution_count": 55,
   "metadata": {},
   "outputs": [
    {
     "data": {
      "text/plain": [
       "0"
      ]
     },
     "execution_count": 55,
     "metadata": {},
     "output_type": "execute_result"
    }
   ],
   "source": [
    "#OBESIDAD\n",
    "len(present.loc[present['OBESIDAD'] >=99, ['OBESIDAD']])"
   ]
  },
  {
   "cell_type": "code",
   "execution_count": 56,
   "metadata": {},
   "outputs": [
    {
     "data": {
      "text/plain": [
       "0"
      ]
     },
     "execution_count": 56,
     "metadata": {},
     "output_type": "execute_result"
    }
   ],
   "source": [
    "#INSUFICIENCIA RENAL CRONICA\n",
    "len(present.loc[present['RENAL_CRONICA'] >=99, ['RENAL_CRONICA']])"
   ]
  },
  {
   "cell_type": "code",
   "execution_count": 57,
   "metadata": {},
   "outputs": [
    {
     "data": {
      "text/plain": [
       "0"
      ]
     },
     "execution_count": 57,
     "metadata": {},
     "output_type": "execute_result"
    }
   ],
   "source": [
    "#TABAQUISMO\n",
    "len(present.loc[present['TABAQUISMO'] >=99, ['TABAQUISMO']])"
   ]
  },
  {
   "cell_type": "code",
   "execution_count": 58,
   "metadata": {},
   "outputs": [
    {
     "data": {
      "text/plain": [
       "69919"
      ]
     },
     "execution_count": 58,
     "metadata": {},
     "output_type": "execute_result"
    }
   ],
   "source": [
    "#CONTACTO CON OTRO CASO DE CORONAVIRUS\n",
    "len(present.loc[present['OTRO_CASO'] ==99, ['OTRO_CASO']]) #DADO DE ESTO ES ALEATORIO:"
   ]
  },
  {
   "cell_type": "code",
   "execution_count": 59,
   "metadata": {},
   "outputs": [
    {
     "data": {
      "text/plain": [
       "0"
      ]
     },
     "execution_count": 59,
     "metadata": {},
     "output_type": "execute_result"
    }
   ],
   "source": [
    "present.loc[present['OTRO_CASO'] == 99, 'OTRO_CASO'] = random.choice(SINO)\n",
    "len(present.loc[present['OTRO_CASO'] ==99, ['OTRO_CASO']])"
   ]
  },
  {
   "cell_type": "code",
   "execution_count": 60,
   "metadata": {},
   "outputs": [
    {
     "data": {
      "text/plain": [
       "0"
      ]
     },
     "execution_count": 60,
     "metadata": {},
     "output_type": "execute_result"
    }
   ],
   "source": [
    "#NACIONALIDAD\n",
    "len(present.loc[present['PAIS_NACIONALIDAD'] ==99, ['PAIS_NACIONALIDAD']])"
   ]
  },
  {
   "cell_type": "markdown",
   "metadata": {},
   "source": [
    "Separando en entrenamiento y validación"
   ]
  },
  {
   "cell_type": "code",
   "execution_count": 62,
   "metadata": {},
   "outputs": [],
   "source": [
    "from sklearn.model_selection import train_test_split"
   ]
  },
  {
   "cell_type": "code",
   "execution_count": 63,
   "metadata": {},
   "outputs": [
    {
     "data": {
      "text/html": [
       "<div>\n",
       "<style scoped>\n",
       "    .dataframe tbody tr th:only-of-type {\n",
       "        vertical-align: middle;\n",
       "    }\n",
       "\n",
       "    .dataframe tbody tr th {\n",
       "        vertical-align: top;\n",
       "    }\n",
       "\n",
       "    .dataframe thead th {\n",
       "        text-align: right;\n",
       "    }\n",
       "</style>\n",
       "<table border=\"1\" class=\"dataframe\">\n",
       "  <thead>\n",
       "    <tr style=\"text-align: right;\">\n",
       "      <th></th>\n",
       "      <th>ORIGEN</th>\n",
       "      <th>SECTOR</th>\n",
       "      <th>ENTIDAD_UM</th>\n",
       "      <th>SEXO</th>\n",
       "      <th>ENTIDAD_NAC</th>\n",
       "      <th>ENTIDAD_RES</th>\n",
       "      <th>MUNICIPIO_RES</th>\n",
       "      <th>TIPO_PACIENTE</th>\n",
       "      <th>NEUMONIA</th>\n",
       "      <th>EDAD</th>\n",
       "      <th>...</th>\n",
       "      <th>ASMA</th>\n",
       "      <th>INMUSUPR</th>\n",
       "      <th>HIPERTENSION</th>\n",
       "      <th>OTRA_COM</th>\n",
       "      <th>CARDIOVASCULAR</th>\n",
       "      <th>OBESIDAD</th>\n",
       "      <th>RENAL_CRONICA</th>\n",
       "      <th>TABAQUISMO</th>\n",
       "      <th>OTRO_CASO</th>\n",
       "      <th>PAIS_NACIONALIDAD</th>\n",
       "    </tr>\n",
       "    <tr>\n",
       "      <th>ID_REGISTRO</th>\n",
       "      <th></th>\n",
       "      <th></th>\n",
       "      <th></th>\n",
       "      <th></th>\n",
       "      <th></th>\n",
       "      <th></th>\n",
       "      <th></th>\n",
       "      <th></th>\n",
       "      <th></th>\n",
       "      <th></th>\n",
       "      <th></th>\n",
       "      <th></th>\n",
       "      <th></th>\n",
       "      <th></th>\n",
       "      <th></th>\n",
       "      <th></th>\n",
       "      <th></th>\n",
       "      <th></th>\n",
       "      <th></th>\n",
       "      <th></th>\n",
       "      <th></th>\n",
       "    </tr>\n",
       "  </thead>\n",
       "  <tbody>\n",
       "    <tr>\n",
       "      <td>0192e7</td>\n",
       "      <td>2</td>\n",
       "      <td>3</td>\n",
       "      <td>2</td>\n",
       "      <td>2</td>\n",
       "      <td>2</td>\n",
       "      <td>2</td>\n",
       "      <td>2</td>\n",
       "      <td>2</td>\n",
       "      <td>1</td>\n",
       "      <td>60</td>\n",
       "      <td>...</td>\n",
       "      <td>2</td>\n",
       "      <td>2</td>\n",
       "      <td>1</td>\n",
       "      <td>2</td>\n",
       "      <td>2</td>\n",
       "      <td>2</td>\n",
       "      <td>1</td>\n",
       "      <td>2</td>\n",
       "      <td>1</td>\n",
       "      <td>Mexico</td>\n",
       "    </tr>\n",
       "    <tr>\n",
       "      <td>02e0df</td>\n",
       "      <td>2</td>\n",
       "      <td>4</td>\n",
       "      <td>12</td>\n",
       "      <td>2</td>\n",
       "      <td>12</td>\n",
       "      <td>12</td>\n",
       "      <td>1</td>\n",
       "      <td>2</td>\n",
       "      <td>2</td>\n",
       "      <td>43</td>\n",
       "      <td>...</td>\n",
       "      <td>2</td>\n",
       "      <td>2</td>\n",
       "      <td>2</td>\n",
       "      <td>2</td>\n",
       "      <td>2</td>\n",
       "      <td>1</td>\n",
       "      <td>2</td>\n",
       "      <td>2</td>\n",
       "      <td>1</td>\n",
       "      <td>Mexico</td>\n",
       "    </tr>\n",
       "    <tr>\n",
       "      <td>02b7ac</td>\n",
       "      <td>2</td>\n",
       "      <td>4</td>\n",
       "      <td>14</td>\n",
       "      <td>1</td>\n",
       "      <td>14</td>\n",
       "      <td>14</td>\n",
       "      <td>120</td>\n",
       "      <td>1</td>\n",
       "      <td>2</td>\n",
       "      <td>26</td>\n",
       "      <td>...</td>\n",
       "      <td>2</td>\n",
       "      <td>2</td>\n",
       "      <td>2</td>\n",
       "      <td>2</td>\n",
       "      <td>2</td>\n",
       "      <td>2</td>\n",
       "      <td>2</td>\n",
       "      <td>2</td>\n",
       "      <td>1</td>\n",
       "      <td>Mexico</td>\n",
       "    </tr>\n",
       "    <tr>\n",
       "      <td>17979d</td>\n",
       "      <td>2</td>\n",
       "      <td>4</td>\n",
       "      <td>27</td>\n",
       "      <td>1</td>\n",
       "      <td>27</td>\n",
       "      <td>27</td>\n",
       "      <td>4</td>\n",
       "      <td>1</td>\n",
       "      <td>2</td>\n",
       "      <td>53</td>\n",
       "      <td>...</td>\n",
       "      <td>2</td>\n",
       "      <td>2</td>\n",
       "      <td>1</td>\n",
       "      <td>2</td>\n",
       "      <td>2</td>\n",
       "      <td>1</td>\n",
       "      <td>2</td>\n",
       "      <td>2</td>\n",
       "      <td>1</td>\n",
       "      <td>Mexico</td>\n",
       "    </tr>\n",
       "    <tr>\n",
       "      <td>15778b</td>\n",
       "      <td>2</td>\n",
       "      <td>4</td>\n",
       "      <td>27</td>\n",
       "      <td>1</td>\n",
       "      <td>27</td>\n",
       "      <td>27</td>\n",
       "      <td>4</td>\n",
       "      <td>1</td>\n",
       "      <td>2</td>\n",
       "      <td>28</td>\n",
       "      <td>...</td>\n",
       "      <td>2</td>\n",
       "      <td>2</td>\n",
       "      <td>2</td>\n",
       "      <td>2</td>\n",
       "      <td>2</td>\n",
       "      <td>2</td>\n",
       "      <td>2</td>\n",
       "      <td>2</td>\n",
       "      <td>1</td>\n",
       "      <td>Mexico</td>\n",
       "    </tr>\n",
       "    <tr>\n",
       "      <td>...</td>\n",
       "      <td>...</td>\n",
       "      <td>...</td>\n",
       "      <td>...</td>\n",
       "      <td>...</td>\n",
       "      <td>...</td>\n",
       "      <td>...</td>\n",
       "      <td>...</td>\n",
       "      <td>...</td>\n",
       "      <td>...</td>\n",
       "      <td>...</td>\n",
       "      <td>...</td>\n",
       "      <td>...</td>\n",
       "      <td>...</td>\n",
       "      <td>...</td>\n",
       "      <td>...</td>\n",
       "      <td>...</td>\n",
       "      <td>...</td>\n",
       "      <td>...</td>\n",
       "      <td>...</td>\n",
       "      <td>...</td>\n",
       "      <td>...</td>\n",
       "    </tr>\n",
       "    <tr>\n",
       "      <td>1a8dce</td>\n",
       "      <td>2</td>\n",
       "      <td>12</td>\n",
       "      <td>9</td>\n",
       "      <td>1</td>\n",
       "      <td>9</td>\n",
       "      <td>9</td>\n",
       "      <td>9</td>\n",
       "      <td>1</td>\n",
       "      <td>2</td>\n",
       "      <td>16</td>\n",
       "      <td>...</td>\n",
       "      <td>2</td>\n",
       "      <td>2</td>\n",
       "      <td>2</td>\n",
       "      <td>2</td>\n",
       "      <td>2</td>\n",
       "      <td>2</td>\n",
       "      <td>2</td>\n",
       "      <td>2</td>\n",
       "      <td>1</td>\n",
       "      <td>Mexico</td>\n",
       "    </tr>\n",
       "    <tr>\n",
       "      <td>060777</td>\n",
       "      <td>2</td>\n",
       "      <td>4</td>\n",
       "      <td>2</td>\n",
       "      <td>2</td>\n",
       "      <td>2</td>\n",
       "      <td>2</td>\n",
       "      <td>2</td>\n",
       "      <td>1</td>\n",
       "      <td>2</td>\n",
       "      <td>24</td>\n",
       "      <td>...</td>\n",
       "      <td>2</td>\n",
       "      <td>2</td>\n",
       "      <td>1</td>\n",
       "      <td>1</td>\n",
       "      <td>2</td>\n",
       "      <td>2</td>\n",
       "      <td>2</td>\n",
       "      <td>1</td>\n",
       "      <td>1</td>\n",
       "      <td>Mexico</td>\n",
       "    </tr>\n",
       "    <tr>\n",
       "      <td>19955d</td>\n",
       "      <td>2</td>\n",
       "      <td>6</td>\n",
       "      <td>28</td>\n",
       "      <td>1</td>\n",
       "      <td>28</td>\n",
       "      <td>28</td>\n",
       "      <td>3</td>\n",
       "      <td>2</td>\n",
       "      <td>2</td>\n",
       "      <td>35</td>\n",
       "      <td>...</td>\n",
       "      <td>2</td>\n",
       "      <td>2</td>\n",
       "      <td>2</td>\n",
       "      <td>2</td>\n",
       "      <td>2</td>\n",
       "      <td>2</td>\n",
       "      <td>2</td>\n",
       "      <td>2</td>\n",
       "      <td>1</td>\n",
       "      <td>Mexico</td>\n",
       "    </tr>\n",
       "    <tr>\n",
       "      <td>1511b5</td>\n",
       "      <td>2</td>\n",
       "      <td>4</td>\n",
       "      <td>19</td>\n",
       "      <td>2</td>\n",
       "      <td>19</td>\n",
       "      <td>19</td>\n",
       "      <td>46</td>\n",
       "      <td>1</td>\n",
       "      <td>2</td>\n",
       "      <td>35</td>\n",
       "      <td>...</td>\n",
       "      <td>2</td>\n",
       "      <td>2</td>\n",
       "      <td>2</td>\n",
       "      <td>2</td>\n",
       "      <td>2</td>\n",
       "      <td>2</td>\n",
       "      <td>2</td>\n",
       "      <td>2</td>\n",
       "      <td>1</td>\n",
       "      <td>Mexico</td>\n",
       "    </tr>\n",
       "    <tr>\n",
       "      <td>03ddc4</td>\n",
       "      <td>2</td>\n",
       "      <td>12</td>\n",
       "      <td>24</td>\n",
       "      <td>1</td>\n",
       "      <td>24</td>\n",
       "      <td>24</td>\n",
       "      <td>15</td>\n",
       "      <td>1</td>\n",
       "      <td>2</td>\n",
       "      <td>25</td>\n",
       "      <td>...</td>\n",
       "      <td>2</td>\n",
       "      <td>2</td>\n",
       "      <td>2</td>\n",
       "      <td>1</td>\n",
       "      <td>2</td>\n",
       "      <td>2</td>\n",
       "      <td>2</td>\n",
       "      <td>2</td>\n",
       "      <td>1</td>\n",
       "      <td>Mexico</td>\n",
       "    </tr>\n",
       "  </tbody>\n",
       "</table>\n",
       "<p>218663 rows × 24 columns</p>\n",
       "</div>"
      ],
      "text/plain": [
       "             ORIGEN  SECTOR  ENTIDAD_UM  SEXO  ENTIDAD_NAC  ENTIDAD_RES  \\\n",
       "ID_REGISTRO                                                               \n",
       "0192e7            2       3           2     2            2            2   \n",
       "02e0df            2       4          12     2           12           12   \n",
       "02b7ac            2       4          14     1           14           14   \n",
       "17979d            2       4          27     1           27           27   \n",
       "15778b            2       4          27     1           27           27   \n",
       "...             ...     ...         ...   ...          ...          ...   \n",
       "1a8dce            2      12           9     1            9            9   \n",
       "060777            2       4           2     2            2            2   \n",
       "19955d            2       6          28     1           28           28   \n",
       "1511b5            2       4          19     2           19           19   \n",
       "03ddc4            2      12          24     1           24           24   \n",
       "\n",
       "             MUNICIPIO_RES  TIPO_PACIENTE  NEUMONIA  EDAD  ...  ASMA  \\\n",
       "ID_REGISTRO                                                ...         \n",
       "0192e7                   2              2         1    60  ...     2   \n",
       "02e0df                   1              2         2    43  ...     2   \n",
       "02b7ac                 120              1         2    26  ...     2   \n",
       "17979d                   4              1         2    53  ...     2   \n",
       "15778b                   4              1         2    28  ...     2   \n",
       "...                    ...            ...       ...   ...  ...   ...   \n",
       "1a8dce                   9              1         2    16  ...     2   \n",
       "060777                   2              1         2    24  ...     2   \n",
       "19955d                   3              2         2    35  ...     2   \n",
       "1511b5                  46              1         2    35  ...     2   \n",
       "03ddc4                  15              1         2    25  ...     2   \n",
       "\n",
       "             INMUSUPR  HIPERTENSION  OTRA_COM  CARDIOVASCULAR  OBESIDAD  \\\n",
       "ID_REGISTRO                                                               \n",
       "0192e7              2             1         2               2         2   \n",
       "02e0df              2             2         2               2         1   \n",
       "02b7ac              2             2         2               2         2   \n",
       "17979d              2             1         2               2         1   \n",
       "15778b              2             2         2               2         2   \n",
       "...               ...           ...       ...             ...       ...   \n",
       "1a8dce              2             2         2               2         2   \n",
       "060777              2             1         1               2         2   \n",
       "19955d              2             2         2               2         2   \n",
       "1511b5              2             2         2               2         2   \n",
       "03ddc4              2             2         1               2         2   \n",
       "\n",
       "             RENAL_CRONICA  TABAQUISMO  OTRO_CASO  PAIS_NACIONALIDAD  \n",
       "ID_REGISTRO                                                           \n",
       "0192e7                   1           2          1             Mexico  \n",
       "02e0df                   2           2          1             Mexico  \n",
       "02b7ac                   2           2          1             Mexico  \n",
       "17979d                   2           2          1             Mexico  \n",
       "15778b                   2           2          1             Mexico  \n",
       "...                    ...         ...        ...                ...  \n",
       "1a8dce                   2           2          1             Mexico  \n",
       "060777                   2           1          1             Mexico  \n",
       "19955d                   2           2          1             Mexico  \n",
       "1511b5                   2           2          1             Mexico  \n",
       "03ddc4                   2           2          1             Mexico  \n",
       "\n",
       "[218663 rows x 24 columns]"
      ]
     },
     "execution_count": 63,
     "metadata": {},
     "output_type": "execute_result"
    }
   ],
   "source": [
    "Y = present[\"RESULTADO\"]\n",
    "X = present.drop(\"RESULTADO\", axis=1)\n",
    "X"
   ]
  },
  {
   "cell_type": "code",
   "execution_count": 64,
   "metadata": {},
   "outputs": [],
   "source": [
    "X_train, X_test, y_train, y_test = train_test_split(X, Y, test_size=0.33, random_state=42) "
   ]
  },
  {
   "cell_type": "markdown",
   "metadata": {},
   "source": [
    "# Utilizar Naive Bayes y Árboles de Decisión"
   ]
  },
  {
   "cell_type": "code",
   "execution_count": 76,
   "metadata": {},
   "outputs": [],
   "source": [
    "from sklearn.tree import DecisionTreeClassifier\n",
    "from sklearn import tree\n",
    "from sklearn.preprocessing import OrdinalEncoder"
   ]
  },
  {
   "cell_type": "code",
   "execution_count": 77,
   "metadata": {},
   "outputs": [],
   "source": [
    "encod = OrdinalEncoder()"
   ]
  },
  {
   "cell_type": "code",
   "execution_count": 85,
   "metadata": {},
   "outputs": [],
   "source": [
    "paises = list(set(present[\"PAIS_NACIONALIDAD\"]))\n",
    "pa = []\n",
    "for i in range(len(paises)):\n",
    "    pa.append([paises[i], i])"
   ]
  },
  {
   "cell_type": "code",
   "execution_count": 91,
   "metadata": {
    "collapsed": true
   },
   "outputs": [
    {
     "data": {
      "text/plain": [
       "{'Belice': 8.0,\n",
       " 'Otro': 50.0,\n",
       " 'Republica de Honduras': 63.0,\n",
       " 'Ascension': 4.0,\n",
       " 'Republica Checa y Republica Eslovaca': 57.0,\n",
       " 'Dinamarca': 20.0,\n",
       " 'Commonwealth de Dominica': 17.0,\n",
       " 'Canada': 13.0,\n",
       " 'Republica de Corea': 61.0,\n",
       " 'Archipielago de Svalbard': 1.0,\n",
       " 'Zimbabwe': 74.0,\n",
       " 'Venezuela': 73.0,\n",
       " 'Egipto': 22.0,\n",
       " 'Grecia': 31.0,\n",
       " 'Brasil': 11.0,\n",
       " 'Republica Dominicana': 58.0,\n",
       " 'Letonia': 43.0,\n",
       " 'Eslovenia': 25.0,\n",
       " 'Principado de Monaco': 56.0,\n",
       " 'Austria': 6.0,\n",
       " 'Australia': 5.0,\n",
       " 'Colombia': 16.0,\n",
       " 'Camerun': 12.0,\n",
       " 'Republica de Costa Rica': 62.0,\n",
       " 'Suiza': 69.0,\n",
       " 'Rumania': 66.0,\n",
       " 'Pakistan': 51.0,\n",
       " 'Nicaragua': 48.0,\n",
       " 'Estados Unidos de America': 27.0,\n",
       " 'Ucrania': 72.0,\n",
       " 'Polonia': 54.0,\n",
       " 'Francia': 29.0,\n",
       " 'Holanda': 34.0,\n",
       " 'Peru': 53.0,\n",
       " 'Alemania': 0.0,\n",
       " 'Irlanda': 38.0,\n",
       " 'Islandia': 39.0,\n",
       " 'Argentina': 3.0,\n",
       " 'El Salvador': 23.0,\n",
       " 'China': 15.0,\n",
       " 'Turquia': 71.0,\n",
       " 'Republica de Angola': 60.0,\n",
       " 'Republica de Panama': 65.0,\n",
       " 'Bolivia': 9.0,\n",
       " 'Republica Oriental del Uruguay': 59.0,\n",
       " 'Zona Neutral': 75.0,\n",
       " 'España': 26.0,\n",
       " 'Eritrea': 24.0,\n",
       " 'Bangladesh': 7.0,\n",
       " 'Argelia': 2.0,\n",
       " 'Chile': 14.0,\n",
       " 'Portugal': 55.0,\n",
       " 'Japon': 42.0,\n",
       " 'Rusia': 67.0,\n",
       " 'Iran': 37.0,\n",
       " 'Micronesia': 47.0,\n",
       " 'Gran Bretaña (Reino Unido)': 30.0,\n",
       " 'Republica de Mauricio': 64.0,\n",
       " 'Cuba': 19.0,\n",
       " 'Hungria': 35.0,\n",
       " 'Bosnia y Herzegovina': 10.0,\n",
       " 'Italia': 41.0,\n",
       " 'Mexico': 46.0,\n",
       " 'Ecuador': 21.0,\n",
       " 'Noruega': 49.0,\n",
       " 'Macao': 44.0,\n",
       " 'Israel': 40.0,\n",
       " 'Trieste': 70.0,\n",
       " 'Suecia': 68.0,\n",
       " 'Paraguay': 52.0,\n",
       " 'Guatemala': 32.0,\n",
       " 'Finlandia': 28.0,\n",
       " 'India': 36.0,\n",
       " 'Costa de Marfil': 18.0,\n",
       " 'Haiti': 33.0,\n",
       " 'Malasia': 45.0}"
      ]
     },
     "execution_count": 91,
     "metadata": {},
     "output_type": "execute_result"
    }
   ],
   "source": [
    "paises_encoded = encod.fit_transform(pa)\n",
    "dic = {}\n",
    "for i in range(len(paises_encoded)):\n",
    "    dic[paises[i]] = paises_encoded[i][0]\n"
   ]
  },
  {
   "cell_type": "code",
   "execution_count": 145,
   "metadata": {
    "collapsed": true
   },
   "outputs": [
    {
     "name": "stderr",
     "output_type": "stream",
     "text": [
      "/opt/anaconda3/lib/python3.7/site-packages/ipykernel_launcher.py:1: SettingWithCopyWarning: \n",
      "A value is trying to be set on a copy of a slice from a DataFrame.\n",
      "Try using .loc[row_indexer,col_indexer] = value instead\n",
      "\n",
      "See the caveats in the documentation: http://pandas.pydata.org/pandas-docs/stable/user_guide/indexing.html#returning-a-view-versus-a-copy\n",
      "  \"\"\"Entry point for launching an IPython kernel.\n",
      "/opt/anaconda3/lib/python3.7/site-packages/ipykernel_launcher.py:2: SettingWithCopyWarning: \n",
      "A value is trying to be set on a copy of a slice from a DataFrame.\n",
      "Try using .loc[row_indexer,col_indexer] = value instead\n",
      "\n",
      "See the caveats in the documentation: http://pandas.pydata.org/pandas-docs/stable/user_guide/indexing.html#returning-a-view-versus-a-copy\n",
      "  \n",
      "/opt/anaconda3/lib/python3.7/site-packages/ipykernel_launcher.py:3: SettingWithCopyWarning: \n",
      "A value is trying to be set on a copy of a slice from a DataFrame.\n",
      "Try using .loc[row_indexer,col_indexer] = value instead\n",
      "\n",
      "See the caveats in the documentation: http://pandas.pydata.org/pandas-docs/stable/user_guide/indexing.html#returning-a-view-versus-a-copy\n",
      "  This is separate from the ipykernel package so we can avoid doing imports until\n",
      "/opt/anaconda3/lib/python3.7/site-packages/ipykernel_launcher.py:4: SettingWithCopyWarning: \n",
      "A value is trying to be set on a copy of a slice from a DataFrame.\n",
      "Try using .loc[row_indexer,col_indexer] = value instead\n",
      "\n",
      "See the caveats in the documentation: http://pandas.pydata.org/pandas-docs/stable/user_guide/indexing.html#returning-a-view-versus-a-copy\n",
      "  after removing the cwd from sys.path.\n",
      "/opt/anaconda3/lib/python3.7/site-packages/ipykernel_launcher.py:5: SettingWithCopyWarning: \n",
      "A value is trying to be set on a copy of a slice from a DataFrame.\n",
      "Try using .loc[row_indexer,col_indexer] = value instead\n",
      "\n",
      "See the caveats in the documentation: http://pandas.pydata.org/pandas-docs/stable/user_guide/indexing.html#returning-a-view-versus-a-copy\n",
      "  \"\"\"\n",
      "/opt/anaconda3/lib/python3.7/site-packages/ipykernel_launcher.py:6: SettingWithCopyWarning: \n",
      "A value is trying to be set on a copy of a slice from a DataFrame.\n",
      "Try using .loc[row_indexer,col_indexer] = value instead\n",
      "\n",
      "See the caveats in the documentation: http://pandas.pydata.org/pandas-docs/stable/user_guide/indexing.html#returning-a-view-versus-a-copy\n",
      "  \n",
      "/opt/anaconda3/lib/python3.7/site-packages/ipykernel_launcher.py:7: SettingWithCopyWarning: \n",
      "A value is trying to be set on a copy of a slice from a DataFrame.\n",
      "Try using .loc[row_indexer,col_indexer] = value instead\n",
      "\n",
      "See the caveats in the documentation: http://pandas.pydata.org/pandas-docs/stable/user_guide/indexing.html#returning-a-view-versus-a-copy\n",
      "  import sys\n",
      "/opt/anaconda3/lib/python3.7/site-packages/ipykernel_launcher.py:8: SettingWithCopyWarning: \n",
      "A value is trying to be set on a copy of a slice from a DataFrame.\n",
      "Try using .loc[row_indexer,col_indexer] = value instead\n",
      "\n",
      "See the caveats in the documentation: http://pandas.pydata.org/pandas-docs/stable/user_guide/indexing.html#returning-a-view-versus-a-copy\n",
      "  \n",
      "/opt/anaconda3/lib/python3.7/site-packages/ipykernel_launcher.py:9: SettingWithCopyWarning: \n",
      "A value is trying to be set on a copy of a slice from a DataFrame.\n",
      "Try using .loc[row_indexer,col_indexer] = value instead\n",
      "\n",
      "See the caveats in the documentation: http://pandas.pydata.org/pandas-docs/stable/user_guide/indexing.html#returning-a-view-versus-a-copy\n",
      "  if __name__ == '__main__':\n",
      "/opt/anaconda3/lib/python3.7/site-packages/ipykernel_launcher.py:10: SettingWithCopyWarning: \n",
      "A value is trying to be set on a copy of a slice from a DataFrame.\n",
      "Try using .loc[row_indexer,col_indexer] = value instead\n",
      "\n",
      "See the caveats in the documentation: http://pandas.pydata.org/pandas-docs/stable/user_guide/indexing.html#returning-a-view-versus-a-copy\n",
      "  # Remove the CWD from sys.path while we load stuff.\n",
      "/opt/anaconda3/lib/python3.7/site-packages/ipykernel_launcher.py:11: SettingWithCopyWarning: \n",
      "A value is trying to be set on a copy of a slice from a DataFrame.\n",
      "Try using .loc[row_indexer,col_indexer] = value instead\n",
      "\n",
      "See the caveats in the documentation: http://pandas.pydata.org/pandas-docs/stable/user_guide/indexing.html#returning-a-view-versus-a-copy\n",
      "  # This is added back by InteractiveShellApp.init_path()\n",
      "/opt/anaconda3/lib/python3.7/site-packages/ipykernel_launcher.py:12: SettingWithCopyWarning: \n",
      "A value is trying to be set on a copy of a slice from a DataFrame.\n",
      "Try using .loc[row_indexer,col_indexer] = value instead\n",
      "\n",
      "See the caveats in the documentation: http://pandas.pydata.org/pandas-docs/stable/user_guide/indexing.html#returning-a-view-versus-a-copy\n",
      "  if sys.path[0] == '':\n",
      "/opt/anaconda3/lib/python3.7/site-packages/ipykernel_launcher.py:13: SettingWithCopyWarning: \n",
      "A value is trying to be set on a copy of a slice from a DataFrame.\n",
      "Try using .loc[row_indexer,col_indexer] = value instead\n",
      "\n",
      "See the caveats in the documentation: http://pandas.pydata.org/pandas-docs/stable/user_guide/indexing.html#returning-a-view-versus-a-copy\n",
      "  del sys.path[0]\n",
      "/opt/anaconda3/lib/python3.7/site-packages/ipykernel_launcher.py:14: SettingWithCopyWarning: \n",
      "A value is trying to be set on a copy of a slice from a DataFrame.\n",
      "Try using .loc[row_indexer,col_indexer] = value instead\n",
      "\n",
      "See the caveats in the documentation: http://pandas.pydata.org/pandas-docs/stable/user_guide/indexing.html#returning-a-view-versus-a-copy\n",
      "  \n",
      "/opt/anaconda3/lib/python3.7/site-packages/ipykernel_launcher.py:15: SettingWithCopyWarning: \n",
      "A value is trying to be set on a copy of a slice from a DataFrame.\n",
      "Try using .loc[row_indexer,col_indexer] = value instead\n",
      "\n",
      "See the caveats in the documentation: http://pandas.pydata.org/pandas-docs/stable/user_guide/indexing.html#returning-a-view-versus-a-copy\n",
      "  from ipykernel import kernelapp as app\n",
      "/opt/anaconda3/lib/python3.7/site-packages/ipykernel_launcher.py:16: SettingWithCopyWarning: \n",
      "A value is trying to be set on a copy of a slice from a DataFrame.\n",
      "Try using .loc[row_indexer,col_indexer] = value instead\n",
      "\n",
      "See the caveats in the documentation: http://pandas.pydata.org/pandas-docs/stable/user_guide/indexing.html#returning-a-view-versus-a-copy\n",
      "  app.launch_new_instance()\n",
      "/opt/anaconda3/lib/python3.7/site-packages/ipykernel_launcher.py:17: SettingWithCopyWarning: \n",
      "A value is trying to be set on a copy of a slice from a DataFrame.\n",
      "Try using .loc[row_indexer,col_indexer] = value instead\n",
      "\n",
      "See the caveats in the documentation: http://pandas.pydata.org/pandas-docs/stable/user_guide/indexing.html#returning-a-view-versus-a-copy\n",
      "/opt/anaconda3/lib/python3.7/site-packages/ipykernel_launcher.py:18: SettingWithCopyWarning: \n",
      "A value is trying to be set on a copy of a slice from a DataFrame.\n",
      "Try using .loc[row_indexer,col_indexer] = value instead\n",
      "\n",
      "See the caveats in the documentation: http://pandas.pydata.org/pandas-docs/stable/user_guide/indexing.html#returning-a-view-versus-a-copy\n",
      "/opt/anaconda3/lib/python3.7/site-packages/ipykernel_launcher.py:19: SettingWithCopyWarning: \n",
      "A value is trying to be set on a copy of a slice from a DataFrame.\n",
      "Try using .loc[row_indexer,col_indexer] = value instead\n",
      "\n",
      "See the caveats in the documentation: http://pandas.pydata.org/pandas-docs/stable/user_guide/indexing.html#returning-a-view-versus-a-copy\n",
      "/opt/anaconda3/lib/python3.7/site-packages/ipykernel_launcher.py:20: SettingWithCopyWarning: \n",
      "A value is trying to be set on a copy of a slice from a DataFrame.\n",
      "Try using .loc[row_indexer,col_indexer] = value instead\n",
      "\n",
      "See the caveats in the documentation: http://pandas.pydata.org/pandas-docs/stable/user_guide/indexing.html#returning-a-view-versus-a-copy\n",
      "/opt/anaconda3/lib/python3.7/site-packages/ipykernel_launcher.py:21: SettingWithCopyWarning: \n",
      "A value is trying to be set on a copy of a slice from a DataFrame.\n",
      "Try using .loc[row_indexer,col_indexer] = value instead\n",
      "\n",
      "See the caveats in the documentation: http://pandas.pydata.org/pandas-docs/stable/user_guide/indexing.html#returning-a-view-versus-a-copy\n",
      "/opt/anaconda3/lib/python3.7/site-packages/ipykernel_launcher.py:22: SettingWithCopyWarning: \n",
      "A value is trying to be set on a copy of a slice from a DataFrame.\n",
      "Try using .loc[row_indexer,col_indexer] = value instead\n",
      "\n",
      "See the caveats in the documentation: http://pandas.pydata.org/pandas-docs/stable/user_guide/indexing.html#returning-a-view-versus-a-copy\n",
      "/opt/anaconda3/lib/python3.7/site-packages/ipykernel_launcher.py:23: SettingWithCopyWarning: \n",
      "A value is trying to be set on a copy of a slice from a DataFrame.\n",
      "Try using .loc[row_indexer,col_indexer] = value instead\n",
      "\n",
      "See the caveats in the documentation: http://pandas.pydata.org/pandas-docs/stable/user_guide/indexing.html#returning-a-view-versus-a-copy\n"
     ]
    },
    {
     "name": "stderr",
     "output_type": "stream",
     "text": [
      "/opt/anaconda3/lib/python3.7/site-packages/ipykernel_launcher.py:24: SettingWithCopyWarning: \n",
      "A value is trying to be set on a copy of a slice from a DataFrame.\n",
      "Try using .loc[row_indexer,col_indexer] = value instead\n",
      "\n",
      "See the caveats in the documentation: http://pandas.pydata.org/pandas-docs/stable/user_guide/indexing.html#returning-a-view-versus-a-copy\n",
      "/opt/anaconda3/lib/python3.7/site-packages/ipykernel_launcher.py:25: SettingWithCopyWarning: \n",
      "A value is trying to be set on a copy of a slice from a DataFrame.\n",
      "Try using .loc[row_indexer,col_indexer] = value instead\n",
      "\n",
      "See the caveats in the documentation: http://pandas.pydata.org/pandas-docs/stable/user_guide/indexing.html#returning-a-view-versus-a-copy\n",
      "/opt/anaconda3/lib/python3.7/site-packages/ipykernel_launcher.py:26: SettingWithCopyWarning: \n",
      "A value is trying to be set on a copy of a slice from a DataFrame.\n",
      "Try using .loc[row_indexer,col_indexer] = value instead\n",
      "\n",
      "See the caveats in the documentation: http://pandas.pydata.org/pandas-docs/stable/user_guide/indexing.html#returning-a-view-versus-a-copy\n",
      "/opt/anaconda3/lib/python3.7/site-packages/ipykernel_launcher.py:27: SettingWithCopyWarning: \n",
      "A value is trying to be set on a copy of a slice from a DataFrame.\n",
      "Try using .loc[row_indexer,col_indexer] = value instead\n",
      "\n",
      "See the caveats in the documentation: http://pandas.pydata.org/pandas-docs/stable/user_guide/indexing.html#returning-a-view-versus-a-copy\n",
      "/opt/anaconda3/lib/python3.7/site-packages/ipykernel_launcher.py:28: SettingWithCopyWarning: \n",
      "A value is trying to be set on a copy of a slice from a DataFrame.\n",
      "Try using .loc[row_indexer,col_indexer] = value instead\n",
      "\n",
      "See the caveats in the documentation: http://pandas.pydata.org/pandas-docs/stable/user_guide/indexing.html#returning-a-view-versus-a-copy\n",
      "/opt/anaconda3/lib/python3.7/site-packages/ipykernel_launcher.py:29: SettingWithCopyWarning: \n",
      "A value is trying to be set on a copy of a slice from a DataFrame.\n",
      "Try using .loc[row_indexer,col_indexer] = value instead\n",
      "\n",
      "See the caveats in the documentation: http://pandas.pydata.org/pandas-docs/stable/user_guide/indexing.html#returning-a-view-versus-a-copy\n",
      "/opt/anaconda3/lib/python3.7/site-packages/ipykernel_launcher.py:30: SettingWithCopyWarning: \n",
      "A value is trying to be set on a copy of a slice from a DataFrame.\n",
      "Try using .loc[row_indexer,col_indexer] = value instead\n",
      "\n",
      "See the caveats in the documentation: http://pandas.pydata.org/pandas-docs/stable/user_guide/indexing.html#returning-a-view-versus-a-copy\n",
      "/opt/anaconda3/lib/python3.7/site-packages/ipykernel_launcher.py:31: SettingWithCopyWarning: \n",
      "A value is trying to be set on a copy of a slice from a DataFrame.\n",
      "Try using .loc[row_indexer,col_indexer] = value instead\n",
      "\n",
      "See the caveats in the documentation: http://pandas.pydata.org/pandas-docs/stable/user_guide/indexing.html#returning-a-view-versus-a-copy\n",
      "/opt/anaconda3/lib/python3.7/site-packages/ipykernel_launcher.py:32: SettingWithCopyWarning: \n",
      "A value is trying to be set on a copy of a slice from a DataFrame.\n",
      "Try using .loc[row_indexer,col_indexer] = value instead\n",
      "\n",
      "See the caveats in the documentation: http://pandas.pydata.org/pandas-docs/stable/user_guide/indexing.html#returning-a-view-versus-a-copy\n",
      "/opt/anaconda3/lib/python3.7/site-packages/ipykernel_launcher.py:33: SettingWithCopyWarning: \n",
      "A value is trying to be set on a copy of a slice from a DataFrame.\n",
      "Try using .loc[row_indexer,col_indexer] = value instead\n",
      "\n",
      "See the caveats in the documentation: http://pandas.pydata.org/pandas-docs/stable/user_guide/indexing.html#returning-a-view-versus-a-copy\n",
      "/opt/anaconda3/lib/python3.7/site-packages/ipykernel_launcher.py:34: SettingWithCopyWarning: \n",
      "A value is trying to be set on a copy of a slice from a DataFrame.\n",
      "Try using .loc[row_indexer,col_indexer] = value instead\n",
      "\n",
      "See the caveats in the documentation: http://pandas.pydata.org/pandas-docs/stable/user_guide/indexing.html#returning-a-view-versus-a-copy\n",
      "/opt/anaconda3/lib/python3.7/site-packages/ipykernel_launcher.py:35: SettingWithCopyWarning: \n",
      "A value is trying to be set on a copy of a slice from a DataFrame.\n",
      "Try using .loc[row_indexer,col_indexer] = value instead\n",
      "\n",
      "See the caveats in the documentation: http://pandas.pydata.org/pandas-docs/stable/user_guide/indexing.html#returning-a-view-versus-a-copy\n",
      "/opt/anaconda3/lib/python3.7/site-packages/ipykernel_launcher.py:36: SettingWithCopyWarning: \n",
      "A value is trying to be set on a copy of a slice from a DataFrame.\n",
      "Try using .loc[row_indexer,col_indexer] = value instead\n",
      "\n",
      "See the caveats in the documentation: http://pandas.pydata.org/pandas-docs/stable/user_guide/indexing.html#returning-a-view-versus-a-copy\n",
      "/opt/anaconda3/lib/python3.7/site-packages/ipykernel_launcher.py:37: SettingWithCopyWarning: \n",
      "A value is trying to be set on a copy of a slice from a DataFrame.\n",
      "Try using .loc[row_indexer,col_indexer] = value instead\n",
      "\n",
      "See the caveats in the documentation: http://pandas.pydata.org/pandas-docs/stable/user_guide/indexing.html#returning-a-view-versus-a-copy\n",
      "/opt/anaconda3/lib/python3.7/site-packages/ipykernel_launcher.py:38: SettingWithCopyWarning: \n",
      "A value is trying to be set on a copy of a slice from a DataFrame.\n",
      "Try using .loc[row_indexer,col_indexer] = value instead\n",
      "\n",
      "See the caveats in the documentation: http://pandas.pydata.org/pandas-docs/stable/user_guide/indexing.html#returning-a-view-versus-a-copy\n",
      "/opt/anaconda3/lib/python3.7/site-packages/ipykernel_launcher.py:39: SettingWithCopyWarning: \n",
      "A value is trying to be set on a copy of a slice from a DataFrame.\n",
      "Try using .loc[row_indexer,col_indexer] = value instead\n",
      "\n",
      "See the caveats in the documentation: http://pandas.pydata.org/pandas-docs/stable/user_guide/indexing.html#returning-a-view-versus-a-copy\n",
      "/opt/anaconda3/lib/python3.7/site-packages/ipykernel_launcher.py:40: SettingWithCopyWarning: \n",
      "A value is trying to be set on a copy of a slice from a DataFrame.\n",
      "Try using .loc[row_indexer,col_indexer] = value instead\n",
      "\n",
      "See the caveats in the documentation: http://pandas.pydata.org/pandas-docs/stable/user_guide/indexing.html#returning-a-view-versus-a-copy\n",
      "/opt/anaconda3/lib/python3.7/site-packages/ipykernel_launcher.py:41: SettingWithCopyWarning: \n",
      "A value is trying to be set on a copy of a slice from a DataFrame.\n",
      "Try using .loc[row_indexer,col_indexer] = value instead\n",
      "\n",
      "See the caveats in the documentation: http://pandas.pydata.org/pandas-docs/stable/user_guide/indexing.html#returning-a-view-versus-a-copy\n",
      "/opt/anaconda3/lib/python3.7/site-packages/ipykernel_launcher.py:42: SettingWithCopyWarning: \n",
      "A value is trying to be set on a copy of a slice from a DataFrame.\n",
      "Try using .loc[row_indexer,col_indexer] = value instead\n",
      "\n",
      "See the caveats in the documentation: http://pandas.pydata.org/pandas-docs/stable/user_guide/indexing.html#returning-a-view-versus-a-copy\n",
      "/opt/anaconda3/lib/python3.7/site-packages/ipykernel_launcher.py:43: SettingWithCopyWarning: \n",
      "A value is trying to be set on a copy of a slice from a DataFrame.\n",
      "Try using .loc[row_indexer,col_indexer] = value instead\n",
      "\n",
      "See the caveats in the documentation: http://pandas.pydata.org/pandas-docs/stable/user_guide/indexing.html#returning-a-view-versus-a-copy\n",
      "/opt/anaconda3/lib/python3.7/site-packages/ipykernel_launcher.py:44: SettingWithCopyWarning: \n",
      "A value is trying to be set on a copy of a slice from a DataFrame.\n",
      "Try using .loc[row_indexer,col_indexer] = value instead\n",
      "\n",
      "See the caveats in the documentation: http://pandas.pydata.org/pandas-docs/stable/user_guide/indexing.html#returning-a-view-versus-a-copy\n",
      "/opt/anaconda3/lib/python3.7/site-packages/ipykernel_launcher.py:45: SettingWithCopyWarning: \n",
      "A value is trying to be set on a copy of a slice from a DataFrame.\n",
      "Try using .loc[row_indexer,col_indexer] = value instead\n",
      "\n",
      "See the caveats in the documentation: http://pandas.pydata.org/pandas-docs/stable/user_guide/indexing.html#returning-a-view-versus-a-copy\n",
      "/opt/anaconda3/lib/python3.7/site-packages/ipykernel_launcher.py:46: SettingWithCopyWarning: \n",
      "A value is trying to be set on a copy of a slice from a DataFrame.\n",
      "Try using .loc[row_indexer,col_indexer] = value instead\n",
      "\n",
      "See the caveats in the documentation: http://pandas.pydata.org/pandas-docs/stable/user_guide/indexing.html#returning-a-view-versus-a-copy\n",
      "/opt/anaconda3/lib/python3.7/site-packages/ipykernel_launcher.py:47: SettingWithCopyWarning: \n",
      "A value is trying to be set on a copy of a slice from a DataFrame.\n",
      "Try using .loc[row_indexer,col_indexer] = value instead\n",
      "\n",
      "See the caveats in the documentation: http://pandas.pydata.org/pandas-docs/stable/user_guide/indexing.html#returning-a-view-versus-a-copy\n",
      "/opt/anaconda3/lib/python3.7/site-packages/ipykernel_launcher.py:48: SettingWithCopyWarning: \n",
      "A value is trying to be set on a copy of a slice from a DataFrame.\n",
      "Try using .loc[row_indexer,col_indexer] = value instead\n",
      "\n",
      "See the caveats in the documentation: http://pandas.pydata.org/pandas-docs/stable/user_guide/indexing.html#returning-a-view-versus-a-copy\n",
      "/opt/anaconda3/lib/python3.7/site-packages/ipykernel_launcher.py:49: SettingWithCopyWarning: \n",
      "A value is trying to be set on a copy of a slice from a DataFrame.\n",
      "Try using .loc[row_indexer,col_indexer] = value instead\n",
      "\n",
      "See the caveats in the documentation: http://pandas.pydata.org/pandas-docs/stable/user_guide/indexing.html#returning-a-view-versus-a-copy\n",
      "/opt/anaconda3/lib/python3.7/site-packages/ipykernel_launcher.py:50: SettingWithCopyWarning: \n",
      "A value is trying to be set on a copy of a slice from a DataFrame.\n",
      "Try using .loc[row_indexer,col_indexer] = value instead\n",
      "\n",
      "See the caveats in the documentation: http://pandas.pydata.org/pandas-docs/stable/user_guide/indexing.html#returning-a-view-versus-a-copy\n",
      "/opt/anaconda3/lib/python3.7/site-packages/ipykernel_launcher.py:51: SettingWithCopyWarning: \n",
      "A value is trying to be set on a copy of a slice from a DataFrame.\n",
      "Try using .loc[row_indexer,col_indexer] = value instead\n",
      "\n",
      "See the caveats in the documentation: http://pandas.pydata.org/pandas-docs/stable/user_guide/indexing.html#returning-a-view-versus-a-copy\n",
      "/opt/anaconda3/lib/python3.7/site-packages/ipykernel_launcher.py:52: SettingWithCopyWarning: \n",
      "A value is trying to be set on a copy of a slice from a DataFrame.\n",
      "Try using .loc[row_indexer,col_indexer] = value instead\n",
      "\n",
      "See the caveats in the documentation: http://pandas.pydata.org/pandas-docs/stable/user_guide/indexing.html#returning-a-view-versus-a-copy\n",
      "/opt/anaconda3/lib/python3.7/site-packages/ipykernel_launcher.py:53: SettingWithCopyWarning: \n",
      "A value is trying to be set on a copy of a slice from a DataFrame.\n",
      "Try using .loc[row_indexer,col_indexer] = value instead\n",
      "\n",
      "See the caveats in the documentation: http://pandas.pydata.org/pandas-docs/stable/user_guide/indexing.html#returning-a-view-versus-a-copy\n",
      "/opt/anaconda3/lib/python3.7/site-packages/ipykernel_launcher.py:54: SettingWithCopyWarning: \n",
      "A value is trying to be set on a copy of a slice from a DataFrame.\n",
      "Try using .loc[row_indexer,col_indexer] = value instead\n",
      "\n",
      "See the caveats in the documentation: http://pandas.pydata.org/pandas-docs/stable/user_guide/indexing.html#returning-a-view-versus-a-copy\n"
     ]
    },
    {
     "name": "stderr",
     "output_type": "stream",
     "text": [
      "/opt/anaconda3/lib/python3.7/site-packages/ipykernel_launcher.py:55: SettingWithCopyWarning: \n",
      "A value is trying to be set on a copy of a slice from a DataFrame.\n",
      "Try using .loc[row_indexer,col_indexer] = value instead\n",
      "\n",
      "See the caveats in the documentation: http://pandas.pydata.org/pandas-docs/stable/user_guide/indexing.html#returning-a-view-versus-a-copy\n",
      "/opt/anaconda3/lib/python3.7/site-packages/ipykernel_launcher.py:56: SettingWithCopyWarning: \n",
      "A value is trying to be set on a copy of a slice from a DataFrame.\n",
      "Try using .loc[row_indexer,col_indexer] = value instead\n",
      "\n",
      "See the caveats in the documentation: http://pandas.pydata.org/pandas-docs/stable/user_guide/indexing.html#returning-a-view-versus-a-copy\n",
      "/opt/anaconda3/lib/python3.7/site-packages/ipykernel_launcher.py:57: SettingWithCopyWarning: \n",
      "A value is trying to be set on a copy of a slice from a DataFrame.\n",
      "Try using .loc[row_indexer,col_indexer] = value instead\n",
      "\n",
      "See the caveats in the documentation: http://pandas.pydata.org/pandas-docs/stable/user_guide/indexing.html#returning-a-view-versus-a-copy\n",
      "/opt/anaconda3/lib/python3.7/site-packages/ipykernel_launcher.py:58: SettingWithCopyWarning: \n",
      "A value is trying to be set on a copy of a slice from a DataFrame.\n",
      "Try using .loc[row_indexer,col_indexer] = value instead\n",
      "\n",
      "See the caveats in the documentation: http://pandas.pydata.org/pandas-docs/stable/user_guide/indexing.html#returning-a-view-versus-a-copy\n",
      "/opt/anaconda3/lib/python3.7/site-packages/ipykernel_launcher.py:59: SettingWithCopyWarning: \n",
      "A value is trying to be set on a copy of a slice from a DataFrame.\n",
      "Try using .loc[row_indexer,col_indexer] = value instead\n",
      "\n",
      "See the caveats in the documentation: http://pandas.pydata.org/pandas-docs/stable/user_guide/indexing.html#returning-a-view-versus-a-copy\n",
      "/opt/anaconda3/lib/python3.7/site-packages/ipykernel_launcher.py:60: SettingWithCopyWarning: \n",
      "A value is trying to be set on a copy of a slice from a DataFrame.\n",
      "Try using .loc[row_indexer,col_indexer] = value instead\n",
      "\n",
      "See the caveats in the documentation: http://pandas.pydata.org/pandas-docs/stable/user_guide/indexing.html#returning-a-view-versus-a-copy\n",
      "/opt/anaconda3/lib/python3.7/site-packages/ipykernel_launcher.py:61: SettingWithCopyWarning: \n",
      "A value is trying to be set on a copy of a slice from a DataFrame.\n",
      "Try using .loc[row_indexer,col_indexer] = value instead\n",
      "\n",
      "See the caveats in the documentation: http://pandas.pydata.org/pandas-docs/stable/user_guide/indexing.html#returning-a-view-versus-a-copy\n",
      "/opt/anaconda3/lib/python3.7/site-packages/ipykernel_launcher.py:62: SettingWithCopyWarning: \n",
      "A value is trying to be set on a copy of a slice from a DataFrame.\n",
      "Try using .loc[row_indexer,col_indexer] = value instead\n",
      "\n",
      "See the caveats in the documentation: http://pandas.pydata.org/pandas-docs/stable/user_guide/indexing.html#returning-a-view-versus-a-copy\n",
      "/opt/anaconda3/lib/python3.7/site-packages/ipykernel_launcher.py:63: SettingWithCopyWarning: \n",
      "A value is trying to be set on a copy of a slice from a DataFrame.\n",
      "Try using .loc[row_indexer,col_indexer] = value instead\n",
      "\n",
      "See the caveats in the documentation: http://pandas.pydata.org/pandas-docs/stable/user_guide/indexing.html#returning-a-view-versus-a-copy\n",
      "/opt/anaconda3/lib/python3.7/site-packages/ipykernel_launcher.py:64: SettingWithCopyWarning: \n",
      "A value is trying to be set on a copy of a slice from a DataFrame.\n",
      "Try using .loc[row_indexer,col_indexer] = value instead\n",
      "\n",
      "See the caveats in the documentation: http://pandas.pydata.org/pandas-docs/stable/user_guide/indexing.html#returning-a-view-versus-a-copy\n",
      "/opt/anaconda3/lib/python3.7/site-packages/ipykernel_launcher.py:65: SettingWithCopyWarning: \n",
      "A value is trying to be set on a copy of a slice from a DataFrame.\n",
      "Try using .loc[row_indexer,col_indexer] = value instead\n",
      "\n",
      "See the caveats in the documentation: http://pandas.pydata.org/pandas-docs/stable/user_guide/indexing.html#returning-a-view-versus-a-copy\n",
      "/opt/anaconda3/lib/python3.7/site-packages/ipykernel_launcher.py:66: SettingWithCopyWarning: \n",
      "A value is trying to be set on a copy of a slice from a DataFrame.\n",
      "Try using .loc[row_indexer,col_indexer] = value instead\n",
      "\n",
      "See the caveats in the documentation: http://pandas.pydata.org/pandas-docs/stable/user_guide/indexing.html#returning-a-view-versus-a-copy\n",
      "/opt/anaconda3/lib/python3.7/site-packages/ipykernel_launcher.py:67: SettingWithCopyWarning: \n",
      "A value is trying to be set on a copy of a slice from a DataFrame.\n",
      "Try using .loc[row_indexer,col_indexer] = value instead\n",
      "\n",
      "See the caveats in the documentation: http://pandas.pydata.org/pandas-docs/stable/user_guide/indexing.html#returning-a-view-versus-a-copy\n",
      "/opt/anaconda3/lib/python3.7/site-packages/ipykernel_launcher.py:68: SettingWithCopyWarning: \n",
      "A value is trying to be set on a copy of a slice from a DataFrame.\n",
      "Try using .loc[row_indexer,col_indexer] = value instead\n",
      "\n",
      "See the caveats in the documentation: http://pandas.pydata.org/pandas-docs/stable/user_guide/indexing.html#returning-a-view-versus-a-copy\n",
      "/opt/anaconda3/lib/python3.7/site-packages/ipykernel_launcher.py:69: SettingWithCopyWarning: \n",
      "A value is trying to be set on a copy of a slice from a DataFrame.\n",
      "Try using .loc[row_indexer,col_indexer] = value instead\n",
      "\n",
      "See the caveats in the documentation: http://pandas.pydata.org/pandas-docs/stable/user_guide/indexing.html#returning-a-view-versus-a-copy\n",
      "/opt/anaconda3/lib/python3.7/site-packages/ipykernel_launcher.py:70: SettingWithCopyWarning: \n",
      "A value is trying to be set on a copy of a slice from a DataFrame.\n",
      "Try using .loc[row_indexer,col_indexer] = value instead\n",
      "\n",
      "See the caveats in the documentation: http://pandas.pydata.org/pandas-docs/stable/user_guide/indexing.html#returning-a-view-versus-a-copy\n",
      "/opt/anaconda3/lib/python3.7/site-packages/ipykernel_launcher.py:71: SettingWithCopyWarning: \n",
      "A value is trying to be set on a copy of a slice from a DataFrame.\n",
      "Try using .loc[row_indexer,col_indexer] = value instead\n",
      "\n",
      "See the caveats in the documentation: http://pandas.pydata.org/pandas-docs/stable/user_guide/indexing.html#returning-a-view-versus-a-copy\n",
      "/opt/anaconda3/lib/python3.7/site-packages/ipykernel_launcher.py:72: SettingWithCopyWarning: \n",
      "A value is trying to be set on a copy of a slice from a DataFrame.\n",
      "Try using .loc[row_indexer,col_indexer] = value instead\n",
      "\n",
      "See the caveats in the documentation: http://pandas.pydata.org/pandas-docs/stable/user_guide/indexing.html#returning-a-view-versus-a-copy\n",
      "/opt/anaconda3/lib/python3.7/site-packages/ipykernel_launcher.py:73: SettingWithCopyWarning: \n",
      "A value is trying to be set on a copy of a slice from a DataFrame.\n",
      "Try using .loc[row_indexer,col_indexer] = value instead\n",
      "\n",
      "See the caveats in the documentation: http://pandas.pydata.org/pandas-docs/stable/user_guide/indexing.html#returning-a-view-versus-a-copy\n",
      "/opt/anaconda3/lib/python3.7/site-packages/ipykernel_launcher.py:74: SettingWithCopyWarning: \n",
      "A value is trying to be set on a copy of a slice from a DataFrame.\n",
      "Try using .loc[row_indexer,col_indexer] = value instead\n",
      "\n",
      "See the caveats in the documentation: http://pandas.pydata.org/pandas-docs/stable/user_guide/indexing.html#returning-a-view-versus-a-copy\n",
      "/opt/anaconda3/lib/python3.7/site-packages/ipykernel_launcher.py:75: SettingWithCopyWarning: \n",
      "A value is trying to be set on a copy of a slice from a DataFrame.\n",
      "Try using .loc[row_indexer,col_indexer] = value instead\n",
      "\n",
      "See the caveats in the documentation: http://pandas.pydata.org/pandas-docs/stable/user_guide/indexing.html#returning-a-view-versus-a-copy\n",
      "/opt/anaconda3/lib/python3.7/site-packages/ipykernel_launcher.py:76: SettingWithCopyWarning: \n",
      "A value is trying to be set on a copy of a slice from a DataFrame.\n",
      "Try using .loc[row_indexer,col_indexer] = value instead\n",
      "\n",
      "See the caveats in the documentation: http://pandas.pydata.org/pandas-docs/stable/user_guide/indexing.html#returning-a-view-versus-a-copy\n",
      "/opt/anaconda3/lib/python3.7/site-packages/ipykernel_launcher.py:77: SettingWithCopyWarning: \n",
      "A value is trying to be set on a copy of a slice from a DataFrame.\n",
      "Try using .loc[row_indexer,col_indexer] = value instead\n",
      "\n",
      "See the caveats in the documentation: http://pandas.pydata.org/pandas-docs/stable/user_guide/indexing.html#returning-a-view-versus-a-copy\n"
     ]
    }
   ],
   "source": [
    "present['PAIS_NACIONALIDAD'] = present['PAIS_NACIONALIDAD'].replace('Belice',8.0)\n",
    "present['PAIS_NACIONALIDAD'] = present['PAIS_NACIONALIDAD'].replace('Otro', 50.0)\n",
    "present['PAIS_NACIONALIDAD'] = present['PAIS_NACIONALIDAD'].replace('Republica de Honduras', 63.0)\n",
    "present['PAIS_NACIONALIDAD'] = present['PAIS_NACIONALIDAD'].replace('Ascension', 4.0)\n",
    "present['PAIS_NACIONALIDAD'] = present['PAIS_NACIONALIDAD'].replace('Republica Checa y Republica Eslovaca', 57.0)\n",
    "present['PAIS_NACIONALIDAD'] = present['PAIS_NACIONALIDAD'].replace('Dinamarca', 20.0)\n",
    "present['PAIS_NACIONALIDAD'] = present['PAIS_NACIONALIDAD'].replace('Commonwealth de Dominica', 17.0)\n",
    "present['PAIS_NACIONALIDAD'] = present['PAIS_NACIONALIDAD'].replace('Canada', 13.0)\n",
    "present['PAIS_NACIONALIDAD'] = present['PAIS_NACIONALIDAD'].replace('Republica de Corea',61.0)\n",
    "present['PAIS_NACIONALIDAD'] = present['PAIS_NACIONALIDAD'].replace('Zimbabwe', 74.0)\n",
    "present['PAIS_NACIONALIDAD'] = present['PAIS_NACIONALIDAD'].replace('Venezuela', 73.0)\n",
    "present['PAIS_NACIONALIDAD'] = present['PAIS_NACIONALIDAD'].replace('Egipto', 22.0)\n",
    "present['PAIS_NACIONALIDAD'] = present['PAIS_NACIONALIDAD'].replace('Brasil', 11.0)\n",
    "present['PAIS_NACIONALIDAD'] = present['PAIS_NACIONALIDAD'].replace('Republica Dominicana', 58.0)\n",
    "present['PAIS_NACIONALIDAD'] = present['PAIS_NACIONALIDAD'].replace('Letonia', 43.0)\n",
    "present['PAIS_NACIONALIDAD'] = present['PAIS_NACIONALIDAD'].replace('Eslovenia', 25.0)\n",
    "present['PAIS_NACIONALIDAD'] = present['PAIS_NACIONALIDAD'].replace('Principado de Monaco', 56.0)\n",
    "present['PAIS_NACIONALIDAD'] = present['PAIS_NACIONALIDAD'].replace('Austria', 6.0)\n",
    "present['PAIS_NACIONALIDAD'] = present['PAIS_NACIONALIDAD'].replace('Australia', 5.0)\n",
    "present['PAIS_NACIONALIDAD'] = present['PAIS_NACIONALIDAD'].replace('Colombia', 16.0)\n",
    "present['PAIS_NACIONALIDAD'] = present['PAIS_NACIONALIDAD'].replace('Camerun', 12.0)\n",
    "present['PAIS_NACIONALIDAD'] = present['PAIS_NACIONALIDAD'].replace('Republica de Costa Rica', 62.0)\n",
    "present['PAIS_NACIONALIDAD'] = present['PAIS_NACIONALIDAD'].replace('Suiza', 69.0)\n",
    "present['PAIS_NACIONALIDAD'] = present['PAIS_NACIONALIDAD'].replace('Rumania', 66.0)\n",
    "present['PAIS_NACIONALIDAD'] = present['PAIS_NACIONALIDAD'].replace('Pakistan', 51.0)\n",
    "present['PAIS_NACIONALIDAD'] = present['PAIS_NACIONALIDAD'].replace('Nicaragua', 48.0)\n",
    "present['PAIS_NACIONALIDAD'] = present['PAIS_NACIONALIDAD'].replace('Estados Unidos de America', 27.0)\n",
    "present['PAIS_NACIONALIDAD'] = present['PAIS_NACIONALIDAD'].replace('Ucrania', 72.0)\n",
    "present['PAIS_NACIONALIDAD'] = present['PAIS_NACIONALIDAD'].replace('Polonia', 54.0)\n",
    "present['PAIS_NACIONALIDAD'] = present['PAIS_NACIONALIDAD'].replace('Francia', 29.0)\n",
    "present['PAIS_NACIONALIDAD'] = present['PAIS_NACIONALIDAD'].replace('Holanda', 34.0)\n",
    "present['PAIS_NACIONALIDAD'] = present['PAIS_NACIONALIDAD'].replace('Peru', 53.0)\n",
    "present['PAIS_NACIONALIDAD'] = present['PAIS_NACIONALIDAD'].replace('Alemania', 0.0)\n",
    "present['PAIS_NACIONALIDAD'] = present['PAIS_NACIONALIDAD'].replace('Irlanda', 38.0)\n",
    "present['PAIS_NACIONALIDAD'] = present['PAIS_NACIONALIDAD'].replace('Islandia', 39.0)\n",
    "present['PAIS_NACIONALIDAD'] = present['PAIS_NACIONALIDAD'].replace('Argentina', 3.0)\n",
    "present['PAIS_NACIONALIDAD'] = present['PAIS_NACIONALIDAD'].replace('El Salvador', 23.0)\n",
    "present['PAIS_NACIONALIDAD'] = present['PAIS_NACIONALIDAD'].replace('China', 15.0)\n",
    "present['PAIS_NACIONALIDAD'] = present['PAIS_NACIONALIDAD'].replace('Republica de Angola', 60.0)\n",
    "present['PAIS_NACIONALIDAD'] = present['PAIS_NACIONALIDAD'].replace('Republica de Panama', 65.0)\n",
    "present['PAIS_NACIONALIDAD'] = present['PAIS_NACIONALIDAD'].replace('Bolivia', 9.0)\n",
    "present['PAIS_NACIONALIDAD'] = present['PAIS_NACIONALIDAD'].replace('Republica Oriental del Uruguay', 59.0)\n",
    "present['PAIS_NACIONALIDAD'] = present['PAIS_NACIONALIDAD'].replace('Zona Neutral', 75.0)\n",
    "present['PAIS_NACIONALIDAD'] = present['PAIS_NACIONALIDAD'].replace('Eritrea', 24.0)\n",
    "present['PAIS_NACIONALIDAD'] = present['PAIS_NACIONALIDAD'].replace('Bangladesh', 7.0)\n",
    "present['PAIS_NACIONALIDAD'] = present['PAIS_NACIONALIDAD'].replace('Argelia', 2.0)\n",
    "present['PAIS_NACIONALIDAD'] = present['PAIS_NACIONALIDAD'].replace('Chile', 14.0)\n",
    "present['PAIS_NACIONALIDAD'] = present['PAIS_NACIONALIDAD'].replace('Portugal', 55.0)\n",
    "present['PAIS_NACIONALIDAD'] = present['PAIS_NACIONALIDAD'].replace('Japon', 42.0)\n",
    "present['PAIS_NACIONALIDAD'] = present['PAIS_NACIONALIDAD'].replace('Rusia', 67.0)\n",
    "present['PAIS_NACIONALIDAD'] = present['PAIS_NACIONALIDAD'].replace('Iran', 37.0)\n",
    "present['PAIS_NACIONALIDAD'] = present['PAIS_NACIONALIDAD'].replace('Micronesia', 47.0)\n",
    "present['PAIS_NACIONALIDAD'] = present['PAIS_NACIONALIDAD'].replace('Gran Bretaña (Reino Unido)', 30.0)\n",
    "present['PAIS_NACIONALIDAD'] = present['PAIS_NACIONALIDAD'].replace('Republica de Mauricio', 64.0)\n",
    "present['PAIS_NACIONALIDAD'] = present['PAIS_NACIONALIDAD'].replace('Hungria', 35.0)\n",
    "present['PAIS_NACIONALIDAD'] = present['PAIS_NACIONALIDAD'].replace('Bosnia y Herzegovina', 10.0)\n",
    "present['PAIS_NACIONALIDAD'] = present['PAIS_NACIONALIDAD'].replace('Italia', 41.0)\n",
    "present['PAIS_NACIONALIDAD'] = present['PAIS_NACIONALIDAD'].replace('Mexico', 46.0)\n",
    "present['PAIS_NACIONALIDAD'] = present['PAIS_NACIONALIDAD'].replace('Ecuador', 21.0)\n",
    "present['PAIS_NACIONALIDAD'] = present['PAIS_NACIONALIDAD'].replace('Noruega', 49.0)\n",
    "present['PAIS_NACIONALIDAD'] = present['PAIS_NACIONALIDAD'].replace('Macao', 44.0)\n",
    "present['PAIS_NACIONALIDAD'] = present['PAIS_NACIONALIDAD'].replace('Israel', 40.0)\n",
    "present['PAIS_NACIONALIDAD'] = present['PAIS_NACIONALIDAD'].replace('Suecia', 68.0)\n",
    "present['PAIS_NACIONALIDAD'] = present['PAIS_NACIONALIDAD'].replace('Paraguay', 52.0)\n",
    "present['PAIS_NACIONALIDAD'] = present['PAIS_NACIONALIDAD'].replace('Guatemala', 32.0)\n",
    "present['PAIS_NACIONALIDAD'] = present['PAIS_NACIONALIDAD'].replace('Finlandia', 28.0)\n",
    "present['PAIS_NACIONALIDAD'] = present['PAIS_NACIONALIDAD'].replace('India', 36.0)\n",
    "present['PAIS_NACIONALIDAD'] = present['PAIS_NACIONALIDAD'].replace('Haiti', 33.0)\n",
    "present['PAIS_NACIONALIDAD'] = present['PAIS_NACIONALIDAD'].replace('Malasia', 45.0)\n",
    "present['PAIS_NACIONALIDAD'] = present['PAIS_NACIONALIDAD'].replace('Gran Bretaña (Reino Unido)', 30.0)\n",
    "present['PAIS_NACIONALIDAD'] = present['PAIS_NACIONALIDAD'].replace('Archipielago de Svalbard', 1.0)\n",
    "present['PAIS_NACIONALIDAD'] = present['PAIS_NACIONALIDAD'].replace('Costa de Marfil', 18.0)\n",
    "present['PAIS_NACIONALIDAD'] = present['PAIS_NACIONALIDAD'].replace('Cuba', 19.0)\n",
    "present['PAIS_NACIONALIDAD'] = present['PAIS_NACIONALIDAD'].replace('España', 26.0)\n",
    "present['PAIS_NACIONALIDAD'] = present['PAIS_NACIONALIDAD'].replace('Grecia', 31.0)\n",
    "present['PAIS_NACIONALIDAD'] = present['PAIS_NACIONALIDAD'].replace('Trieste', 70.0)\n",
    "present['PAIS_NACIONALIDAD'] = present['PAIS_NACIONALIDAD'].replace('Turquia', 71.0)\n"
   ]
  },
  {
   "cell_type": "code",
   "execution_count": 142,
   "metadata": {},
   "outputs": [
    {
     "data": {
      "text/plain": [
       "71.0"
      ]
     },
     "execution_count": 142,
     "metadata": {},
     "output_type": "execute_result"
    }
   ],
   "source": [
    "dic.get('Turquia')\n",
    "# 'Turquia'\n"
   ]
  },
  {
   "cell_type": "code",
   "execution_count": 146,
   "metadata": {},
   "outputs": [
    {
     "data": {
      "text/plain": [
       "{0.0,\n",
       " 1.0,\n",
       " 2.0,\n",
       " 3.0,\n",
       " 4.0,\n",
       " 5.0,\n",
       " 6.0,\n",
       " 7.0,\n",
       " 8.0,\n",
       " 9.0,\n",
       " 10.0,\n",
       " 11.0,\n",
       " 12.0,\n",
       " 13.0,\n",
       " 14.0,\n",
       " 15.0,\n",
       " 16.0,\n",
       " 17.0,\n",
       " 18.0,\n",
       " 19.0,\n",
       " 20.0,\n",
       " 21.0,\n",
       " 22.0,\n",
       " 23.0,\n",
       " 24.0,\n",
       " 25.0,\n",
       " 26.0,\n",
       " 27.0,\n",
       " 28.0,\n",
       " 29.0,\n",
       " 30.0,\n",
       " 31.0,\n",
       " 32.0,\n",
       " 33.0,\n",
       " 34.0,\n",
       " 35.0,\n",
       " 36.0,\n",
       " 37.0,\n",
       " 38.0,\n",
       " 39.0,\n",
       " 40.0,\n",
       " 41.0,\n",
       " 42.0,\n",
       " 43.0,\n",
       " 44.0,\n",
       " 45.0,\n",
       " 46.0,\n",
       " 47.0,\n",
       " 48.0,\n",
       " 49.0,\n",
       " 50.0,\n",
       " 51.0,\n",
       " 52.0,\n",
       " 53.0,\n",
       " 54.0,\n",
       " 55.0,\n",
       " 56.0,\n",
       " 57.0,\n",
       " 58.0,\n",
       " 59.0,\n",
       " 60.0,\n",
       " 61.0,\n",
       " 62.0,\n",
       " 63.0,\n",
       " 64.0,\n",
       " 65.0,\n",
       " 66.0,\n",
       " 67.0,\n",
       " 68.0,\n",
       " 69.0,\n",
       " 70.0,\n",
       " 71.0,\n",
       " 72.0,\n",
       " 73.0,\n",
       " 74.0,\n",
       " 75.0}"
      ]
     },
     "execution_count": 146,
     "metadata": {},
     "output_type": "execute_result"
    }
   ],
   "source": [
    "set(present[\"PAIS_NACIONALIDAD\"])"
   ]
  },
  {
   "cell_type": "code",
   "execution_count": 147,
   "metadata": {},
   "outputs": [
    {
     "data": {
      "text/html": [
       "<div>\n",
       "<style scoped>\n",
       "    .dataframe tbody tr th:only-of-type {\n",
       "        vertical-align: middle;\n",
       "    }\n",
       "\n",
       "    .dataframe tbody tr th {\n",
       "        vertical-align: top;\n",
       "    }\n",
       "\n",
       "    .dataframe thead th {\n",
       "        text-align: right;\n",
       "    }\n",
       "</style>\n",
       "<table border=\"1\" class=\"dataframe\">\n",
       "  <thead>\n",
       "    <tr style=\"text-align: right;\">\n",
       "      <th></th>\n",
       "      <th>ORIGEN</th>\n",
       "      <th>SECTOR</th>\n",
       "      <th>ENTIDAD_UM</th>\n",
       "      <th>SEXO</th>\n",
       "      <th>ENTIDAD_NAC</th>\n",
       "      <th>ENTIDAD_RES</th>\n",
       "      <th>MUNICIPIO_RES</th>\n",
       "      <th>TIPO_PACIENTE</th>\n",
       "      <th>NEUMONIA</th>\n",
       "      <th>EDAD</th>\n",
       "      <th>...</th>\n",
       "      <th>ASMA</th>\n",
       "      <th>INMUSUPR</th>\n",
       "      <th>HIPERTENSION</th>\n",
       "      <th>OTRA_COM</th>\n",
       "      <th>CARDIOVASCULAR</th>\n",
       "      <th>OBESIDAD</th>\n",
       "      <th>RENAL_CRONICA</th>\n",
       "      <th>TABAQUISMO</th>\n",
       "      <th>OTRO_CASO</th>\n",
       "      <th>PAIS_NACIONALIDAD</th>\n",
       "    </tr>\n",
       "    <tr>\n",
       "      <th>ID_REGISTRO</th>\n",
       "      <th></th>\n",
       "      <th></th>\n",
       "      <th></th>\n",
       "      <th></th>\n",
       "      <th></th>\n",
       "      <th></th>\n",
       "      <th></th>\n",
       "      <th></th>\n",
       "      <th></th>\n",
       "      <th></th>\n",
       "      <th></th>\n",
       "      <th></th>\n",
       "      <th></th>\n",
       "      <th></th>\n",
       "      <th></th>\n",
       "      <th></th>\n",
       "      <th></th>\n",
       "      <th></th>\n",
       "      <th></th>\n",
       "      <th></th>\n",
       "      <th></th>\n",
       "    </tr>\n",
       "  </thead>\n",
       "  <tbody>\n",
       "    <tr>\n",
       "      <td>0192e7</td>\n",
       "      <td>2</td>\n",
       "      <td>3</td>\n",
       "      <td>2</td>\n",
       "      <td>2</td>\n",
       "      <td>2</td>\n",
       "      <td>2</td>\n",
       "      <td>2</td>\n",
       "      <td>2</td>\n",
       "      <td>1</td>\n",
       "      <td>60</td>\n",
       "      <td>...</td>\n",
       "      <td>2</td>\n",
       "      <td>2</td>\n",
       "      <td>1</td>\n",
       "      <td>2</td>\n",
       "      <td>2</td>\n",
       "      <td>2</td>\n",
       "      <td>1</td>\n",
       "      <td>2</td>\n",
       "      <td>1</td>\n",
       "      <td>46.0</td>\n",
       "    </tr>\n",
       "    <tr>\n",
       "      <td>02e0df</td>\n",
       "      <td>2</td>\n",
       "      <td>4</td>\n",
       "      <td>12</td>\n",
       "      <td>2</td>\n",
       "      <td>12</td>\n",
       "      <td>12</td>\n",
       "      <td>1</td>\n",
       "      <td>2</td>\n",
       "      <td>2</td>\n",
       "      <td>43</td>\n",
       "      <td>...</td>\n",
       "      <td>2</td>\n",
       "      <td>2</td>\n",
       "      <td>2</td>\n",
       "      <td>2</td>\n",
       "      <td>2</td>\n",
       "      <td>1</td>\n",
       "      <td>2</td>\n",
       "      <td>2</td>\n",
       "      <td>1</td>\n",
       "      <td>46.0</td>\n",
       "    </tr>\n",
       "    <tr>\n",
       "      <td>02b7ac</td>\n",
       "      <td>2</td>\n",
       "      <td>4</td>\n",
       "      <td>14</td>\n",
       "      <td>1</td>\n",
       "      <td>14</td>\n",
       "      <td>14</td>\n",
       "      <td>120</td>\n",
       "      <td>1</td>\n",
       "      <td>2</td>\n",
       "      <td>26</td>\n",
       "      <td>...</td>\n",
       "      <td>2</td>\n",
       "      <td>2</td>\n",
       "      <td>2</td>\n",
       "      <td>2</td>\n",
       "      <td>2</td>\n",
       "      <td>2</td>\n",
       "      <td>2</td>\n",
       "      <td>2</td>\n",
       "      <td>1</td>\n",
       "      <td>46.0</td>\n",
       "    </tr>\n",
       "    <tr>\n",
       "      <td>17979d</td>\n",
       "      <td>2</td>\n",
       "      <td>4</td>\n",
       "      <td>27</td>\n",
       "      <td>1</td>\n",
       "      <td>27</td>\n",
       "      <td>27</td>\n",
       "      <td>4</td>\n",
       "      <td>1</td>\n",
       "      <td>2</td>\n",
       "      <td>53</td>\n",
       "      <td>...</td>\n",
       "      <td>2</td>\n",
       "      <td>2</td>\n",
       "      <td>1</td>\n",
       "      <td>2</td>\n",
       "      <td>2</td>\n",
       "      <td>1</td>\n",
       "      <td>2</td>\n",
       "      <td>2</td>\n",
       "      <td>1</td>\n",
       "      <td>46.0</td>\n",
       "    </tr>\n",
       "    <tr>\n",
       "      <td>15778b</td>\n",
       "      <td>2</td>\n",
       "      <td>4</td>\n",
       "      <td>27</td>\n",
       "      <td>1</td>\n",
       "      <td>27</td>\n",
       "      <td>27</td>\n",
       "      <td>4</td>\n",
       "      <td>1</td>\n",
       "      <td>2</td>\n",
       "      <td>28</td>\n",
       "      <td>...</td>\n",
       "      <td>2</td>\n",
       "      <td>2</td>\n",
       "      <td>2</td>\n",
       "      <td>2</td>\n",
       "      <td>2</td>\n",
       "      <td>2</td>\n",
       "      <td>2</td>\n",
       "      <td>2</td>\n",
       "      <td>1</td>\n",
       "      <td>46.0</td>\n",
       "    </tr>\n",
       "    <tr>\n",
       "      <td>...</td>\n",
       "      <td>...</td>\n",
       "      <td>...</td>\n",
       "      <td>...</td>\n",
       "      <td>...</td>\n",
       "      <td>...</td>\n",
       "      <td>...</td>\n",
       "      <td>...</td>\n",
       "      <td>...</td>\n",
       "      <td>...</td>\n",
       "      <td>...</td>\n",
       "      <td>...</td>\n",
       "      <td>...</td>\n",
       "      <td>...</td>\n",
       "      <td>...</td>\n",
       "      <td>...</td>\n",
       "      <td>...</td>\n",
       "      <td>...</td>\n",
       "      <td>...</td>\n",
       "      <td>...</td>\n",
       "      <td>...</td>\n",
       "      <td>...</td>\n",
       "    </tr>\n",
       "    <tr>\n",
       "      <td>1a8dce</td>\n",
       "      <td>2</td>\n",
       "      <td>12</td>\n",
       "      <td>9</td>\n",
       "      <td>1</td>\n",
       "      <td>9</td>\n",
       "      <td>9</td>\n",
       "      <td>9</td>\n",
       "      <td>1</td>\n",
       "      <td>2</td>\n",
       "      <td>16</td>\n",
       "      <td>...</td>\n",
       "      <td>2</td>\n",
       "      <td>2</td>\n",
       "      <td>2</td>\n",
       "      <td>2</td>\n",
       "      <td>2</td>\n",
       "      <td>2</td>\n",
       "      <td>2</td>\n",
       "      <td>2</td>\n",
       "      <td>1</td>\n",
       "      <td>46.0</td>\n",
       "    </tr>\n",
       "    <tr>\n",
       "      <td>060777</td>\n",
       "      <td>2</td>\n",
       "      <td>4</td>\n",
       "      <td>2</td>\n",
       "      <td>2</td>\n",
       "      <td>2</td>\n",
       "      <td>2</td>\n",
       "      <td>2</td>\n",
       "      <td>1</td>\n",
       "      <td>2</td>\n",
       "      <td>24</td>\n",
       "      <td>...</td>\n",
       "      <td>2</td>\n",
       "      <td>2</td>\n",
       "      <td>1</td>\n",
       "      <td>1</td>\n",
       "      <td>2</td>\n",
       "      <td>2</td>\n",
       "      <td>2</td>\n",
       "      <td>1</td>\n",
       "      <td>1</td>\n",
       "      <td>46.0</td>\n",
       "    </tr>\n",
       "    <tr>\n",
       "      <td>19955d</td>\n",
       "      <td>2</td>\n",
       "      <td>6</td>\n",
       "      <td>28</td>\n",
       "      <td>1</td>\n",
       "      <td>28</td>\n",
       "      <td>28</td>\n",
       "      <td>3</td>\n",
       "      <td>2</td>\n",
       "      <td>2</td>\n",
       "      <td>35</td>\n",
       "      <td>...</td>\n",
       "      <td>2</td>\n",
       "      <td>2</td>\n",
       "      <td>2</td>\n",
       "      <td>2</td>\n",
       "      <td>2</td>\n",
       "      <td>2</td>\n",
       "      <td>2</td>\n",
       "      <td>2</td>\n",
       "      <td>1</td>\n",
       "      <td>46.0</td>\n",
       "    </tr>\n",
       "    <tr>\n",
       "      <td>1511b5</td>\n",
       "      <td>2</td>\n",
       "      <td>4</td>\n",
       "      <td>19</td>\n",
       "      <td>2</td>\n",
       "      <td>19</td>\n",
       "      <td>19</td>\n",
       "      <td>46</td>\n",
       "      <td>1</td>\n",
       "      <td>2</td>\n",
       "      <td>35</td>\n",
       "      <td>...</td>\n",
       "      <td>2</td>\n",
       "      <td>2</td>\n",
       "      <td>2</td>\n",
       "      <td>2</td>\n",
       "      <td>2</td>\n",
       "      <td>2</td>\n",
       "      <td>2</td>\n",
       "      <td>2</td>\n",
       "      <td>1</td>\n",
       "      <td>46.0</td>\n",
       "    </tr>\n",
       "    <tr>\n",
       "      <td>03ddc4</td>\n",
       "      <td>2</td>\n",
       "      <td>12</td>\n",
       "      <td>24</td>\n",
       "      <td>1</td>\n",
       "      <td>24</td>\n",
       "      <td>24</td>\n",
       "      <td>15</td>\n",
       "      <td>1</td>\n",
       "      <td>2</td>\n",
       "      <td>25</td>\n",
       "      <td>...</td>\n",
       "      <td>2</td>\n",
       "      <td>2</td>\n",
       "      <td>2</td>\n",
       "      <td>1</td>\n",
       "      <td>2</td>\n",
       "      <td>2</td>\n",
       "      <td>2</td>\n",
       "      <td>2</td>\n",
       "      <td>1</td>\n",
       "      <td>46.0</td>\n",
       "    </tr>\n",
       "  </tbody>\n",
       "</table>\n",
       "<p>218663 rows × 24 columns</p>\n",
       "</div>"
      ],
      "text/plain": [
       "             ORIGEN  SECTOR  ENTIDAD_UM  SEXO  ENTIDAD_NAC  ENTIDAD_RES  \\\n",
       "ID_REGISTRO                                                               \n",
       "0192e7            2       3           2     2            2            2   \n",
       "02e0df            2       4          12     2           12           12   \n",
       "02b7ac            2       4          14     1           14           14   \n",
       "17979d            2       4          27     1           27           27   \n",
       "15778b            2       4          27     1           27           27   \n",
       "...             ...     ...         ...   ...          ...          ...   \n",
       "1a8dce            2      12           9     1            9            9   \n",
       "060777            2       4           2     2            2            2   \n",
       "19955d            2       6          28     1           28           28   \n",
       "1511b5            2       4          19     2           19           19   \n",
       "03ddc4            2      12          24     1           24           24   \n",
       "\n",
       "             MUNICIPIO_RES  TIPO_PACIENTE  NEUMONIA  EDAD  ...  ASMA  \\\n",
       "ID_REGISTRO                                                ...         \n",
       "0192e7                   2              2         1    60  ...     2   \n",
       "02e0df                   1              2         2    43  ...     2   \n",
       "02b7ac                 120              1         2    26  ...     2   \n",
       "17979d                   4              1         2    53  ...     2   \n",
       "15778b                   4              1         2    28  ...     2   \n",
       "...                    ...            ...       ...   ...  ...   ...   \n",
       "1a8dce                   9              1         2    16  ...     2   \n",
       "060777                   2              1         2    24  ...     2   \n",
       "19955d                   3              2         2    35  ...     2   \n",
       "1511b5                  46              1         2    35  ...     2   \n",
       "03ddc4                  15              1         2    25  ...     2   \n",
       "\n",
       "             INMUSUPR  HIPERTENSION  OTRA_COM  CARDIOVASCULAR  OBESIDAD  \\\n",
       "ID_REGISTRO                                                               \n",
       "0192e7              2             1         2               2         2   \n",
       "02e0df              2             2         2               2         1   \n",
       "02b7ac              2             2         2               2         2   \n",
       "17979d              2             1         2               2         1   \n",
       "15778b              2             2         2               2         2   \n",
       "...               ...           ...       ...             ...       ...   \n",
       "1a8dce              2             2         2               2         2   \n",
       "060777              2             1         1               2         2   \n",
       "19955d              2             2         2               2         2   \n",
       "1511b5              2             2         2               2         2   \n",
       "03ddc4              2             2         1               2         2   \n",
       "\n",
       "             RENAL_CRONICA  TABAQUISMO  OTRO_CASO  PAIS_NACIONALIDAD  \n",
       "ID_REGISTRO                                                           \n",
       "0192e7                   1           2          1               46.0  \n",
       "02e0df                   2           2          1               46.0  \n",
       "02b7ac                   2           2          1               46.0  \n",
       "17979d                   2           2          1               46.0  \n",
       "15778b                   2           2          1               46.0  \n",
       "...                    ...         ...        ...                ...  \n",
       "1a8dce                   2           2          1               46.0  \n",
       "060777                   2           1          1               46.0  \n",
       "19955d                   2           2          1               46.0  \n",
       "1511b5                   2           2          1               46.0  \n",
       "03ddc4                   2           2          1               46.0  \n",
       "\n",
       "[218663 rows x 24 columns]"
      ]
     },
     "execution_count": 147,
     "metadata": {},
     "output_type": "execute_result"
    }
   ],
   "source": [
    "Y = present[\"RESULTADO\"]\n",
    "X = present.drop(\"RESULTADO\", axis=1)\n",
    "X"
   ]
  },
  {
   "cell_type": "code",
   "execution_count": 148,
   "metadata": {},
   "outputs": [],
   "source": [
    "X_train, X_test, y_train, y_test = train_test_split(X, Y, test_size=0.33, random_state=42) "
   ]
  },
  {
   "cell_type": "code",
   "execution_count": 262,
   "metadata": {},
   "outputs": [],
   "source": [
    "Arboles = DecisionTreeClassifier(max_features=24,max_depth=14, splitter='random', )"
   ]
  },
  {
   "cell_type": "code",
   "execution_count": 263,
   "metadata": {},
   "outputs": [
    {
     "data": {
      "text/plain": [
       "DecisionTreeClassifier(class_weight=None, criterion='gini', max_depth=14,\n",
       "                       max_features=24, max_leaf_nodes=None,\n",
       "                       min_impurity_decrease=0.0, min_impurity_split=None,\n",
       "                       min_samples_leaf=1, min_samples_split=2,\n",
       "                       min_weight_fraction_leaf=0.0, presort=False,\n",
       "                       random_state=None, splitter='random')"
      ]
     },
     "execution_count": 263,
     "metadata": {},
     "output_type": "execute_result"
    }
   ],
   "source": [
    "Arboles.fit(X_train,y_train)"
   ]
  },
  {
   "cell_type": "code",
   "execution_count": 264,
   "metadata": {},
   "outputs": [
    {
     "data": {
      "text/plain": [
       "0.32307876611854613"
      ]
     },
     "execution_count": 264,
     "metadata": {},
     "output_type": "execute_result"
    }
   ],
   "source": [
    "from sklearn import metrics\n",
    "primera = Arboles.predict(X_test)\n",
    "metrics.average_precision_score(y_test, primera)"
   ]
  },
  {
   "cell_type": "code",
   "execution_count": 265,
   "metadata": {
    "scrolled": true
   },
   "outputs": [
    {
     "name": "stdout",
     "output_type": "stream",
     "text": [
      "              precision    recall  f1-score   support\n",
      "\n",
      "           1       0.62      0.41      0.49     26738\n",
      "           2       0.71      0.85      0.77     45421\n",
      "\n",
      "    accuracy                           0.69     72159\n",
      "   macro avg       0.66      0.63      0.63     72159\n",
      "weighted avg       0.67      0.69      0.67     72159\n",
      "\n"
     ]
    }
   ],
   "source": [
    "from sklearn.metrics import classification_report\n",
    "print(classification_report(y_test, primera))"
   ]
  },
  {
   "cell_type": "code",
   "execution_count": 267,
   "metadata": {},
   "outputs": [
    {
     "ename": "AttributeError",
     "evalue": "'DecisionTreeClassifier' object has no attribute 'cost_complexity_pruning_path'",
     "output_type": "error",
     "traceback": [
      "\u001b[0;31m---------------------------------------------------------------------------\u001b[0m",
      "\u001b[0;31mAttributeError\u001b[0m                            Traceback (most recent call last)",
      "\u001b[0;32m<ipython-input-267-1f53c484aacb>\u001b[0m in \u001b[0;36m<module>\u001b[0;34m\u001b[0m\n\u001b[0;32m----> 1\u001b[0;31m \u001b[0mpath\u001b[0m \u001b[0;34m=\u001b[0m \u001b[0mArboles\u001b[0m\u001b[0;34m.\u001b[0m\u001b[0mcost_complexity_pruning_path\u001b[0m\u001b[0;34m(\u001b[0m\u001b[0mX_train\u001b[0m\u001b[0;34m,\u001b[0m \u001b[0my_train\u001b[0m\u001b[0;34m)\u001b[0m\u001b[0;34m\u001b[0m\u001b[0;34m\u001b[0m\u001b[0m\n\u001b[0m\u001b[1;32m      2\u001b[0m \u001b[0mccp_alphas\u001b[0m\u001b[0;34m,\u001b[0m \u001b[0mimpurities\u001b[0m \u001b[0;34m=\u001b[0m \u001b[0mpath\u001b[0m\u001b[0;34m.\u001b[0m\u001b[0mccp_alphas\u001b[0m\u001b[0;34m,\u001b[0m \u001b[0mpath\u001b[0m\u001b[0;34m.\u001b[0m\u001b[0mimpurities\u001b[0m\u001b[0;34m\u001b[0m\u001b[0;34m\u001b[0m\u001b[0m\n",
      "\u001b[0;31mAttributeError\u001b[0m: 'DecisionTreeClassifier' object has no attribute 'cost_complexity_pruning_path'"
     ]
    }
   ],
   "source": [
    "path = Arboles.cost_complexity_pruning_path(X_train, y_train)\n",
    "ccp_alphas, impurities = path.ccp_alphas, path.impurities"
   ]
  },
  {
   "cell_type": "code",
   "execution_count": 269,
   "metadata": {},
   "outputs": [],
   "source": [
    "from sklearn.naive_bayes import BernoulliNB\n",
    "clf = BernoulliNB()"
   ]
  },
  {
   "cell_type": "code",
   "execution_count": 270,
   "metadata": {},
   "outputs": [
    {
     "data": {
      "text/plain": [
       "BernoulliNB(alpha=1.0, binarize=0.0, class_prior=None, fit_prior=True)"
      ]
     },
     "execution_count": 270,
     "metadata": {},
     "output_type": "execute_result"
    }
   ],
   "source": [
    "clf.fit(X_train, y_train)"
   ]
  },
  {
   "cell_type": "code",
   "execution_count": 272,
   "metadata": {},
   "outputs": [],
   "source": [
    "pred2 = clf.predict(X_test)"
   ]
  },
  {
   "cell_type": "code",
   "execution_count": 273,
   "metadata": {},
   "outputs": [
    {
     "name": "stdout",
     "output_type": "stream",
     "text": [
      "              precision    recall  f1-score   support\n",
      "\n",
      "           1       0.00      0.00      0.00     26738\n",
      "           2       0.63      1.00      0.77     45421\n",
      "\n",
      "    accuracy                           0.63     72159\n",
      "   macro avg       0.31      0.50      0.39     72159\n",
      "weighted avg       0.40      0.63      0.49     72159\n",
      "\n"
     ]
    },
    {
     "name": "stderr",
     "output_type": "stream",
     "text": [
      "/opt/anaconda3/lib/python3.7/site-packages/sklearn/metrics/classification.py:1437: UndefinedMetricWarning: Precision and F-score are ill-defined and being set to 0.0 in labels with no predicted samples.\n",
      "  'precision', 'predicted', average, warn_for)\n"
     ]
    }
   ],
   "source": [
    "print(classification_report(y_test, pred2))"
   ]
  },
  {
   "cell_type": "code",
   "execution_count": 377,
   "metadata": {},
   "outputs": [
    {
     "name": "stdout",
     "output_type": "stream",
     "text": [
      "              precision    recall  f1-score   support\n",
      "\n",
      "           1       0.00      0.00      0.00     26738\n",
      "           2       0.63      1.00      0.77     45421\n",
      "\n",
      "    accuracy                           0.63     72159\n",
      "   macro avg       0.31      0.50      0.39     72159\n",
      "weighted avg       0.40      0.63      0.49     72159\n",
      "\n"
     ]
    },
    {
     "name": "stderr",
     "output_type": "stream",
     "text": [
      "/opt/anaconda3/lib/python3.7/site-packages/sklearn/metrics/classification.py:1437: UndefinedMetricWarning: Precision and F-score are ill-defined and being set to 0.0 in labels with no predicted samples.\n",
      "  'precision', 'predicted', average, warn_for)\n"
     ]
    }
   ],
   "source": [
    "from sklearn.naive_bayes import GaussianNB\n",
    "clf2 = GaussianNB()\n",
    "clf2.fit(X_train, y_train)\n",
    "pred3 = clf.predict(X_test)\n",
    "print(classification_report(y_test, pred3))"
   ]
  },
  {
   "cell_type": "code",
   "execution_count": 277,
   "metadata": {},
   "outputs": [
    {
     "name": "stdout",
     "output_type": "stream",
     "text": [
      "              precision    recall  f1-score   support\n",
      "\n",
      "           1       0.00      0.00      0.00     26738\n",
      "           2       0.63      1.00      0.77     45421\n",
      "\n",
      "    accuracy                           0.63     72159\n",
      "   macro avg       0.31      0.50      0.39     72159\n",
      "weighted avg       0.40      0.63      0.49     72159\n",
      "\n"
     ]
    },
    {
     "name": "stderr",
     "output_type": "stream",
     "text": [
      "/opt/anaconda3/lib/python3.7/site-packages/sklearn/metrics/classification.py:1437: UndefinedMetricWarning: Precision and F-score are ill-defined and being set to 0.0 in labels with no predicted samples.\n",
      "  'precision', 'predicted', average, warn_for)\n"
     ]
    }
   ],
   "source": [
    "from sklearn.naive_bayes import MultinomialNB\n",
    "clf3 = MultinomialNB()\n",
    "clf3.fit(X_train, y_train)\n",
    "pred4 = clf.predict(X_test)\n",
    "print(classification_report(y_test, pred4))"
   ]
  },
  {
   "cell_type": "code",
   "execution_count": 380,
   "metadata": {},
   "outputs": [
    {
     "name": "stdout",
     "output_type": "stream",
     "text": [
      "              precision    recall  f1-score   support\n",
      "\n",
      "           1       0.00      0.00      0.00     26738\n",
      "           2       0.63      1.00      0.77     45421\n",
      "\n",
      "    accuracy                           0.63     72159\n",
      "   macro avg       0.31      0.50      0.39     72159\n",
      "weighted avg       0.40      0.63      0.49     72159\n",
      "\n"
     ]
    },
    {
     "name": "stderr",
     "output_type": "stream",
     "text": [
      "/opt/anaconda3/lib/python3.7/site-packages/sklearn/metrics/classification.py:1437: UndefinedMetricWarning: Precision and F-score are ill-defined and being set to 0.0 in labels with no predicted samples.\n",
      "  'precision', 'predicted', average, warn_for)\n"
     ]
    }
   ],
   "source": [
    "from sklearn.naive_bayes import ComplementNB\n",
    "clf4 = ComplementNB()\n",
    "clf4.fit(X_train, y_train)\n",
    "pred5 = clf.predict(X_test)\n",
    "print(classification_report(y_test, pred5))"
   ]
  },
  {
   "cell_type": "code",
   "execution_count": 284,
   "metadata": {},
   "outputs": [
    {
     "name": "stdout",
     "output_type": "stream",
     "text": [
      "              precision    recall  f1-score   support\n",
      "\n",
      "           1       0.57      0.40      0.47     26738\n",
      "           2       0.70      0.82      0.76     45421\n",
      "\n",
      "    accuracy                           0.67     72159\n",
      "   macro avg       0.64      0.61      0.62     72159\n",
      "weighted avg       0.65      0.67      0.65     72159\n",
      "\n"
     ]
    }
   ],
   "source": [
    "from sklearn.neighbors import KNeighborsClassifier\n",
    "neigh = KNeighborsClassifier(n_neighbors=29)\n",
    "neigh.fit(X_train, y_train)\n",
    "pred6 = neigh.predict(X_test)\n",
    "print(classification_report(y_test, pred6))"
   ]
  },
  {
   "cell_type": "code",
   "execution_count": 287,
   "metadata": {},
   "outputs": [
    {
     "name": "stdout",
     "output_type": "stream",
     "text": [
      "              precision    recall  f1-score   support\n",
      "\n",
      "           1       0.57      0.40      0.47     26738\n",
      "           2       0.70      0.82      0.76     45421\n",
      "\n",
      "    accuracy                           0.67     72159\n",
      "   macro avg       0.64      0.61      0.62     72159\n",
      "weighted avg       0.65      0.67      0.65     72159\n",
      "\n"
     ]
    }
   ],
   "source": [
    "neigh2 = KNeighborsClassifier(n_neighbors=26, weights= 'distance')\n",
    "neigh2.fit(X_train, y_train)\n",
    "pred7 = neigh.predict(X_test)\n",
    "print(classification_report(y_test, pred7))"
   ]
  },
  {
   "cell_type": "code",
   "execution_count": 289,
   "metadata": {},
   "outputs": [],
   "source": [
    "from pandas.plotting import scatter_matrix"
   ]
  },
  {
   "cell_type": "code",
   "execution_count": 291,
   "metadata": {},
   "outputs": [
    {
     "data": {
      "text/plain": [
       "Index(['ORIGEN', 'SECTOR', 'ENTIDAD_UM', 'SEXO', 'ENTIDAD_NAC', 'ENTIDAD_RES',\n",
       "       'MUNICIPIO_RES', 'TIPO_PACIENTE', 'NEUMONIA', 'EDAD', 'EMBARAZO',\n",
       "       'HABLA_LENGUA_INDIG', 'DIABETES', 'EPOC', 'ASMA', 'INMUSUPR',\n",
       "       'HIPERTENSION', 'OTRA_COM', 'CARDIOVASCULAR', 'OBESIDAD',\n",
       "       'RENAL_CRONICA', 'TABAQUISMO', 'OTRO_CASO', 'PAIS_NACIONALIDAD'],\n",
       "      dtype='object')"
      ]
     },
     "execution_count": 291,
     "metadata": {},
     "output_type": "execute_result"
    }
   ],
   "source": [
    "X_train.columns"
   ]
  },
  {
   "cell_type": "code",
   "execution_count": 301,
   "metadata": {},
   "outputs": [],
   "source": [
    "uno = ['ORIGEN', 'SECTOR', 'ENTIDAD_UM', 'SEXO', 'ENTIDAD_NAC', 'ENTIDAD_RES']\n",
    "dos = ['MUNICIPIO_RES', 'TIPO_PACIENTE', 'NEUMONIA', 'EDAD', 'EMBARAZO']\n",
    "tres = ['HABLA_LENGUA_INDIG', 'DIABETES', 'EPOC', 'ASMA', 'INMUSUPR']\n",
    "cuatro = ['HIPERTENSION', 'OTRA_COM', 'CARDIOVASCULAR', 'OBESIDAD']\n",
    "cinco = ['RENAL_CRONICA', 'TABAQUISMO', 'OTRO_CASO', 'PAIS_NACIONALIDAD']"
   ]
  },
  {
   "cell_type": "code",
   "execution_count": 304,
   "metadata": {},
   "outputs": [
    {
     "data": {
      "text/plain": [
       "array([[<matplotlib.axes._subplots.AxesSubplot object at 0x1a5cbcff50>,\n",
       "        <matplotlib.axes._subplots.AxesSubplot object at 0x1a5e88ff10>,\n",
       "        <matplotlib.axes._subplots.AxesSubplot object at 0x127801d10>,\n",
       "        <matplotlib.axes._subplots.AxesSubplot object at 0x127832f90>,\n",
       "        <matplotlib.axes._subplots.AxesSubplot object at 0x1a47004c50>,\n",
       "        <matplotlib.axes._subplots.AxesSubplot object at 0x1a4703efd0>],\n",
       "       [<matplotlib.axes._subplots.AxesSubplot object at 0x1a470d9c90>,\n",
       "        <matplotlib.axes._subplots.AxesSubplot object at 0x1a471154d0>,\n",
       "        <matplotlib.axes._subplots.AxesSubplot object at 0x1a47121050>,\n",
       "        <matplotlib.axes._subplots.AxesSubplot object at 0x1a471519d0>,\n",
       "        <matplotlib.axes._subplots.AxesSubplot object at 0x1a471b5d10>,\n",
       "        <matplotlib.axes._subplots.AxesSubplot object at 0x1a471f1550>],\n",
       "       [<matplotlib.axes._subplots.AxesSubplot object at 0x1a47225d50>,\n",
       "        <matplotlib.axes._subplots.AxesSubplot object at 0x1a47265590>,\n",
       "        <matplotlib.axes._subplots.AxesSubplot object at 0x1a47298d90>,\n",
       "        <matplotlib.axes._subplots.AxesSubplot object at 0x1a472da5d0>,\n",
       "        <matplotlib.axes._subplots.AxesSubplot object at 0x1a4730cdd0>,\n",
       "        <matplotlib.axes._subplots.AxesSubplot object at 0x1a4734d610>],\n",
       "       [<matplotlib.axes._subplots.AxesSubplot object at 0x1a47382e10>,\n",
       "        <matplotlib.axes._subplots.AxesSubplot object at 0x1a473c4650>,\n",
       "        <matplotlib.axes._subplots.AxesSubplot object at 0x1a473f7e50>,\n",
       "        <matplotlib.axes._subplots.AxesSubplot object at 0x1a4743a690>,\n",
       "        <matplotlib.axes._subplots.AxesSubplot object at 0x1a4746de90>,\n",
       "        <matplotlib.axes._subplots.AxesSubplot object at 0x1a474ae6d0>],\n",
       "       [<matplotlib.axes._subplots.AxesSubplot object at 0x1a474e3ed0>,\n",
       "        <matplotlib.axes._subplots.AxesSubplot object at 0x1a47524710>,\n",
       "        <matplotlib.axes._subplots.AxesSubplot object at 0x1a47558f10>,\n",
       "        <matplotlib.axes._subplots.AxesSubplot object at 0x1a4759a750>,\n",
       "        <matplotlib.axes._subplots.AxesSubplot object at 0x1a475cdf50>,\n",
       "        <matplotlib.axes._subplots.AxesSubplot object at 0x1a4760f790>],\n",
       "       [<matplotlib.axes._subplots.AxesSubplot object at 0x1a47641f90>,\n",
       "        <matplotlib.axes._subplots.AxesSubplot object at 0x1a476857d0>,\n",
       "        <matplotlib.axes._subplots.AxesSubplot object at 0x1a476b7fd0>,\n",
       "        <matplotlib.axes._subplots.AxesSubplot object at 0x1a476fa810>,\n",
       "        <matplotlib.axes._subplots.AxesSubplot object at 0x1a4772df90>,\n",
       "        <matplotlib.axes._subplots.AxesSubplot object at 0x1a47771850>]],\n",
       "      dtype=object)"
      ]
     },
     "execution_count": 304,
     "metadata": {},
     "output_type": "execute_result"
    },
    {
     "data": {
      "image/png": "[encoded data removed]",
      "text/plain": [
       "<Figure size 1080x864 with 36 Axes>"
      ]
     },
     "metadata": {
      "needs_background": "light"
     },
     "output_type": "display_data"
    }
   ],
   "source": [
    "scatter_matrix(present[uno], figsize=(15,12))"
   ]
  },
  {
   "cell_type": "code",
   "execution_count": 305,
   "metadata": {},
   "outputs": [
    {
     "data": {
      "text/plain": [
       "array([[<matplotlib.axes._subplots.AxesSubplot object at 0x1a5af51f10>,\n",
       "        <matplotlib.axes._subplots.AxesSubplot object at 0x1a4aa19750>,\n",
       "        <matplotlib.axes._subplots.AxesSubplot object at 0x1a4aa34cd0>,\n",
       "        <matplotlib.axes._subplots.AxesSubplot object at 0x1a4aa66f50>,\n",
       "        <matplotlib.axes._subplots.AxesSubplot object at 0x1a4aa9dc10>],\n",
       "       [<matplotlib.axes._subplots.AxesSubplot object at 0x1a4b09af90>,\n",
       "        <matplotlib.axes._subplots.AxesSubplot object at 0x1a4b0d0c50>,\n",
       "        <matplotlib.axes._subplots.AxesSubplot object at 0x1a4b10ffd0>,\n",
       "        <matplotlib.axes._subplots.AxesSubplot object at 0x1a4b11b110>,\n",
       "        <matplotlib.axes._subplots.AxesSubplot object at 0x1a4b14f990>],\n",
       "       [<matplotlib.axes._subplots.AxesSubplot object at 0x1a4b1bacd0>,\n",
       "        <matplotlib.axes._subplots.AxesSubplot object at 0x1a4b1fa510>,\n",
       "        <matplotlib.axes._subplots.AxesSubplot object at 0x1a4b22ed10>,\n",
       "        <matplotlib.axes._subplots.AxesSubplot object at 0x1a52512550>,\n",
       "        <matplotlib.axes._subplots.AxesSubplot object at 0x1a52546d50>],\n",
       "       [<matplotlib.axes._subplots.AxesSubplot object at 0x1a52587590>,\n",
       "        <matplotlib.axes._subplots.AxesSubplot object at 0x1a525bcd90>,\n",
       "        <matplotlib.axes._subplots.AxesSubplot object at 0x1a525ff5d0>,\n",
       "        <matplotlib.axes._subplots.AxesSubplot object at 0x1a52633dd0>,\n",
       "        <matplotlib.axes._subplots.AxesSubplot object at 0x1a52674610>],\n",
       "       [<matplotlib.axes._subplots.AxesSubplot object at 0x1a526a6e10>,\n",
       "        <matplotlib.axes._subplots.AxesSubplot object at 0x1a526e8650>,\n",
       "        <matplotlib.axes._subplots.AxesSubplot object at 0x1a5271ce50>,\n",
       "        <matplotlib.axes._subplots.AxesSubplot object at 0x1a5275d690>,\n",
       "        <matplotlib.axes._subplots.AxesSubplot object at 0x1a52793e90>]],\n",
       "      dtype=object)"
      ]
     },
     "execution_count": 305,
     "metadata": {},
     "output_type": "execute_result"
    },
    {
     "data": {
      "image/png": "[encoded data removed]",
      "text/plain": [
       "<Figure size 1080x864 with 25 Axes>"
      ]
     },
     "metadata": {
      "needs_background": "light"
     },
     "output_type": "display_data"
    }
   ],
   "source": [
    "scatter_matrix(present[dos], figsize=(15,12))"
   ]
  },
  {
   "cell_type": "code",
   "execution_count": 307,
   "metadata": {},
   "outputs": [
    {
     "data": {
      "text/plain": [
       "array([[<matplotlib.axes._subplots.AxesSubplot object at 0x1a52917d10>,\n",
       "        <matplotlib.axes._subplots.AxesSubplot object at 0x1a52966650>,\n",
       "        <matplotlib.axes._subplots.AxesSubplot object at 0x1a52806910>,\n",
       "        <matplotlib.axes._subplots.AxesSubplot object at 0x1a52844c90>,\n",
       "        <matplotlib.axes._subplots.AxesSubplot object at 0x1a5287b950>],\n",
       "       [<matplotlib.axes._subplots.AxesSubplot object at 0x1a528bacd0>,\n",
       "        <matplotlib.axes._subplots.AxesSubplot object at 0x1a528f1990>,\n",
       "        <matplotlib.axes._subplots.AxesSubplot object at 0x1a529fb1d0>,\n",
       "        <matplotlib.axes._subplots.AxesSubplot object at 0x1a529fbd10>,\n",
       "        <matplotlib.axes._subplots.AxesSubplot object at 0x1a52a3a6d0>],\n",
       "       [<matplotlib.axes._subplots.AxesSubplot object at 0x1a52aa7a10>,\n",
       "        <matplotlib.axes._subplots.AxesSubplot object at 0x1a52ae4d90>,\n",
       "        <matplotlib.axes._subplots.AxesSubplot object at 0x1a590d2a50>,\n",
       "        <matplotlib.axes._subplots.AxesSubplot object at 0x1a597a4dd0>,\n",
       "        <matplotlib.axes._subplots.AxesSubplot object at 0x1a597daa90>],\n",
       "       [<matplotlib.axes._subplots.AxesSubplot object at 0x1a5ce05e10>,\n",
       "        <matplotlib.axes._subplots.AxesSubplot object at 0x1a60824ad0>,\n",
       "        <matplotlib.axes._subplots.AxesSubplot object at 0x1a6754ce50>,\n",
       "        <matplotlib.axes._subplots.AxesSubplot object at 0x1a6cf0eb10>,\n",
       "        <matplotlib.axes._subplots.AxesSubplot object at 0x1a6cf4ce90>],\n",
       "       [<matplotlib.axes._subplots.AxesSubplot object at 0x1a6cf83b50>,\n",
       "        <matplotlib.axes._subplots.AxesSubplot object at 0x1a6cfc3ed0>,\n",
       "        <matplotlib.axes._subplots.AxesSubplot object at 0x1a6d079b90>,\n",
       "        <matplotlib.axes._subplots.AxesSubplot object at 0x1a6d0b9f10>,\n",
       "        <matplotlib.axes._subplots.AxesSubplot object at 0x1a6d0efbd0>]],\n",
       "      dtype=object)"
      ]
     },
     "execution_count": 307,
     "metadata": {},
     "output_type": "execute_result"
    },
    {
     "data": {
      "image/png": "[encoded data removed]",
      "text/plain": [
       "<Figure size 1080x864 with 25 Axes>"
      ]
     },
     "metadata": {
      "needs_background": "light"
     },
     "output_type": "display_data"
    }
   ],
   "source": [
    "scatter_matrix(present[tres], figsize=(15,12))"
   ]
  },
  {
   "cell_type": "code",
   "execution_count": 308,
   "metadata": {},
   "outputs": [
    {
     "data": {
      "text/plain": [
       "array([[<matplotlib.axes._subplots.AxesSubplot object at 0x1a6d13b7d0>,\n",
       "        <matplotlib.axes._subplots.AxesSubplot object at 0x1a72452790>,\n",
       "        <matplotlib.axes._subplots.AxesSubplot object at 0x1a724d1f10>,\n",
       "        <matplotlib.axes._subplots.AxesSubplot object at 0x1a72509a50>],\n",
       "       [<matplotlib.axes._subplots.AxesSubplot object at 0x1a72840dd0>,\n",
       "        <matplotlib.axes._subplots.AxesSubplot object at 0x1a72876a90>,\n",
       "        <matplotlib.axes._subplots.AxesSubplot object at 0x1a728b7f10>,\n",
       "        <matplotlib.axes._subplots.AxesSubplot object at 0x1a728ebad0>],\n",
       "       [<matplotlib.axes._subplots.AxesSubplot object at 0x1a728f7650>,\n",
       "        <matplotlib.axes._subplots.AxesSubplot object at 0x1a7292cfd0>,\n",
       "        <matplotlib.axes._subplots.AxesSubplot object at 0x1a729a3e90>,\n",
       "        <matplotlib.axes._subplots.AxesSubplot object at 0x1a729d8b50>],\n",
       "       [<matplotlib.axes._subplots.AxesSubplot object at 0x1a72b98ed0>,\n",
       "        <matplotlib.axes._subplots.AxesSubplot object at 0x1a72bcfb90>,\n",
       "        <matplotlib.axes._subplots.AxesSubplot object at 0x1a72c0df10>,\n",
       "        <matplotlib.axes._subplots.AxesSubplot object at 0x1a72c44bd0>]],\n",
       "      dtype=object)"
      ]
     },
     "execution_count": 308,
     "metadata": {},
     "output_type": "execute_result"
    },
    {
     "data": {
      "image/png": "[encoded data removed]",
      "text/plain": [
       "<Figure size 1080x864 with 16 Axes>"
      ]
     },
     "metadata": {
      "needs_background": "light"
     },
     "output_type": "display_data"
    }
   ],
   "source": [
    "scatter_matrix(present[cuatro], figsize=(15,12))"
   ]
  },
  {
   "cell_type": "code",
   "execution_count": 309,
   "metadata": {},
   "outputs": [
    {
     "data": {
      "text/plain": [
       "array([[<matplotlib.axes._subplots.AxesSubplot object at 0x1a72440090>,\n",
       "        <matplotlib.axes._subplots.AxesSubplot object at 0x1a78420110>,\n",
       "        <matplotlib.axes._subplots.AxesSubplot object at 0x1a78486b90>,\n",
       "        <matplotlib.axes._subplots.AxesSubplot object at 0x1a784c5f10>],\n",
       "       [<matplotlib.axes._subplots.AxesSubplot object at 0x1a784fabd0>,\n",
       "        <matplotlib.axes._subplots.AxesSubplot object at 0x1a78538f50>,\n",
       "        <matplotlib.axes._subplots.AxesSubplot object at 0x1a7856ec10>,\n",
       "        <matplotlib.axes._subplots.AxesSubplot object at 0x1a785aef90>],\n",
       "       [<matplotlib.axes._subplots.AxesSubplot object at 0x1a785bb0d0>,\n",
       "        <matplotlib.axes._subplots.AxesSubplot object at 0x1a78982950>,\n",
       "        <matplotlib.axes._subplots.AxesSubplot object at 0x1a789eac90>,\n",
       "        <matplotlib.axes._subplots.AxesSubplot object at 0x1a78a2b4d0>],\n",
       "       [<matplotlib.axes._subplots.AxesSubplot object at 0x1a78a60cd0>,\n",
       "        <matplotlib.axes._subplots.AxesSubplot object at 0x1a78aa1510>,\n",
       "        <matplotlib.axes._subplots.AxesSubplot object at 0x1a78ad7d10>,\n",
       "        <matplotlib.axes._subplots.AxesSubplot object at 0x1a7a37f550>]],\n",
       "      dtype=object)"
      ]
     },
     "execution_count": 309,
     "metadata": {},
     "output_type": "execute_result"
    },
    {
     "data": {
      "image/png": "[encoded data removed]",
      "text/plain": [
       "<Figure size 1080x864 with 16 Axes>"
      ]
     },
     "metadata": {
      "needs_background": "light"
     },
     "output_type": "display_data"
    }
   ],
   "source": [
    "scatter_matrix(present[cinco], figsize=(15,12))"
   ]
  },
  {
   "cell_type": "code",
   "execution_count": 306,
   "metadata": {},
   "outputs": [],
   "source": [
    "corr_matrix = X_train.corr()"
   ]
  },
  {
   "cell_type": "code",
   "execution_count": 312,
   "metadata": {},
   "outputs": [
    {
     "data": {
      "text/plain": [
       "NEUMONIA             -0.263677\n",
       "SECTOR               -0.105779\n",
       "ORIGEN               -0.079794\n",
       "HABLA_LENGUA_INDIG   -0.007689\n",
       "HIPERTENSION         -0.004768\n",
       "DIABETES              0.003814\n",
       "MUNICIPIO_RES         0.007135\n",
       "PAIS_NACIONALIDAD     0.010177\n",
       "ENTIDAD_UM            0.012403\n",
       "ENTIDAD_RES           0.013735\n",
       "OBESIDAD              0.015521\n",
       "RENAL_CRONICA         0.018223\n",
       "CARDIOVASCULAR        0.018287\n",
       "EPOC                  0.018613\n",
       "ENTIDAD_NAC           0.020493\n",
       "TABAQUISMO            0.021154\n",
       "OTRA_COM              0.021475\n",
       "INMUSUPR              0.021747\n",
       "ASMA                  0.021872\n",
       "SEXO                  0.038198\n",
       "EMBARAZO              0.038222\n",
       "OTRO_CASO             0.039931\n",
       "TIPO_PACIENTE         0.303135\n",
       "EDAD                  1.000000\n",
       "Name: EDAD, dtype: float64"
      ]
     },
     "execution_count": 312,
     "metadata": {},
     "output_type": "execute_result"
    }
   ],
   "source": [
    "#Edad, municipio_red, Entidad_nac\n",
    "corr_matrix[\"EDAD\"].sort_values(ascending=True)"
   ]
  },
  {
   "cell_type": "code",
   "execution_count": 315,
   "metadata": {},
   "outputs": [
    {
     "data": {
      "text/plain": [
       "NEUMONIA             -0.041203\n",
       "SECTOR               -0.024577\n",
       "HABLA_LENGUA_INDIG   -0.010361\n",
       "RENAL_CRONICA        -0.000981\n",
       "INMUSUPR             -0.000714\n",
       "EPOC                  0.000328\n",
       "ORIGEN                0.000385\n",
       "ASMA                  0.000650\n",
       "HIPERTENSION          0.000846\n",
       "DIABETES              0.000974\n",
       "OTRA_COM              0.001628\n",
       "TABAQUISMO            0.001834\n",
       "OBESIDAD              0.002000\n",
       "EMBARAZO              0.002710\n",
       "CARDIOVASCULAR        0.003049\n",
       "SEXO                  0.003391\n",
       "PAIS_NACIONALIDAD     0.006838\n",
       "EDAD                  0.007135\n",
       "OTRO_CASO             0.014577\n",
       "TIPO_PACIENTE         0.051845\n",
       "ENTIDAD_NAC           0.145239\n",
       "ENTIDAD_UM            0.243441\n",
       "ENTIDAD_RES           0.269822\n",
       "MUNICIPIO_RES         1.000000\n",
       "Name: MUNICIPIO_RES, dtype: float64"
      ]
     },
     "execution_count": 315,
     "metadata": {},
     "output_type": "execute_result"
    }
   ],
   "source": [
    "corr_matrix[\"MUNICIPIO_RES\"].sort_values(ascending=True)"
   ]
  },
  {
   "cell_type": "code",
   "execution_count": 316,
   "metadata": {},
   "outputs": [
    {
     "data": {
      "text/plain": [
       "PAIS_NACIONALIDAD    -0.370511\n",
       "ORIGEN               -0.042619\n",
       "HABLA_LENGUA_INDIG   -0.016581\n",
       "OTRA_COM             -0.008563\n",
       "SECTOR               -0.008484\n",
       "INMUSUPR             -0.008289\n",
       "HIPERTENSION         -0.006563\n",
       "NEUMONIA             -0.005963\n",
       "OBESIDAD             -0.005834\n",
       "RENAL_CRONICA        -0.004934\n",
       "ASMA                 -0.004925\n",
       "EPOC                 -0.004613\n",
       "DIABETES             -0.004345\n",
       "CARDIOVASCULAR       -0.004295\n",
       "TABAQUISMO           -0.001899\n",
       "EMBARAZO              0.017374\n",
       "SEXO                  0.017440\n",
       "EDAD                  0.020493\n",
       "TIPO_PACIENTE         0.020790\n",
       "OTRO_CASO             0.046442\n",
       "MUNICIPIO_RES         0.145239\n",
       "ENTIDAD_UM            0.622514\n",
       "ENTIDAD_RES           0.624591\n",
       "ENTIDAD_NAC           1.000000\n",
       "Name: ENTIDAD_NAC, dtype: float64"
      ]
     },
     "execution_count": 316,
     "metadata": {},
     "output_type": "execute_result"
    }
   ],
   "source": [
    "corr_matrix[\"ENTIDAD_NAC\"].sort_values(ascending=True)"
   ]
  },
  {
   "cell_type": "code",
   "execution_count": 317,
   "metadata": {},
   "outputs": [
    {
     "name": "stdout",
     "output_type": "stream",
     "text": [
      "Revisando:  ORIGEN\n",
      "TIPO_PACIENTE        -0.233845\n",
      "EDAD                 -0.079794\n",
      "ENTIDAD_UM           -0.073307\n",
      "ENTIDAD_RES          -0.068011\n",
      "ENTIDAD_NAC          -0.042619\n",
      "OTRO_CASO            -0.025157\n",
      "EMBARAZO             -0.011810\n",
      "PAIS_NACIONALIDAD    -0.010562\n",
      "SEXO                 -0.010434\n",
      "HABLA_LENGUA_INDIG   -0.005019\n",
      "OTRA_COM             -0.001155\n",
      "MUNICIPIO_RES         0.000385\n",
      "INMUSUPR              0.009387\n",
      "TABAQUISMO            0.014457\n",
      "CARDIOVASCULAR        0.014615\n",
      "ASMA                  0.014975\n",
      "EPOC                  0.015239\n",
      "RENAL_CRONICA         0.016938\n",
      "HIPERTENSION          0.020681\n",
      "DIABETES              0.021194\n",
      "OBESIDAD              0.022188\n",
      "SECTOR                0.134215\n",
      "NEUMONIA              0.192820\n",
      "ORIGEN                1.000000\n",
      "Name: ORIGEN, dtype: float64\n",
      "Revisando:  SECTOR\n",
      "TIPO_PACIENTE        -0.230670\n",
      "EDAD                 -0.105779\n",
      "HABLA_LENGUA_INDIG   -0.088468\n",
      "ENTIDAD_RES          -0.027728\n",
      "ENTIDAD_UM           -0.027466\n",
      "MUNICIPIO_RES        -0.024577\n",
      "PAIS_NACIONALIDAD    -0.022416\n",
      "ENTIDAD_NAC          -0.008484\n",
      "SEXO                  0.014233\n",
      "EMBARAZO              0.015552\n",
      "TABAQUISMO            0.017427\n",
      "ASMA                  0.020623\n",
      "EPOC                  0.020705\n",
      "CARDIOVASCULAR        0.021585\n",
      "RENAL_CRONICA         0.021863\n",
      "INMUSUPR              0.022239\n",
      "DIABETES              0.026651\n",
      "HIPERTENSION          0.028151\n",
      "OBESIDAD              0.028756\n",
      "OTRA_COM              0.030597\n",
      "NEUMONIA              0.097679\n",
      "ORIGEN                0.134215\n",
      "OTRO_CASO             0.376931\n",
      "SECTOR                1.000000\n",
      "Name: SECTOR, dtype: float64\n",
      "Revisando:  ENTIDAD_UM\n",
      "ORIGEN               -0.073307\n",
      "SECTOR               -0.027466\n",
      "HABLA_LENGUA_INDIG   -0.017710\n",
      "OTRA_COM             -0.017260\n",
      "INMUSUPR             -0.016161\n",
      "HIPERTENSION         -0.011941\n",
      "OBESIDAD             -0.011610\n",
      "ASMA                 -0.011520\n",
      "EPOC                 -0.011497\n",
      "DIABETES             -0.010896\n",
      "RENAL_CRONICA        -0.010724\n",
      "CARDIOVASCULAR       -0.009901\n",
      "TABAQUISMO           -0.006233\n",
      "NEUMONIA              0.004779\n",
      "PAIS_NACIONALIDAD     0.005289\n",
      "SEXO                  0.011047\n",
      "EMBARAZO              0.011432\n",
      "EDAD                  0.012403\n",
      "TIPO_PACIENTE         0.020136\n",
      "OTRO_CASO             0.039240\n",
      "MUNICIPIO_RES         0.243441\n",
      "ENTIDAD_NAC           0.622514\n",
      "ENTIDAD_RES           0.964496\n",
      "ENTIDAD_UM            1.000000\n",
      "Name: ENTIDAD_UM, dtype: float64\n",
      "Revisando:  SEXO\n",
      "NEUMONIA             -0.094792\n",
      "HABLA_LENGUA_INDIG   -0.016730\n",
      "ORIGEN               -0.010434\n",
      "PAIS_NACIONALIDAD    -0.001791\n",
      "MUNICIPIO_RES         0.003391\n",
      "TABAQUISMO            0.008032\n",
      "ENTIDAD_UM            0.011047\n",
      "RENAL_CRONICA         0.011673\n",
      "ENTIDAD_RES           0.011694\n",
      "INMUSUPR              0.011753\n",
      "DIABETES              0.012410\n",
      "HIPERTENSION          0.012847\n",
      "CARDIOVASCULAR        0.013025\n",
      "OBESIDAD              0.013402\n",
      "SECTOR                0.014233\n",
      "ASMA                  0.014413\n",
      "EPOC                  0.014527\n",
      "OTRA_COM              0.015244\n",
      "ENTIDAD_NAC           0.017440\n",
      "EDAD                  0.038198\n",
      "OTRO_CASO             0.044229\n",
      "TIPO_PACIENTE         0.104731\n",
      "EMBARAZO              0.996170\n",
      "SEXO                  1.000000\n",
      "Name: SEXO, dtype: float64\n",
      "Revisando:  ENTIDAD_NAC\n",
      "PAIS_NACIONALIDAD    -0.370511\n",
      "ORIGEN               -0.042619\n",
      "HABLA_LENGUA_INDIG   -0.016581\n",
      "OTRA_COM             -0.008563\n",
      "SECTOR               -0.008484\n",
      "INMUSUPR             -0.008289\n",
      "HIPERTENSION         -0.006563\n",
      "NEUMONIA             -0.005963\n",
      "OBESIDAD             -0.005834\n",
      "RENAL_CRONICA        -0.004934\n",
      "ASMA                 -0.004925\n",
      "EPOC                 -0.004613\n",
      "DIABETES             -0.004345\n",
      "CARDIOVASCULAR       -0.004295\n",
      "TABAQUISMO           -0.001899\n",
      "EMBARAZO              0.017374\n",
      "SEXO                  0.017440\n",
      "EDAD                  0.020493\n",
      "TIPO_PACIENTE         0.020790\n",
      "OTRO_CASO             0.046442\n",
      "MUNICIPIO_RES         0.145239\n",
      "ENTIDAD_UM            0.622514\n",
      "ENTIDAD_RES           0.624591\n",
      "ENTIDAD_NAC           1.000000\n",
      "Name: ENTIDAD_NAC, dtype: float64\n",
      "Revisando:  ENTIDAD_RES\n",
      "ORIGEN               -0.068011\n",
      "SECTOR               -0.027728\n",
      "OTRA_COM             -0.017855\n",
      "INMUSUPR             -0.017457\n",
      "HABLA_LENGUA_INDIG   -0.016518\n",
      "OBESIDAD             -0.013536\n",
      "HIPERTENSION         -0.013500\n",
      "ASMA                 -0.012645\n",
      "EPOC                 -0.012586\n",
      "DIABETES             -0.012490\n",
      "RENAL_CRONICA        -0.012244\n",
      "CARDIOVASCULAR       -0.011738\n",
      "TABAQUISMO           -0.007556\n",
      "NEUMONIA             -0.000808\n",
      "PAIS_NACIONALIDAD     0.007454\n",
      "SEXO                  0.011694\n",
      "EMBARAZO              0.012049\n",
      "EDAD                  0.013735\n",
      "TIPO_PACIENTE         0.022722\n",
      "OTRO_CASO             0.035251\n",
      "MUNICIPIO_RES         0.269822\n",
      "ENTIDAD_NAC           0.624591\n",
      "ENTIDAD_UM            0.964496\n",
      "ENTIDAD_RES           1.000000\n",
      "Name: ENTIDAD_RES, dtype: float64\n",
      "Revisando:  MUNICIPIO_RES\n",
      "NEUMONIA             -0.041203\n",
      "SECTOR               -0.024577\n",
      "HABLA_LENGUA_INDIG   -0.010361\n",
      "RENAL_CRONICA        -0.000981\n",
      "INMUSUPR             -0.000714\n",
      "EPOC                  0.000328\n",
      "ORIGEN                0.000385\n",
      "ASMA                  0.000650\n",
      "HIPERTENSION          0.000846\n",
      "DIABETES              0.000974\n",
      "OTRA_COM              0.001628\n",
      "TABAQUISMO            0.001834\n",
      "OBESIDAD              0.002000\n",
      "EMBARAZO              0.002710\n",
      "CARDIOVASCULAR        0.003049\n",
      "SEXO                  0.003391\n",
      "PAIS_NACIONALIDAD     0.006838\n",
      "EDAD                  0.007135\n",
      "OTRO_CASO             0.014577\n",
      "TIPO_PACIENTE         0.051845\n",
      "ENTIDAD_NAC           0.145239\n",
      "ENTIDAD_UM            0.243441\n",
      "ENTIDAD_RES           0.269822\n",
      "MUNICIPIO_RES         1.000000\n",
      "Name: MUNICIPIO_RES, dtype: float64\n",
      "Revisando:  TIPO_PACIENTE\n",
      "NEUMONIA             -0.651814\n",
      "ORIGEN               -0.233845\n",
      "SECTOR               -0.230670\n",
      "HABLA_LENGUA_INDIG   -0.007839\n",
      "HIPERTENSION          0.010232\n",
      "DIABETES              0.012783\n",
      "PAIS_NACIONALIDAD     0.013350\n",
      "ENTIDAD_UM            0.020136\n",
      "ENTIDAD_NAC           0.020790\n",
      "RENAL_CRONICA         0.022451\n",
      "ENTIDAD_RES           0.022722\n",
      "EPOC                  0.023705\n",
      "TABAQUISMO            0.025985\n",
      "CARDIOVASCULAR        0.026123\n",
      "ASMA                  0.027011\n",
      "INMUSUPR              0.027744\n",
      "OBESIDAD              0.030512\n",
      "OTRA_COM              0.036681\n",
      "MUNICIPIO_RES         0.051845\n",
      "OTRO_CASO             0.070663\n",
      "EMBARAZO              0.104454\n",
      "SEXO                  0.104731\n",
      "EDAD                  0.303135\n",
      "TIPO_PACIENTE         1.000000\n",
      "Name: TIPO_PACIENTE, dtype: float64\n",
      "Revisando:  NEUMONIA\n",
      "TIPO_PACIENTE        -0.651814\n",
      "EDAD                 -0.263677\n",
      "OTRO_CASO            -0.111274\n",
      "SEXO                 -0.094792\n",
      "EMBARAZO             -0.094646\n",
      "MUNICIPIO_RES        -0.041203\n",
      "OTRA_COM             -0.034588\n",
      "OBESIDAD             -0.025213\n",
      "INMUSUPR             -0.020562\n",
      "TABAQUISMO           -0.019410\n",
      "CARDIOVASCULAR       -0.018815\n",
      "ASMA                 -0.018671\n",
      "EPOC                 -0.017217\n",
      "RENAL_CRONICA        -0.014475\n",
      "PAIS_NACIONALIDAD    -0.011646\n",
      "ENTIDAD_NAC          -0.005963\n",
      "DIABETES             -0.005339\n",
      "HIPERTENSION         -0.004451\n",
      "ENTIDAD_RES          -0.000808\n",
      "ENTIDAD_UM            0.004779\n",
      "HABLA_LENGUA_INDIG    0.025697\n",
      "SECTOR                0.097679\n",
      "ORIGEN                0.192820\n",
      "NEUMONIA              1.000000\n",
      "Name: NEUMONIA, dtype: float64\n",
      "Revisando:  EDAD\n",
      "NEUMONIA             -0.263677\n",
      "SECTOR               -0.105779\n",
      "ORIGEN               -0.079794\n",
      "HABLA_LENGUA_INDIG   -0.007689\n",
      "HIPERTENSION         -0.004768\n",
      "DIABETES              0.003814\n",
      "MUNICIPIO_RES         0.007135\n",
      "PAIS_NACIONALIDAD     0.010177\n",
      "ENTIDAD_UM            0.012403\n",
      "ENTIDAD_RES           0.013735\n",
      "OBESIDAD              0.015521\n",
      "RENAL_CRONICA         0.018223\n",
      "CARDIOVASCULAR        0.018287\n",
      "EPOC                  0.018613\n",
      "ENTIDAD_NAC           0.020493\n",
      "TABAQUISMO            0.021154\n",
      "OTRA_COM              0.021475\n",
      "INMUSUPR              0.021747\n",
      "ASMA                  0.021872\n",
      "SEXO                  0.038198\n",
      "EMBARAZO              0.038222\n",
      "OTRO_CASO             0.039931\n",
      "TIPO_PACIENTE         0.303135\n",
      "EDAD                  1.000000\n",
      "Name: EDAD, dtype: float64\n",
      "Revisando:  EMBARAZO\n",
      "NEUMONIA             -0.094646\n",
      "HABLA_LENGUA_INDIG   -0.017361\n",
      "ORIGEN               -0.011810\n",
      "PAIS_NACIONALIDAD    -0.001776\n",
      "MUNICIPIO_RES         0.002710\n",
      "ENTIDAD_UM            0.011432\n",
      "ENTIDAD_RES           0.012049\n",
      "TABAQUISMO            0.013853\n",
      "SECTOR                0.015552\n",
      "ENTIDAD_NAC           0.017374\n",
      "INMUSUPR              0.017521\n",
      "RENAL_CRONICA         0.017537\n",
      "DIABETES              0.017804\n",
      "HIPERTENSION          0.018614\n",
      "CARDIOVASCULAR        0.018807\n",
      "OBESIDAD              0.018913\n",
      "ASMA                  0.020093\n",
      "OTRA_COM              0.020114\n",
      "EPOC                  0.020407\n",
      "EDAD                  0.038222\n",
      "OTRO_CASO             0.044489\n",
      "TIPO_PACIENTE         0.104454\n",
      "SEXO                  0.996170\n",
      "EMBARAZO              1.000000\n",
      "Name: EMBARAZO, dtype: float64\n",
      "Revisando:  HABLA_LENGUA_INDIG\n",
      "SECTOR               -0.088468\n",
      "OTRO_CASO            -0.046040\n",
      "OTRA_COM             -0.017723\n",
      "ENTIDAD_UM           -0.017710\n",
      "EMBARAZO             -0.017361\n",
      "SEXO                 -0.016730\n",
      "ENTIDAD_NAC          -0.016581\n",
      "ENTIDAD_RES          -0.016518\n",
      "RENAL_CRONICA        -0.015626\n",
      "CARDIOVASCULAR       -0.015105\n",
      "INMUSUPR             -0.014231\n",
      "TABAQUISMO           -0.013830\n",
      "EPOC                 -0.013054\n",
      "HIPERTENSION         -0.012833\n",
      "ASMA                 -0.012507\n",
      "DIABETES             -0.011462\n",
      "MUNICIPIO_RES        -0.010361\n",
      "OBESIDAD             -0.009587\n",
      "TIPO_PACIENTE        -0.007839\n",
      "EDAD                 -0.007689\n",
      "ORIGEN               -0.005019\n",
      "PAIS_NACIONALIDAD    -0.001137\n",
      "NEUMONIA              0.025697\n",
      "HABLA_LENGUA_INDIG    1.000000\n",
      "Name: HABLA_LENGUA_INDIG, dtype: float64\n",
      "Revisando:  DIABETES\n",
      "ENTIDAD_RES          -0.012490\n",
      "HABLA_LENGUA_INDIG   -0.011462\n",
      "ENTIDAD_UM           -0.010896\n",
      "OTRO_CASO            -0.007636\n",
      "NEUMONIA             -0.005339\n",
      "ENTIDAD_NAC          -0.004345\n",
      "PAIS_NACIONALIDAD    -0.002693\n",
      "MUNICIPIO_RES         0.000974\n",
      "EDAD                  0.003814\n",
      "SEXO                  0.012410\n",
      "TIPO_PACIENTE         0.012783\n",
      "EMBARAZO              0.017804\n",
      "ORIGEN                0.021194\n",
      "SECTOR                0.026651\n",
      "OTRA_COM              0.707433\n",
      "OBESIDAD              0.735124\n",
      "TABAQUISMO            0.793008\n",
      "INMUSUPR              0.814163\n",
      "RENAL_CRONICA         0.831728\n",
      "EPOC                  0.837450\n",
      "CARDIOVASCULAR        0.839554\n",
      "HIPERTENSION          0.853923\n",
      "ASMA                  0.860428\n",
      "DIABETES              1.000000\n",
      "Name: DIABETES, dtype: float64\n",
      "Revisando:  EPOC\n",
      "NEUMONIA             -0.017217\n",
      "HABLA_LENGUA_INDIG   -0.013054\n",
      "ENTIDAD_RES          -0.012586\n",
      "ENTIDAD_UM           -0.011497\n",
      "OTRO_CASO            -0.006813\n",
      "ENTIDAD_NAC          -0.004613\n",
      "PAIS_NACIONALIDAD    -0.001704\n",
      "MUNICIPIO_RES         0.000328\n",
      "SEXO                  0.014527\n",
      "ORIGEN                0.015239\n",
      "EDAD                  0.018613\n",
      "EMBARAZO              0.020407\n",
      "SECTOR                0.020705\n",
      "TIPO_PACIENTE         0.023705\n",
      "OTRA_COM              0.760857\n",
      "OBESIDAD              0.777056\n",
      "DIABETES              0.837450\n",
      "TABAQUISMO            0.839493\n",
      "HIPERTENSION          0.863591\n",
      "INMUSUPR              0.864380\n",
      "RENAL_CRONICA         0.885129\n",
      "CARDIOVASCULAR        0.891311\n",
      "ASMA                  0.913553\n",
      "EPOC                  1.000000\n",
      "Name: EPOC, dtype: float64\n",
      "Revisando:  ASMA\n",
      "NEUMONIA             -0.018671\n",
      "ENTIDAD_RES          -0.012645\n",
      "HABLA_LENGUA_INDIG   -0.012507\n",
      "ENTIDAD_UM           -0.011520\n",
      "OTRO_CASO            -0.005145\n",
      "ENTIDAD_NAC          -0.004925\n",
      "PAIS_NACIONALIDAD    -0.001439\n",
      "MUNICIPIO_RES         0.000650\n",
      "SEXO                  0.014413\n",
      "ORIGEN                0.014975\n",
      "EMBARAZO              0.020093\n",
      "SECTOR                0.020623\n",
      "EDAD                  0.021872\n",
      "TIPO_PACIENTE         0.027011\n",
      "OTRA_COM              0.767383\n",
      "OBESIDAD              0.800269\n",
      "DIABETES              0.860428\n",
      "TABAQUISMO            0.864963\n",
      "HIPERTENSION          0.883476\n",
      "INMUSUPR              0.892554\n",
      "RENAL_CRONICA         0.905527\n",
      "CARDIOVASCULAR        0.907822\n",
      "EPOC                  0.913553\n",
      "ASMA                  1.000000\n",
      "Name: ASMA, dtype: float64\n",
      "Revisando:  INMUSUPR\n",
      "NEUMONIA             -0.020562\n",
      "ENTIDAD_RES          -0.017457\n",
      "ENTIDAD_UM           -0.016161\n",
      "HABLA_LENGUA_INDIG   -0.014231\n",
      "ENTIDAD_NAC          -0.008289\n",
      "OTRO_CASO            -0.004981\n",
      "PAIS_NACIONALIDAD    -0.001219\n",
      "MUNICIPIO_RES        -0.000714\n",
      "ORIGEN                0.009387\n",
      "SEXO                  0.011753\n",
      "EMBARAZO              0.017521\n",
      "EDAD                  0.021747\n",
      "SECTOR                0.022239\n",
      "TIPO_PACIENTE         0.027744\n",
      "OBESIDAD              0.767233\n",
      "OTRA_COM              0.801636\n",
      "DIABETES              0.814163\n",
      "TABAQUISMO            0.837099\n",
      "HIPERTENSION          0.852843\n",
      "EPOC                  0.864380\n",
      "RENAL_CRONICA         0.872475\n",
      "CARDIOVASCULAR        0.877711\n",
      "ASMA                  0.892554\n",
      "INMUSUPR              1.000000\n",
      "Name: INMUSUPR, dtype: float64\n",
      "Revisando:  HIPERTENSION\n",
      "ENTIDAD_RES          -0.013500\n",
      "HABLA_LENGUA_INDIG   -0.012833\n",
      "ENTIDAD_UM           -0.011941\n",
      "ENTIDAD_NAC          -0.006563\n",
      "EDAD                 -0.004768\n",
      "NEUMONIA             -0.004451\n",
      "OTRO_CASO            -0.004211\n",
      "PAIS_NACIONALIDAD    -0.001123\n",
      "MUNICIPIO_RES         0.000846\n",
      "TIPO_PACIENTE         0.010232\n",
      "SEXO                  0.012847\n",
      "EMBARAZO              0.018614\n",
      "ORIGEN                0.020681\n",
      "SECTOR                0.028151\n",
      "OTRA_COM              0.746001\n",
      "OBESIDAD              0.781899\n",
      "TABAQUISMO            0.835786\n",
      "INMUSUPR              0.852843\n",
      "DIABETES              0.853923\n",
      "EPOC                  0.863591\n",
      "RENAL_CRONICA         0.879194\n",
      "ASMA                  0.883476\n",
      "CARDIOVASCULAR        0.886849\n",
      "HIPERTENSION          1.000000\n",
      "Name: HIPERTENSION, dtype: float64\n",
      "Revisando:  OTRA_COM\n",
      "NEUMONIA             -0.034588\n",
      "ENTIDAD_RES          -0.017855\n",
      "HABLA_LENGUA_INDIG   -0.017723\n",
      "ENTIDAD_UM           -0.017260\n",
      "ENTIDAD_NAC          -0.008563\n",
      "PAIS_NACIONALIDAD    -0.001731\n",
      "ORIGEN               -0.001155\n",
      "OTRO_CASO             0.001362\n",
      "MUNICIPIO_RES         0.001628\n",
      "SEXO                  0.015244\n",
      "EMBARAZO              0.020114\n",
      "EDAD                  0.021475\n",
      "SECTOR                0.030597\n",
      "TIPO_PACIENTE         0.036681\n",
      "OBESIDAD              0.677826\n",
      "DIABETES              0.707433\n",
      "TABAQUISMO            0.732105\n",
      "HIPERTENSION          0.746001\n",
      "EPOC                  0.760857\n",
      "RENAL_CRONICA         0.766368\n",
      "ASMA                  0.767383\n",
      "CARDIOVASCULAR        0.787816\n",
      "INMUSUPR              0.801636\n",
      "OTRA_COM              1.000000\n",
      "Name: OTRA_COM, dtype: float64\n",
      "Revisando:  CARDIOVASCULAR\n",
      "NEUMONIA             -0.018815\n",
      "HABLA_LENGUA_INDIG   -0.015105\n",
      "ENTIDAD_RES          -0.011738\n",
      "ENTIDAD_UM           -0.009901\n",
      "OTRO_CASO            -0.005282\n",
      "ENTIDAD_NAC          -0.004295\n",
      "PAIS_NACIONALIDAD    -0.001535\n",
      "MUNICIPIO_RES         0.003049\n",
      "SEXO                  0.013025\n",
      "ORIGEN                0.014615\n",
      "EDAD                  0.018287\n",
      "EMBARAZO              0.018807\n",
      "SECTOR                0.021585\n",
      "TIPO_PACIENTE         0.026123\n",
      "OTRA_COM              0.787816\n",
      "OBESIDAD              0.801246\n",
      "DIABETES              0.839554\n",
      "TABAQUISMO            0.866730\n",
      "INMUSUPR              0.877711\n",
      "HIPERTENSION          0.886849\n",
      "EPOC                  0.891311\n",
      "ASMA                  0.907822\n",
      "RENAL_CRONICA         0.912123\n",
      "CARDIOVASCULAR        1.000000\n",
      "Name: CARDIOVASCULAR, dtype: float64\n",
      "Revisando:  OBESIDAD\n",
      "NEUMONIA             -0.025213\n",
      "ENTIDAD_RES          -0.013536\n",
      "ENTIDAD_UM           -0.011610\n",
      "HABLA_LENGUA_INDIG   -0.009587\n",
      "OTRO_CASO            -0.007967\n",
      "ENTIDAD_NAC          -0.005834\n",
      "PAIS_NACIONALIDAD    -0.001197\n",
      "MUNICIPIO_RES         0.002000\n",
      "SEXO                  0.013402\n",
      "EDAD                  0.015521\n",
      "EMBARAZO              0.018913\n",
      "ORIGEN                0.022188\n",
      "SECTOR                0.028756\n",
      "TIPO_PACIENTE         0.030512\n",
      "OTRA_COM              0.677826\n",
      "DIABETES              0.735124\n",
      "INMUSUPR              0.767233\n",
      "TABAQUISMO            0.776795\n",
      "EPOC                  0.777056\n",
      "HIPERTENSION          0.781899\n",
      "ASMA                  0.800269\n",
      "CARDIOVASCULAR        0.801246\n",
      "RENAL_CRONICA         0.801520\n",
      "OBESIDAD              1.000000\n",
      "Name: OBESIDAD, dtype: float64\n",
      "Revisando:  RENAL_CRONICA\n",
      "HABLA_LENGUA_INDIG   -0.015626\n",
      "NEUMONIA             -0.014475\n",
      "ENTIDAD_RES          -0.012244\n",
      "ENTIDAD_UM           -0.010724\n",
      "OTRO_CASO            -0.006833\n",
      "ENTIDAD_NAC          -0.004934\n",
      "MUNICIPIO_RES        -0.000981\n",
      "PAIS_NACIONALIDAD    -0.000762\n",
      "SEXO                  0.011673\n",
      "ORIGEN                0.016938\n",
      "EMBARAZO              0.017537\n",
      "EDAD                  0.018223\n",
      "SECTOR                0.021863\n",
      "TIPO_PACIENTE         0.022451\n",
      "OTRA_COM              0.766368\n",
      "OBESIDAD              0.801520\n",
      "DIABETES              0.831728\n",
      "TABAQUISMO            0.864099\n",
      "INMUSUPR              0.872475\n",
      "HIPERTENSION          0.879194\n",
      "EPOC                  0.885129\n",
      "ASMA                  0.905527\n",
      "CARDIOVASCULAR        0.912123\n",
      "RENAL_CRONICA         1.000000\n",
      "Name: RENAL_CRONICA, dtype: float64\n",
      "Revisando:  TABAQUISMO\n",
      "NEUMONIA             -0.019410\n",
      "HABLA_LENGUA_INDIG   -0.013830\n",
      "OTRO_CASO            -0.008519\n",
      "ENTIDAD_RES          -0.007556\n",
      "ENTIDAD_UM           -0.006233\n",
      "ENTIDAD_NAC          -0.001899\n",
      "PAIS_NACIONALIDAD    -0.000707\n",
      "MUNICIPIO_RES         0.001834\n",
      "SEXO                  0.008032\n",
      "EMBARAZO              0.013853\n",
      "ORIGEN                0.014457\n",
      "SECTOR                0.017427\n",
      "EDAD                  0.021154\n",
      "TIPO_PACIENTE         0.025985\n",
      "OTRA_COM              0.732105\n",
      "OBESIDAD              0.776795\n",
      "DIABETES              0.793008\n",
      "HIPERTENSION          0.835786\n",
      "INMUSUPR              0.837099\n",
      "EPOC                  0.839493\n",
      "RENAL_CRONICA         0.864099\n",
      "ASMA                  0.864963\n",
      "CARDIOVASCULAR        0.866730\n",
      "TABAQUISMO            1.000000\n",
      "Name: TABAQUISMO, dtype: float64\n",
      "Revisando:  OTRO_CASO\n",
      "NEUMONIA             -0.111274\n",
      "HABLA_LENGUA_INDIG   -0.046040\n",
      "ORIGEN               -0.025157\n",
      "PAIS_NACIONALIDAD    -0.014574\n",
      "TABAQUISMO           -0.008519\n",
      "OBESIDAD             -0.007967\n",
      "DIABETES             -0.007636\n",
      "RENAL_CRONICA        -0.006833\n",
      "EPOC                 -0.006813\n",
      "CARDIOVASCULAR       -0.005282\n",
      "ASMA                 -0.005145\n",
      "INMUSUPR             -0.004981\n",
      "HIPERTENSION         -0.004211\n",
      "OTRA_COM              0.001362\n",
      "MUNICIPIO_RES         0.014577\n",
      "ENTIDAD_RES           0.035251\n",
      "ENTIDAD_UM            0.039240\n",
      "EDAD                  0.039931\n",
      "SEXO                  0.044229\n",
      "EMBARAZO              0.044489\n",
      "ENTIDAD_NAC           0.046442\n",
      "TIPO_PACIENTE         0.070663\n",
      "SECTOR                0.376931\n",
      "OTRO_CASO             1.000000\n",
      "Name: OTRO_CASO, dtype: float64\n",
      "Revisando:  PAIS_NACIONALIDAD\n",
      "ENTIDAD_NAC          -0.370511\n",
      "SECTOR               -0.022416\n",
      "OTRO_CASO            -0.014574\n",
      "NEUMONIA             -0.011646\n",
      "ORIGEN               -0.010562\n",
      "DIABETES             -0.002693\n",
      "SEXO                 -0.001791\n",
      "EMBARAZO             -0.001776\n",
      "OTRA_COM             -0.001731\n",
      "EPOC                 -0.001704\n",
      "CARDIOVASCULAR       -0.001535\n",
      "ASMA                 -0.001439\n",
      "INMUSUPR             -0.001219\n",
      "OBESIDAD             -0.001197\n",
      "HABLA_LENGUA_INDIG   -0.001137\n",
      "HIPERTENSION         -0.001123\n",
      "RENAL_CRONICA        -0.000762\n",
      "TABAQUISMO           -0.000707\n",
      "ENTIDAD_UM            0.005289\n",
      "MUNICIPIO_RES         0.006838\n",
      "ENTIDAD_RES           0.007454\n",
      "EDAD                  0.010177\n",
      "TIPO_PACIENTE         0.013350\n",
      "PAIS_NACIONALIDAD     1.000000\n",
      "Name: PAIS_NACIONALIDAD, dtype: float64\n"
     ]
    }
   ],
   "source": [
    "for i in X_train.columns:\n",
    "    print(\"Revisando: \", i)\n",
    "    print(corr_matrix[i].sort_values(ascending=True))\n",
    "    "
   ]
  },
  {
   "cell_type": "code",
   "execution_count": 318,
   "metadata": {},
   "outputs": [],
   "source": [
    "from sklearn.metrics import roc_curve"
   ]
  },
  {
   "cell_type": "code",
   "execution_count": 322,
   "metadata": {},
   "outputs": [],
   "source": [
    "fpr1, tpr1, threshold1 = roc_curve(y_test, primera, pos_label=2)\n",
    "fpr2, tpr2, threshold2 = roc_curve(y_test, pred2, pos_label=2)\n",
    "fpr3, tpr3, threshold3 = roc_curve(y_test, pred3, pos_label=2)\n",
    "fpr4, tpr4, threshold4 = roc_curve(y_test, pred4, pos_label=2)\n",
    "fpr5, tpr5, threshold5 = roc_curve(y_test, pred5, pos_label=2)\n",
    "fpr6, tpr6, threshold6 = roc_curve(y_test, pred6, pos_label=2)\n",
    "fpr7, tpr7, threshold7 = roc_curve(y_test, pred7, pos_label=2)"
   ]
  },
  {
   "cell_type": "code",
   "execution_count": 370,
   "metadata": {},
   "outputs": [
    {
     "data": {
      "image/png": "[encoded data removed]",
      "text/plain": [
       "<Figure size 432x288 with 1 Axes>"
      ]
     },
     "metadata": {
      "needs_background": "light"
     },
     "output_type": "display_data"
    }
   ],
   "source": [
    "import matplotlib.pyplot as plt\n",
    "def plot_roc_curve(fpr, tpr, label=None):\n",
    "    plt.plot(fpr, tpr, label=label)\n",
    "    plt.plot([0,1],[0,1], 'k--')\n",
    "    plt.grid(True)\n",
    "    [...]\n",
    "\n",
    "plot_roc_curve(fpr1, tpr1)\n",
    "plot_roc_curve(fpr2, tpr2)\n",
    "plot_roc_curve(fpr3, tpr3)\n",
    "plot_roc_curve(fpr4, tpr4)\n",
    "plot_roc_curve(fpr5, tpr5)\n",
    "#çplot_roc_curve(fpr6, tpr6)\n",
    "#plot_roc_curve(fpr7, tpr7)\n",
    "plt.show()"
   ]
  },
  {
   "cell_type": "code",
   "execution_count": 350,
   "metadata": {},
   "outputs": [
    {
     "name": "stdout",
     "output_type": "stream",
     "text": [
      "              precision    recall  f1-score   support\n",
      "\n",
      "           1       0.63      0.41      0.49     26738\n",
      "           2       0.71      0.86      0.78     45421\n",
      "\n",
      "    accuracy                           0.69     72159\n",
      "   macro avg       0.67      0.63      0.64     72159\n",
      "weighted avg       0.68      0.69      0.67     72159\n",
      " 0.6923737856677614\n"
     ]
    }
   ],
   "source": [
    "from sklearn.tree import DecisionTreeClassifier\n",
    "clfTree = DecisionTreeClassifier(max_depth=11, random_state=42)\n",
    "clfTree.fit(X_train, y_train)\n",
    "predTree = clfTree.predict(X_test)\n",
    "print(classification_report(y_test, predTree), metrics.accuracy_score(y_test, predTree))"
   ]
  },
  {
   "cell_type": "code",
   "execution_count": 358,
   "metadata": {},
   "outputs": [
    {
     "data": {
      "text/plain": [
       "array([0.01538296, 0.07115549, 0.12578786, 0.00773164, 0.02287042,\n",
       "       0.09349497, 0.14690453, 0.22319945, 0.02697022, 0.16380333,\n",
       "       0.01798859, 0.00254326, 0.00535532, 0.0126154 , 0.00253611,\n",
       "       0.01031203, 0.00391281, 0.00916712, 0.00204232, 0.01389135,\n",
       "       0.00796603, 0.00485406, 0.00853246, 0.00098227])"
      ]
     },
     "execution_count": 358,
     "metadata": {},
     "output_type": "execute_result"
    }
   ],
   "source": [
    "clfTree.feature_importances_"
   ]
  },
  {
   "cell_type": "code",
   "execution_count": 356,
   "metadata": {},
   "outputs": [
    {
     "data": {
      "text/plain": [
       "(146504, 24)"
      ]
     },
     "execution_count": 356,
     "metadata": {},
     "output_type": "execute_result"
    }
   ],
   "source": [
    "X_train.shape"
   ]
  },
  {
   "cell_type": "code",
   "execution_count": 365,
   "metadata": {},
   "outputs": [
    {
     "data": {
      "text/plain": [
       "Index(['ORIGEN', 'SECTOR', 'ENTIDAD_UM', 'SEXO', 'ENTIDAD_NAC', 'ENTIDAD_RES',\n",
       "       'MUNICIPIO_RES', 'TIPO_PACIENTE', 'NEUMONIA', 'EDAD', 'EMBARAZO',\n",
       "       'HABLA_LENGUA_INDIG', 'DIABETES', 'EPOC', 'ASMA', 'INMUSUPR',\n",
       "       'HIPERTENSION', 'OTRA_COM', 'CARDIOVASCULAR', 'OBESIDAD',\n",
       "       'RENAL_CRONICA', 'TABAQUISMO', 'OTRO_CASO', 'PAIS_NACIONALIDAD'],\n",
       "      dtype='object')"
      ]
     },
     "execution_count": 365,
     "metadata": {},
     "output_type": "execute_result"
    }
   ],
   "source": [
    "X_train.columns"
   ]
  },
  {
   "cell_type": "code",
   "execution_count": 371,
   "metadata": {},
   "outputs": [
    {
     "data": {
      "text/plain": [
       "<function matplotlib.pyplot.show(*args, **kw)>"
      ]
     },
     "execution_count": 371,
     "metadata": {},
     "output_type": "execute_result"
    },
    {
     "data": {
      "image/png": "[encoded data removed]",
      "text/plain": [
       "<Figure size 432x288 with 1 Axes>"
      ]
     },
     "metadata": {
      "needs_background": "light"
     },
     "output_type": "display_data"
    }
   ],
   "source": [
    "fpr5, tpr5, threshold5 = roc_curve(y_test, predTree, pos_label=2)\n",
    "plot_roc_curve(fpr5, tpr5)\n",
    "plt.show"
   ]
  },
  {
   "cell_type": "code",
   "execution_count": 372,
   "metadata": {},
   "outputs": [],
   "source": [
    "from sklearn.metrics import fbeta_score"
   ]
  },
  {
   "cell_type": "code",
   "execution_count": 385,
   "metadata": {},
   "outputs": [
    {
     "name": "stdout",
     "output_type": "stream",
     "text": [
      "Decistion Trees 1: \n",
      " F_beta: 0.6695313501227478 Accuracy:  0.32307876611854613 the rest \n",
      "               precision    recall  f1-score   support\n",
      "\n",
      "           1       0.62      0.41      0.49     26738\n",
      "           2       0.71      0.85      0.77     45421\n",
      "\n",
      "    accuracy                           0.69     72159\n",
      "   macro avg       0.66      0.63      0.63     72159\n",
      "weighted avg       0.67      0.69      0.67     72159\n",
      "\n"
     ]
    }
   ],
   "source": [
    "print(\"Decistion Trees 1: \\n\", \"F_beta:\",fbeta_score(y_test, primera, average='weighted', beta=0.5), \"Accuracy: \", metrics.average_precision_score(y_test, primera), \"the rest \\n\", classification_report(y_test, primera))\n"
   ]
  },
  {
   "cell_type": "code",
   "execution_count": 384,
   "metadata": {},
   "outputs": [
    {
     "name": "stdout",
     "output_type": "stream",
     "text": [
      "NB Bernoulli: \n",
      " F_beta: 0.42792957732682024 Accuracy:  0.3705428290303358 the rest \n",
      "               precision    recall  f1-score   support\n",
      "\n",
      "           1       0.00      0.00      0.00     26738\n",
      "           2       0.63      1.00      0.77     45421\n",
      "\n",
      "    accuracy                           0.63     72159\n",
      "   macro avg       0.31      0.50      0.39     72159\n",
      "weighted avg       0.40      0.63      0.49     72159\n",
      "\n"
     ]
    },
    {
     "name": "stderr",
     "output_type": "stream",
     "text": [
      "/opt/anaconda3/lib/python3.7/site-packages/sklearn/metrics/classification.py:1437: UndefinedMetricWarning: F-score is ill-defined and being set to 0.0 in labels with no predicted samples.\n",
      "  'precision', 'predicted', average, warn_for)\n"
     ]
    }
   ],
   "source": [
    "print(\"NB Bernoulli: \\n\", \"F_beta:\",fbeta_score(y_test, pred2, average='weighted', beta=0.5), \"Accuracy: \", metrics.average_precision_score(y_test, pred2), \"the rest \\n\", classification_report(y_test, pred2))\n"
   ]
  },
  {
   "cell_type": "code",
   "execution_count": 379,
   "metadata": {},
   "outputs": [
    {
     "name": "stdout",
     "output_type": "stream",
     "text": [
      "NB Gaussian: \n",
      " F_beta: 0.42792957732682024 Accuracy:  0.3705428290303358 the rest: \n",
      "               precision    recall  f1-score   support\n",
      "\n",
      "           1       0.00      0.00      0.00     26738\n",
      "           2       0.63      1.00      0.77     45421\n",
      "\n",
      "    accuracy                           0.63     72159\n",
      "   macro avg       0.31      0.50      0.39     72159\n",
      "weighted avg       0.40      0.63      0.49     72159\n",
      "\n"
     ]
    }
   ],
   "source": [
    "print(\"NB Gaussian: \\n\", \"F_beta:\",fbeta_score(y_test, pred3, average='weighted', beta=0.5), \"Accuracy: \", metrics.average_precision_score(y_test, pred3), \"the rest: \\n\", classification_report(y_test, pred3))\n"
   ]
  },
  {
   "cell_type": "code",
   "execution_count": 381,
   "metadata": {},
   "outputs": [
    {
     "name": "stdout",
     "output_type": "stream",
     "text": [
      "KNN - k29: \n",
      " F_beta: 0.6510542899293847 Accuracy:  0.3277964020059667 the rest: \n",
      "               precision    recall  f1-score   support\n",
      "\n",
      "           1       0.57      0.40      0.47     26738\n",
      "           2       0.70      0.82      0.76     45421\n",
      "\n",
      "    accuracy                           0.67     72159\n",
      "   macro avg       0.64      0.61      0.62     72159\n",
      "weighted avg       0.65      0.67      0.65     72159\n",
      "\n"
     ]
    }
   ],
   "source": [
    "print(\"KNN - k29: \\n\", \"F_beta:\",fbeta_score(y_test, pred6, average='weighted', beta=0.5), \"Accuracy: \", metrics.average_precision_score(y_test, pred6), \"the rest: \\n\", classification_report(y_test, pred6))\n"
   ]
  },
  {
   "cell_type": "code",
   "execution_count": 382,
   "metadata": {},
   "outputs": [
    {
     "name": "stdout",
     "output_type": "stream",
     "text": [
      "KNN - k26: \n",
      " F_beta: 0.6510542899293847 Accuracy:  0.3277964020059667 the rest: \n",
      "               precision    recall  f1-score   support\n",
      "\n",
      "           1       0.57      0.40      0.47     26738\n",
      "           2       0.70      0.82      0.76     45421\n",
      "\n",
      "    accuracy                           0.67     72159\n",
      "   macro avg       0.64      0.61      0.62     72159\n",
      "weighted avg       0.65      0.67      0.65     72159\n",
      "\n"
     ]
    }
   ],
   "source": [
    "print(\"KNN - k26: \\n\", \"F_beta:\",fbeta_score(y_test, pred7, average='weighted', beta=0.5), \"Accuracy: \", metrics.average_precision_score(y_test, pred7), \"the rest: \\n\", classification_report(y_test, pred7))\n"
   ]
  },
  {
   "cell_type": "code",
   "execution_count": 383,
   "metadata": {},
   "outputs": [
    {
     "name": "stdout",
     "output_type": "stream",
     "text": [
      "Tree 2: \n",
      " F_beta: 0.6744767896081795 Accuracy:  0.3220393614399577 the rest: \n",
      "               precision    recall  f1-score   support\n",
      "\n",
      "           1       0.63      0.41      0.49     26738\n",
      "           2       0.71      0.86      0.78     45421\n",
      "\n",
      "    accuracy                           0.69     72159\n",
      "   macro avg       0.67      0.63      0.64     72159\n",
      "weighted avg       0.68      0.69      0.67     72159\n",
      "\n"
     ]
    }
   ],
   "source": [
    "print(\"Tree 2: \\n\", \"F_beta:\",fbeta_score(y_test, predTree, average='weighted', beta=0.5), \"Accuracy: \", metrics.average_precision_score(y_test, predTree), \"the rest: \\n\", classification_report(y_test, predTree))\n"
   ]
  },
  {
   "cell_type": "code",
   "execution_count": null,
   "metadata": {},
   "outputs": [],
   "source": []
  }
 ],
 "metadata": {
  "kernelspec": {
   "display_name": "Python 3",
   "language": "python",
   "name": "python3"
  },
  "language_info": {
   "codemirror_mode": {
    "name": "ipython",
    "version": 3
   },
   "file_extension": ".py",
   "mimetype": "text/x-python",
   "name": "python",
   "nbconvert_exporter": "python",
   "pygments_lexer": "ipython3",
   "version": "3.7.4"
  }
 },
 "nbformat": 4,
 "nbformat_minor": 2
}
